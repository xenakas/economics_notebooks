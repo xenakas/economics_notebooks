{
 "cells": [
  {
   "cell_type": "markdown",
   "metadata": {},
   "source": [
    "#  Развитие моделей мировой торговли: микроосновы"
   ]
  },
  {
   "cell_type": "markdown",
   "metadata": {},
   "source": [
    "Кривые безразличия: \n",
    "\n",
    "- выпуклость предпочтений\n",
    "\n",
    "Важно также упомянуть, что выпуклые кривые\n",
    "безразличия являются двухмерной проекцией квазивогнутых функций полезности, однако\n",
    "из квазивогнутости не следует выпуклость предпочтений, ее следует проверять отдельно.\n",
    "Квазивогнутой является функция, у которой подграфик является выпуклым в любом своем\n",
    "горизонтальном сечении. \n",
    "\n",
    "- непрерывность \n",
    "\n",
    " Непрерывность предпочтений гарантирует отсутствие скачков\n",
    "\n",
    "- монотонность\n"
   ]
  },
  {
   "cell_type": "markdown",
   "metadata": {},
   "source": [
    "Для нахождения равновесия в общем случае решается задача:\n",
    "\n",
    "$$ \\max_{x_1^1, x_2^1} U_1(x_1^1, x_2^1) $$\n",
    "\n",
    "$$ p_1x_1^1+p_2x_2^1=p_1w_1^1+p_2w_2^1 $$ \n",
    "\n",
    "$$ \\max_{x_1^2, x_2^2} U_1(x_1^2, x_2^2) $$\n",
    "\n",
    "$$ p_1x_1^2+p_2x_2^2=p_1w_1^2+p_2w_2^2 $$ \n",
    "\n",
    "$$ x_1^1 + x_1^2 \\leq w_1^1+w_1^2 $$ \n",
    "\n",
    "$$ x_2^1+x_2^2\\leq w_2^1+w_2^2 $$"
   ]
  },
  {
   "cell_type": "markdown",
   "metadata": {},
   "source": [
    "- Для существования равновесия необходимо выполнение так называемого **market clearing condition (последние две строки в задаче). ** \n",
    "- Закон Вальраса: в условиях равновесия стоимость совокупного избыточного спроса тождественно равна нулю: $$ \\sum p_i z_i = 0$$  \n",
    "\n",
    "Из данного закона для дальнейшего анализа важно сформулировать функцию избыточного спроса, которая равна сумме функций спроса всех\n",
    "агентов на конкретный товар $$ z_i(p_i, p_{-i}) = \\sum x_i^j (p_i,p_{-1}) $$"
   ]
  },
  {
   "cell_type": "markdown",
   "metadata": {},
   "source": [
    "Свойства функции цена-потребление для существования равновесия:\n",
    "- значение функции для каждого набора цен должно быть замкнутым выпуклым множеством товарных наборов\n",
    "- эта функция должна быть непрерывной сверху \n",
    "\n",
    "Для доказательства существования равновесия можно использовать одну из трех теорем:\n",
    "- Теорема Больцано-Коши о нуле непрерывной функции\n",
    "- Теорема Брауэра \n",
    "- Теорема Какутани о неподвижной функции.\n",
    "\n"
   ]
  },
  {
   "cell_type": "markdown",
   "metadata": {},
   "source": [
    "### Теорема Больцано-Коши о нуле непрерывной функции\n",
    "\n",
    "$ z: p \\rightarrow z(p)$\n",
    "\n",
    "Если $z(p) \\in C^0[a,b]$, то на каждом интервале $(\\alpha,\\beta)\\in [a,b]$ функция принимает все промежуточные значения $[z(\\alpha), z(\\beta)]$. \n",
    "\n",
    "Следствие:  если \n",
    "$z(p)$ - функция избыточного спроса, значит она\n",
    "обращается в ноль, таким образом существует точка где избыточный спрос на один из двух\n",
    "товаров нулевой, значит по первому следствию из закона Вальраса избыточный спрос на\n",
    "второй товар также равен нулю, следовательно существует равновесная точка. \n",
    "\n",
    "Формально  для двух состояний экономики $A,B$:\n",
    "\n",
    "$$ 𝐴: z_1 < 0, z_2 > 0 $$ $$B:z_1 > 0, z_2 < 0$$\n",
    "\n",
    "Функция $ Z(p_1) = (z_1(p_1), z_2(p_1))$ непрерывна по определению, поэтому по теореме Больцано-Коши для перехода\n",
    "экономики из состояния A в состояние B каждая из координат должна принять нулевое\n",
    "значение. В точке перехода $E$ избыточный спрос на оба блага равен нулю,  при  нахождении  равновесных цен  она  будет точкой общего экономического\n",
    "равновесия. "
   ]
  },
  {
   "cell_type": "markdown",
   "metadata": {},
   "source": [
    "### Теорема Брауэра о неподвижной точке\n",
    "\n",
    "Теорема Брауэра о неподвижной точке является частным случаем теоремы Какутани. \n",
    "\n",
    "Если $X \\in \\mathbb{R}^n$ – непустое компактное выпуклое множество, $f: X \\rightarrow X$ - непрерывное\n",
    "отображение, то $f(x)$ имеет неподвижную точку: $x_0 = f(x_0)$ \n",
    "\n",
    "Если функция избыточного спроса $z(p)$ существует при всех\n",
    "положительных векторах цен $p \\in \\mathbb{R}_{+}^{L}$, является непрерывной и однородной функцией \n",
    "первой степени, также соблюдается закон Вальраса ($pz(p)=0$  для всех векторов цен), то существует $p^{*}: z(p^{*} \\leq 0)$\n",
    "\n",
    "\n",
    "Однородность дает возможность сократить размерность задачи до одномерного случая $\\Delta = \\{p \\in R^{L}_{+} : \\sum p_l = 1 \\} $, где\n",
    "$ \\alpha(p) = \\sum [p_l + z_l^{+}(p)] ,  z_l^{+}(p) = \\max[z_l(p),0] $, также важно\n",
    "отметить, что $\\alpha(p) \\geq 1 $ для всех цен. \n",
    "\n",
    "Отсюда $ f(p )  = \\frac{1}{\\alpha(p) } (p + z^{+}_l(p)) $ \n",
    "\n",
    "По теореме Брауэра существует $p^{*} \\in \\Delta : p^{∗} = f (p^*) $. \n",
    "\n",
    "\n",
    "Согласно закону Вальраса $  p^∗ z(p^*) = f(p^∗) z(p^*) = \\frac{1}{\\alpha(p^*) } (p^* + z^{+}_l(p^*)) z(p^*)  = 0 $\n",
    "\n",
    "Следовательно $z^{+}_l(p) z(p^*) = 0$, что не противоречит нашему\n",
    "утверждению $z(p^*) \\leq 0$. Значит равновесие существует\n"
   ]
  },
  {
   "cell_type": "markdown",
   "metadata": {},
   "source": [
    "### Теорема Какутани о неподвижной функции.\n"
   ]
  },
  {
   "cell_type": "markdown",
   "metadata": {},
   "source": [
    "http://www.mathnet.or.kr/mathnet/kms_tex/265.pdf\n",
    "\n",
    "https://halshs.archives-ouvertes.fr/halshs-00423878/document\n",
    "\n",
    "https://www.sciencedirect.com/science/article/pii/0304406882900222\n",
    "\n",
    "https://onlinelibrary.wiley.com/doi/abs/10.1111/j.1467-999X.1956.tb00099.x"
   ]
  },
  {
   "cell_type": "markdown",
   "metadata": {},
   "source": [
    "## A Survey of the Theory of International Trade: Part 2, The Neo-Classical Theory"
   ]
  },
  {
   "cell_type": "markdown",
   "metadata": {},
   "source": [
    "WHAT IS generally considered to be the \"neo-classical\" theory of international \n",
    "values actually consists of at least two separate strands that have been gradually \n",
    "woven together. \n",
    "\n",
    "One is the Marshallian apparatus of the reciprocal demand curve \n",
    "(or \"offer curve\"), which is contained in Marshall's \n",
    "Pure Theory. Marshall himself described this work simply as \"a diagrammatic \n",
    "treatment of Mill's problem of international values.\" \n",
    "\n",
    "The other strand consists of what appears to be a spontaneous development \n",
    "on the part of different authors writing (in many cases) independently of one, an- \n",
    "other in the early 1930's. The diagrammatic technique introduced by these writers was finally perfected by Meade (1952a), and the model was given mathematical rigor by Nikaido (1956, 1957). \n",
    "The method followed by Leontief (1933) and Lerner (1934) was that of obtaining a country's offer curve from its community indifference curves, by analogy to the corresponding derivation for the case of an individual. This derivation was already quite implicit in the work of Edgeworth (1881, pp. 104-16), who did not bother to fill in the geometrical details; these details were filled in by Pareto (1909, pp. 169-97), W. E. Johnson (1913), and Bowley (1924, pp. 5-18).A Survey of the Theory of International Trade: Part 2, The Neo-Classical Theory"
   ]
  },
  {
   "cell_type": "markdown",
   "metadata": {},
   "source": []
  },
  {
   "cell_type": "markdown",
   "metadata": {},
   "source": []
  }
 ],
 "metadata": {
  "kernelspec": {
   "display_name": "Python 3",
   "language": "python",
   "name": "python3"
  },
  "language_info": {
   "codemirror_mode": {
    "name": "ipython",
    "version": 3
   },
   "file_extension": ".py",
   "mimetype": "text/x-python",
   "name": "python",
   "nbconvert_exporter": "python",
   "pygments_lexer": "ipython3",
   "version": "3.6.5"
  }
 },
 "nbformat": 4,
 "nbformat_minor": 2
}
