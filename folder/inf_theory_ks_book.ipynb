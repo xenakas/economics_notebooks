{
 "cells": [
  {
   "cell_type": "markdown",
   "metadata": {},
   "source": [
    "### Основные понятия теории информации"
   ]
  },
  {
   "cell_type": "markdown",
   "metadata": {},
   "source": [
    "#### Введение\n",
    "\n",
    "Энтропия и коды, формирующие\n",
    "основу информационно-теоретического подхода к случайным процессам,\n",
    "были введены Шенноном в 1940-х гг., в довольно завершённой форме\n",
    "в публикациях. Конечно, понятие энтропии уже существовало\n",
    "в термодинамике, и его очень хорошо осознавали Больцман и Гиббс на\n",
    "стыке XIX и XX столетий. Коды также эффективно применялись на прак-\n",
    "тике со времен античного мира. \n",
    "\n"
   ]
  },
  {
   "cell_type": "markdown",
   "metadata": {},
   "source": [
    "##### [Information Theory vs Cybernetics](https://www.tandfonline.com/doi/abs/10.1080/01969727408621678?journalCode=ucbs19)"
   ]
  },
  {
   "cell_type": "markdown",
   "metadata": {},
   "source": [
    "Along with advances in this area and concurrent with the\n",
    "development of devices for transmitting and processing information, the content (as\n",
    "opposed to purely the \"amount\") of information passed by any message has also come\n",
    "under scruntiny.\n",
    "\n",
    "In 1948, C. E. Shannon, an American mathematician,\n",
    "published a theory which would enable this measurement. In a paper entitled \"The\n",
    "Mathematical Theory of Communication\" he quantified one measure for the amount of\n",
    "information conveyed by messages\n",
    "\n",
    "The theory showed how to determine the capacity of a communication channel and made possible comparisons between channels. His theory\n",
    "clarified the important concept of a code and showed how to determine the efficiency of\n",
    "a given coding system. \n",
    "\n",
    "Dr. Norbert Wiener (1948) coined the term \"cybernetics\" to include not only the\n",
    "study of language (information theory), but also the study of messages as a means of\n",
    "controlling machinery and society, the development of computing machines and other\n",
    "such automata, certain reflections upon psychology and the nervous system, and a\n",
    "tentative new theory of scientific method\n",
    "\n",
    "The first scientific paper contributing\n",
    "directly to the ideas behind this field-published in 1868 by the British physicist J. C.\n",
    "Maxwell-was called \"The Theory of Governors,\" and dealt with self-regulating or\n",
    "feedback mechanisms. \n",
    "- [Reversing Entropy with Maxwell's Demon](https://www.youtube.com/watch?v=KR23aMjIHIY&vl=en)\n",
    "    - Maxwell's demon is a thought experiment created by the physicist James Clerk Maxwell in 1867 in which he suggested how the second law of thermodynamics might hypothetically be violated. In the thought experiment, a demon controls a small door between two chambers of gas. As individual gas molecules approach the door, the demon quickly opens and shuts the door so that only fast molecules are passed into one of the chambers, while only slow molecules are passed into the other. Because faster molecules are hotter, the demon's behaviour causes one chamber to warm up and the other to cool down, thereby decreasing entropy and violating the second law of thermodynamics. This thought experiment has provoked debate and theoretical work on the relation between thermodynamics and information theory extending to the present day, with a number of scientists arguing that theoretical considerations rule out any practical device violating the second law in this way.\n",
    "    - The second law of thermodynamics states that the total entropy of an isolated system can never decrease over time. The total entropy of a system and its surroundings can remain constant in ideal cases where the system is in thermodynamic equilibrium, or is undergoing a (fictive) reversible process. In all processes that occur, including spontaneous processes, the total entropy of the system and its surroundings increases and the process is irreversible in the thermodynamic sense. The increase in entropy accounts for the irreversibility of natural processes, and the asymmetry between future and past.\n",
    "    \n",
    "The words \"feedback\" and \"control\" lie at the heart of the meaning of cybernetics.\n",
    "Feedback is the property of being able to adjust future conduct by past performance, a fundamental principle of control. Cybernetics emphasizes the information-processing analysis of mechanisms which generate this purposeful behavior,\n",
    "and therefore it is easy to understand the influence of the modern digital computer as a\n",
    "major force molding the development of cybernetics.\n",
    "\n",
    "There are three basic characteristics in cybernetics. They are: \n",
    "- self-regulation (feedback to homeostasis - there is a mechanism\n",
    "to compare output with a goal and take corrective action, if necessary, to bring the\n",
    "system into equilibrium)\n",
    "- probabilism (statistics to the theory of information - a machine in its initial state is full of uncertainty; its content is in chaos. A degree of order (control) is introduced through the use of\n",
    "information, because information reduces uncertainty and contributes to order. This is to\n",
    "say that a system or machine can be replaced by a logical description or model and a set\n",
    "of rules for making it change state may be developed. To ensure that enough information\n",
    "can flow inside the system to account for its observed behavior, its capacity to communicate\n",
    "internally can be measured by the theory of information. This measurement\n",
    "enables the optimum use of information within the system)\n",
    "- extreme complexity (a system so complex that it is accepted as\n",
    "indefinable in detail is handled by application of the \"black box\" technique. This box\n",
    "stands for the control mechanism of the system; it is called \"black\" because it is\n",
    "unknown in its operational details. Its application specifies that only understanding the\n",
    "inputs and results are important—not how the transformation between input and output\n",
    "take place. The complexity of a model which can be analyzed by cybernetic technique\n",
    "will depend upon the ingenuity and ability of the researcher to transform the system into\n",
    "a cybernetic model. An elementary cybernetic model is shown in figure 1.)"
   ]
  },
  {
   "cell_type": "markdown",
   "metadata": {},
   "source": [
    "#### Основные понятия. Неравенство Крафта. Кодирование Хаффмана 12\n"
   ]
  },
  {
   "cell_type": "markdown",
   "metadata": {},
   "source": [
    "#### Понятие энтропии 30\n"
   ]
  },
  {
   "cell_type": "markdown",
   "metadata": {},
   "source": [
    "#### Дифференциальная энтропия и её свойства 102\n"
   ]
  },
  {
   "cell_type": "markdown",
   "metadata": {},
   "source": [
    "#### Первая теорема Шеннона о кодировании. Энтропийная скорость марковского источника 54\n"
   ]
  },
  {
   "cell_type": "markdown",
   "metadata": {},
   "source": [
    "#### Каналы передачи информации. Правила декодирования. Вторая теорема Шеннона о кодировании 72\n"
   ]
  },
  {
   "cell_type": "code",
   "execution_count": null,
   "metadata": {},
   "outputs": [],
   "source": []
  }
 ],
 "metadata": {
  "hide_input": false,
  "kernelspec": {
   "display_name": "Python 3",
   "language": "python",
   "name": "python3"
  },
  "language_info": {
   "codemirror_mode": {
    "name": "ipython",
    "version": 3
   },
   "file_extension": ".py",
   "mimetype": "text/x-python",
   "name": "python",
   "nbconvert_exporter": "python",
   "pygments_lexer": "ipython3",
   "version": "3.7.3"
  },
  "latex_envs": {
   "LaTeX_envs_menu_present": true,
   "autoclose": true,
   "autocomplete": true,
   "bibliofile": "biblio.bib",
   "cite_by": "apalike",
   "current_citInitial": 1,
   "eqLabelWithNumbers": true,
   "eqNumInitial": 1,
   "hotkeys": {
    "equation": "Ctrl-E",
    "itemize": "Ctrl-I"
   },
   "labels_anchors": false,
   "latex_user_defs": false,
   "report_style_numbering": false,
   "user_envs_cfg": false
  },
  "toc": {
   "base_numbering": 1,
   "nav_menu": {},
   "number_sections": true,
   "sideBar": true,
   "skip_h1_title": false,
   "title_cell": "Table of Contents",
   "title_sidebar": "Contents",
   "toc_cell": false,
   "toc_position": {},
   "toc_section_display": true,
   "toc_window_display": false
  },
  "varInspector": {
   "cols": {
    "lenName": 16,
    "lenType": 16,
    "lenVar": 40
   },
   "kernels_config": {
    "python": {
     "delete_cmd_postfix": "",
     "delete_cmd_prefix": "del ",
     "library": "var_list.py",
     "varRefreshCmd": "print(var_dic_list())"
    },
    "r": {
     "delete_cmd_postfix": ") ",
     "delete_cmd_prefix": "rm(",
     "library": "var_list.r",
     "varRefreshCmd": "cat(var_dic_list()) "
    }
   },
   "types_to_exclude": [
    "module",
    "function",
    "builtin_function_or_method",
    "instance",
    "_Feature"
   ],
   "window_display": false
  }
 },
 "nbformat": 4,
 "nbformat_minor": 2
}
