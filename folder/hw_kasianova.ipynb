{
 "cells": [
  {
   "cell_type": "markdown",
   "metadata": {},
   "source": [
    "### Решающие Деревья"
   ]
  },
  {
   "cell_type": "markdown",
   "metadata": {},
   "source": [
    "#### Задача 6 (5 баллов). "
   ]
  },
  {
   "cell_type": "markdown",
   "metadata": {},
   "source": [
    "Задачка-подсказка:\n",
    "\n",
    "У Винни-Пуха есть 100 песенок. Каждый день он выбирает и поёт одну из них равновероятно наугад. Одну и ту же песенку он может петь несколько\n",
    "раз. Сколько в среднем песенок оказываются неспетыми за 100 дней?"
   ]
  },
  {
   "cell_type": "markdown",
   "metadata": {},
   "source": [
    "$ P(\\text{песенка не спета}) = 99/100   $\n",
    "\n",
    "$ P(\\text{песенка не спета за 100 дней}) = (99/100)^{100} =  0.366  $\n"
   ]
  },
  {
   "cell_type": "code",
   "execution_count": 134,
   "metadata": {},
   "outputs": [
    {
     "data": {
      "text/plain": [
       "0.3660323412732292"
      ]
     },
     "execution_count": 134,
     "metadata": {},
     "output_type": "execute_result"
    }
   ],
   "source": [
    "(99/100)**100"
   ]
  },
  {
   "cell_type": "markdown",
   "metadata": {},
   "source": [
    "Вероятность того, что наблюдение не попадает в выборку,\n",
    "устремите $n$ к бесконечности и воспользуйтесь вторым замечательным пределом.\n",
    "\n",
    "$ P(\\text{наблюдение не попадает в выборку}) = \\lim_{n\\to\\infty}(n-1/n)^{n} = 1/e = 0.37$\n",
    ".\n"
   ]
  },
  {
   "cell_type": "code",
   "execution_count": 139,
   "metadata": {},
   "outputs": [
    {
     "data": {
      "text/plain": [
       "0.36787944117144233"
      ]
     },
     "execution_count": 139,
     "metadata": {},
     "output_type": "execute_result"
    }
   ],
   "source": [
    "from math import e\n",
    "1/e"
   ]
  },
  {
   "cell_type": "markdown",
   "metadata": {},
   "source": [
    "Каждое дерево в случайном лесе строится с использованием примерно 63% выборки: "
   ]
  },
  {
   "cell_type": "markdown",
   "metadata": {},
   "source": [
    "\n",
    "$ P(\\text{наблюдение попадает в выборку}) = 1 - 0.37 = 0.63$"
   ]
  },
  {
   "cell_type": "markdown",
   "metadata": {},
   "source": [
    "#### Задача 7 (10 баллов). \n",
    "\n",
    "Выращиваем регрессионное дерево в домашних условиях:"
   ]
  },
  {
   "cell_type": "code",
   "execution_count": 141,
   "metadata": {},
   "outputs": [],
   "source": [
    "x = np.array([0,1,2,3])\n",
    "y = np.array([5,6,4,100])"
   ]
  },
  {
   "cell_type": "markdown",
   "metadata": {},
   "source": [
    "Критерий деления вершины — минимизация квадратичной функции потерь. Критерий остановки — три листа. Зачем нужен критерий остановки? Как дерево ведёт себя с выбросами?"
   ]
  },
  {
   "cell_type": "markdown",
   "metadata": {},
   "source": [
    "1 шаг"
   ]
  },
  {
   "cell_type": "markdown",
   "metadata": {},
   "source": [
    "$x \\leq 0$"
   ]
  },
  {
   "cell_type": "code",
   "execution_count": 149,
   "metadata": {},
   "outputs": [
    {
     "data": {
      "text/plain": [
       "[5, 36.666666666666664, 36.666666666666664, 36.666666666666664]"
      ]
     },
     "execution_count": 149,
     "metadata": {},
     "output_type": "execute_result"
    }
   ],
   "source": [
    "y_pred = [y[0], np.mean(y[1:]), np.mean(y[1:]), np.mean(y[1:])]\n",
    "y_pred"
   ]
  },
  {
   "cell_type": "code",
   "execution_count": 150,
   "metadata": {},
   "outputs": [
    {
     "data": {
      "text/plain": [
       "6018.666666666666"
      ]
     },
     "execution_count": 150,
     "metadata": {},
     "output_type": "execute_result"
    }
   ],
   "source": [
    "np.sum((y - y_pred)**2) "
   ]
  },
  {
   "cell_type": "markdown",
   "metadata": {},
   "source": [
    "$x \\leq 1$"
   ]
  },
  {
   "cell_type": "code",
   "execution_count": 153,
   "metadata": {},
   "outputs": [
    {
     "data": {
      "text/plain": [
       "[5.5, 5.5, 52.0, 52.0]"
      ]
     },
     "execution_count": 153,
     "metadata": {},
     "output_type": "execute_result"
    }
   ],
   "source": [
    "y_pred = [np.mean(y[0:2]), np.mean(y[0:2]), np.mean(y[2:]), np.mean(y[2:])]\n",
    "y_pred"
   ]
  },
  {
   "cell_type": "code",
   "execution_count": 154,
   "metadata": {},
   "outputs": [
    {
     "data": {
      "text/plain": [
       "4608.5"
      ]
     },
     "execution_count": 154,
     "metadata": {},
     "output_type": "execute_result"
    }
   ],
   "source": [
    "np.sum((y - y_pred)**2) "
   ]
  },
  {
   "cell_type": "markdown",
   "metadata": {},
   "source": [
    "$x \\leq 2$"
   ]
  },
  {
   "cell_type": "code",
   "execution_count": 157,
   "metadata": {},
   "outputs": [
    {
     "data": {
      "text/plain": [
       "[5.0, 5.0, 5.0, 100.0]"
      ]
     },
     "execution_count": 157,
     "metadata": {},
     "output_type": "execute_result"
    }
   ],
   "source": [
    "y_pred = [np.mean(y[0:3]), np.mean(y[0:3]), np.mean(y[0:3]), np.mean(y[3])]\n",
    "y_pred"
   ]
  },
  {
   "cell_type": "code",
   "execution_count": 158,
   "metadata": {},
   "outputs": [
    {
     "data": {
      "text/plain": [
       "2.0"
      ]
     },
     "execution_count": 158,
     "metadata": {},
     "output_type": "execute_result"
    }
   ],
   "source": [
    "np.sum((y - y_pred)**2) "
   ]
  },
  {
   "cell_type": "markdown",
   "metadata": {},
   "source": [
    "Критерий $x \\leq 2$ минимизирует ошибку на первом шаге\n",
    "\n",
    "Выбросы отбрасываются уже на первом шаге "
   ]
  },
  {
   "cell_type": "markdown",
   "metadata": {},
   "source": [
    "2 шаг\n",
    "\n",
    "$x \\leq 0$"
   ]
  },
  {
   "cell_type": "code",
   "execution_count": 160,
   "metadata": {},
   "outputs": [
    {
     "data": {
      "text/plain": [
       "[5, 5.0, 5.0, 100.0]"
      ]
     },
     "execution_count": 160,
     "metadata": {},
     "output_type": "execute_result"
    }
   ],
   "source": [
    "y_pred = [y[0], np.mean(y[1:3]), np.mean(y[1:3]), np.mean(y[3])]\n",
    "y_pred"
   ]
  },
  {
   "cell_type": "code",
   "execution_count": 161,
   "metadata": {},
   "outputs": [
    {
     "data": {
      "text/plain": [
       "2.0"
      ]
     },
     "execution_count": 161,
     "metadata": {},
     "output_type": "execute_result"
    }
   ],
   "source": [
    "np.sum((y - y_pred)**2) "
   ]
  },
  {
   "cell_type": "markdown",
   "metadata": {},
   "source": [
    "$x \\leq 1$"
   ]
  },
  {
   "cell_type": "code",
   "execution_count": 163,
   "metadata": {},
   "outputs": [
    {
     "data": {
      "text/plain": [
       "[5.5, 5.5, 4.0, 100.0]"
      ]
     },
     "execution_count": 163,
     "metadata": {},
     "output_type": "execute_result"
    }
   ],
   "source": [
    "y_pred = [np.mean(y[0:2]), np.mean(y[0:2]), np.mean(y[2]), np.mean(y[3])]\n",
    "y_pred"
   ]
  },
  {
   "cell_type": "code",
   "execution_count": 164,
   "metadata": {},
   "outputs": [
    {
     "data": {
      "text/plain": [
       "0.5"
      ]
     },
     "execution_count": 164,
     "metadata": {},
     "output_type": "execute_result"
    }
   ],
   "source": [
    "np.sum((y - y_pred)**2) "
   ]
  },
  {
   "cell_type": "markdown",
   "metadata": {},
   "source": [
    "Критерий $x \\leq 1$ минимизирует ошибку на втором шаге. \n",
    "\n",
    "Получаем три листа. \n",
    "\n",
    "Если дальше продолжать разбиение, модель переобучится\n"
   ]
  },
  {
   "cell_type": "markdown",
   "metadata": {},
   "source": [
    "#### Задача 8 (10 баллов). \n",
    "\n",
    "Вспоминаем про энтропию. На лекции мы говорили, что энтропия\n",
    "случайной величины отвечает за то, насколько она непредсказуема и находится по формуле\n",
    "$H(X) = −E(\\ln f_X(x))$  для непрерывных величин и $H(X) = −E(\\ln P(X = k))$ для дискретных\n",
    "величин."
   ]
  },
  {
   "cell_type": "markdown",
   "metadata": {},
   "source": [
    "а) Случайная величина $X$ принимает два значения: 0 с вероятностью $p$ и 1 с вероятностью $1−p$.\n",
    "Постройте график зависимости энтропии от $p$. При каком $p$ энтропия будет максимальной?\n",
    "Проинтерпретируйте это. Является ли функция монотонной? Выпуклой?"
   ]
  },
  {
   "cell_type": "markdown",
   "metadata": {},
   "source": [
    "$$H = - E (\\ln p(x=k) ) = - p \\ln p  - (1-p) \\ln (1-p)   $$"
   ]
  },
  {
   "cell_type": "code",
   "execution_count": 182,
   "metadata": {},
   "outputs": [
    {
     "data": {
      "image/png": "[encoded data removed]",
      "text/plain": [
       "<Figure size 432x288 with 1 Axes>"
      ]
     },
     "metadata": {},
     "output_type": "display_data"
    }
   ],
   "source": [
    "plt.plot([ - p * np.log(p) - (1-p)* np.log(1-p) for p in np.linspace(0, 1, num=101)[1:-1] ])\n",
    "plt.xticks(np.linspace(0, 100, num=5), np.linspace(0, 1, num=5) );"
   ]
  },
  {
   "cell_type": "markdown",
   "metadata": {},
   "source": [
    "$$\\frac{\\partial H}{\\partial p}  = \\ln \\frac{1-p}{p} = 0 $$"
   ]
  },
  {
   "cell_type": "markdown",
   "metadata": {},
   "source": [
    "Энтропия максимльна при $p = 1/2$, т.к. мы не знаем какое событие более вероятно, то есть не имеем дополнительной информации об этом. "
   ]
  },
  {
   "cell_type": "markdown",
   "metadata": {},
   "source": [
    "Функция монотонно возрастает  на $(0;1/2]$,  убывает  на $(1/2;1)$"
   ]
  },
  {
   "cell_type": "markdown",
   "metadata": {},
   "source": [
    "$$\\frac{\\partial^2 H}{\\partial p^2}  =  \\frac{-1}{p(1-p)} $$\n",
    "\n",
    "$\\frac{\\partial^2 H}{\\partial p^2}$ меньше нуля на $(0;1) \\Rightarrow $ функция выпуклая"
   ]
  },
  {
   "cell_type": "markdown",
   "metadata": {},
   "source": [
    "б) Пусть теперь $X ∼ Exp(α)$. Найдите энтропию для случайной величины $X$. Как она зависит\n",
    "от $α$? Нарисуйте для разных $α$ функцию плотности случайной величины $X$ и поясните эту\n",
    "зависимость."
   ]
  },
  {
   "cell_type": "markdown",
   "metadata": {},
   "source": [
    "$$H =  -  E(\\ln f_X(x)) =  -  E(\\ln \\alpha e^{-\\alpha x})  = -  E(\\ln \\alpha -  \\alpha x )  \\\\= - \\ln \\alpha + \\alpha E( x )  = 1  - \\ln \\alpha \n",
    "$$"
   ]
  },
  {
   "cell_type": "code",
   "execution_count": 186,
   "metadata": {},
   "outputs": [
    {
     "data": {
      "image/png": "[encoded data removed]",
      "text/plain": [
       "<Figure size 432x288 with 1 Axes>"
      ]
     },
     "metadata": {},
     "output_type": "display_data"
    }
   ],
   "source": [
    "plt.plot([ 1 - np.log(p) for p in np.linspace(0, 10, num=101)[1:] ])\n",
    "plt.xticks(np.linspace(0, 100, num=5), np.linspace(0, 10, num=5) );"
   ]
  },
  {
   "cell_type": "markdown",
   "metadata": {},
   "source": [
    "Чем выше  $\\alpha$, тем менее полога функция распределения величины $X$ с экспоненциальным законом, тем точнее мы можем предсказать значение $X$, тем ниже энтропия."
   ]
  }
 ],
 "metadata": {
  "kernelspec": {
   "display_name": "Python 3",
   "language": "python",
   "name": "python3"
  },
  "language_info": {
   "codemirror_mode": {
    "name": "ipython",
    "version": 3
   },
   "file_extension": ".py",
   "mimetype": "text/x-python",
   "name": "python",
   "nbconvert_exporter": "python",
   "pygments_lexer": "ipython3",
   "version": "3.6.5"
  }
 },
 "nbformat": 4,
 "nbformat_minor": 2
}
