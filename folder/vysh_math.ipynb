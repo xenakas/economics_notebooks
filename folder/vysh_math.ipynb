{
 "cells": [
  {
   "cell_type": "markdown",
   "metadata": {},
   "source": [
    "https://ma.hse.ru/data/2017/11/08/1158347480/%D0%9C%D0%B0%D1%82%D0%B5%D0%BC%D0%B0%D1%82%D0%B8%D0%BA%D0%B0%20%20%D1%8D%D0%BA_%D0%B4%D0%B5%D0%BC%D0%BE%D0%B2%D0%B5%D1%80%D1%81%D0%B8%D1%8F.pdf"
   ]
  },
  {
   "cell_type": "markdown",
   "metadata": {},
   "source": [
    "С решениями \n",
    "\n",
    "https://www.hse.ru/data/2019/03/25/1188264858/M+MF_common_program_3x3%20(2)-pages-8-20.pdf\n",
    "\n",
    "\n"
   ]
  },
  {
   "cell_type": "markdown",
   "metadata": {},
   "source": [
    "матметоды\n",
    "\n",
    "- [2019](https://olymp.hse.ru/data/2018/12/12/1144849492/120_%D1%80%D0%B5%D1%88%D0%B5%D0%BD%D0%B8%D1%8F%20%D0%B8%20%D0%BE%D1%82%D0%B2%D0%B5%D1%82%D1%8B+.pdf)\n",
    "- [2017](https://olymp.hse.ru/data/2016/12/22/1112071270/120_%D0%9C%D0%B0%D1%82_%D0%BC%D0%B5%D1%82%D0%BE%D0%B4%D1%8B_%D1%80%D0%B5%D1%88%D0%B5%D0%BD%D0%B8%D1%8F.pdf)\n",
    "\n",
    "метрика\n",
    "\n",
    "- [2019](https://vk.com/doc5847171_498135547?hash=8102b3529ef1434d2d&dl=ce4808231d4c9d754e)\n",
    "- [2018](https://vk.com/doc25081466_492267333?hash=4c0cfc15a601f45428&dl=b8a5c0561c81b643a4)\n",
    "- [2017](https://vk.com/doc7494942_459104327?hash=47a0e7bd1e2182efca&dl=ee1688aa03c1a6e312)\n",
    "- [2016](https://vk.com/doc7494942_444301923?hash=e7b3fd10dddd3b289f&dl=ad0ecbe5b46357cb4e), [ответы](https://vk.com/doc7494942_444301822?hash=3d858c1946986607e7&dl=2bc69deb8652482147)\n",
    "\n",
    "фин \n",
    "\n",
    "- [демо](https://olymp.hse.ru/data/2017/12/19/1159906529/130_%D0%A4%D0%AD++.pdf), [решение](https://olymp.hse.ru/data/2017/12/19/1159906475/130_%D0%A4%D0%AD_(%D1%80%D0%B5%D1%88%D0%B5%D0%BD%D0%B8%D1%8F%20%D0%B8%20%D0%BE%D1%82%D0%B2%D0%B5%D1%82%D1%8B)++.pdf)"
   ]
  },
  {
   "cell_type": "markdown",
   "metadata": {},
   "source": [
    "Линейная алгебра.\n",
    "\n",
    "1. Векторы, матрицы и действия с ними. Линейная зависимость системы векторов. Базис линейного пространства. Скалярноепроизведение.\n",
    "2. Определитель квадратной матрицы. Вычисление определителей. Разложение определителя по строке и по столбцу.\n",
    "3. Транспонированная матрица. Обратная матрица. Ранг матрицы. Специальные  виды матрицы.\n",
    "4. Системы линейных уравнений. Метод Крамера. Метод Гаусса. Фундаментальная система решений\n",
    "5. Собственные числа и собственные векторы матрицы\n",
    "6. Квадратичные формы. Матрица квадратичной формы. Условие положительной  (отрицательной) определенности квадратичной формы\n",
    "\n",
    "Математический анализ \n",
    "\n",
    "1. Функции   одной   переменной.   Предел   функции.   Производные. Разложение  функции  в  ряд  Тейлора. Исследование  и  построение  графика функции\n",
    "2. Функции     многих     переменных.     Частные     производные.     Полный дифференциал.  Градиент  функции. Производная  по  направлению.  Матрица Гессе.  Безусловный  экстремум  функции  многих  переменных.  Необходимые  и достаточные условия экстремума функции многих переменных.\n",
    "3. Понятие о квадратичных формах. Выпуклые функции имножества.Примеры экономических приложений. Оптимизация при наличии ограничений. Функция  Лагранжа и ее стационарные точки. Максимизация полезности и бюджетное ограничение. Окаймленный Гессиан. Условия второго порядка\n",
    "\n",
    "Дифференциальные уравнения\n",
    "\n",
    "1. Уравнения  с  разделяющимися  переменными.  Уравнения  в  полных дифференциалах. Метод замены переменных. Уравнение Бернулли\n",
    "2. Линейные   дифференциальные   уравнения   1-го   порядка. Метод вариации постоянной\n",
    "3. Однородные линейные дифференциальные уравнения с постоянными коэффициентами. Характеристическое уравнение. Устойчивость решения\n",
    "4. Неоднородные     линейные     дифференциальные уравнения     с постоянными коэффициентами и с правой частью специальноговида\n",
    "\n",
    "Теория вероятностей\n",
    "\n",
    "1. Основные  понятия  теории  вероятностей.  Случайные  события  и  случайные величины.  Функция  плотности  распределения.  Совместное  распределение нескольких случайных величин. Условныераспределения\n",
    "2. Характеристики    распределений    случайных    величин    (математическое ожидание,   дисперсия,   ковариация). Свойства   математического   ожидания, дисперсии и ковариции. Условное математическоеожидание\n",
    "3. Нормальное  распределение  и  связанные  с  ним  хи-квадрат  распределение, распределения Стьюдента и Фишера, и их основные свойства. Статистические таблицы и их использование\n",
    "\n",
    "Математическая статистика\n",
    "\n",
    "1. Генеральная  совокупность  и  выборка.  Выборочное  распределение  и выборочное  характеристики  (среднее,  дисперсия,  ковариация,  коэффициент корреляции)\n",
    "2. Точечные  оценки. Методы  нахождения  оценок:  метод  моментов  и метод максимального правдоподобия. Свойства несмещенности, эффективности и состоятельности оценок. Доверительные интервалы\n",
    "3. Статистические выводы и проверка статистических гипотез. Ошибки 1-го и 2-го рода. Уровень доверия, уровень значимости, мощность критерия и P-valueтеста \n",
    "4. Линейная  регрессионная  модель  для  случая  одной  и  нескольких объясняющих  переменных.  Теоретическая  и  выборочная  регрессии.  Природа случайной составляющей. Линейность по переменным ипараметрам\n",
    "5. Оценивание   параметров.   Метод   наименьших   квадратов   (МНК). Свойства   оценок   параметров,   полученных   по   МНК. Разложение   суммы квадратовотклонений.Дисперсионный  анализ. Степень  соответствия  линии  регрессии  имеющимся данным.Коэффициент детерминации и егосвойства\n",
    "6. Классическая  линейная  регрессия.  Статистические  характеристики (математическое  ожидание,  дисперсия  и  ковариация)  оценок  параметров. Теорема Гаусса-Маркова \n",
    "7. Предположение  о  нормальном  распределении  случайной  ошибки  в рамках  классической  линейной  регрессии  и  его  следствия.  Доверительные интервалы   для   параметров   модели   и   проверка   гипотез   о   значимости коэффициентов. Проверка адекватности регрессии. Общая линейнаягипотеза о выполнении линейных ограничений на параметрымодели. Прогнозирование по регрессионной модели и еготочность."
   ]
  },
  {
   "cell_type": "markdown",
   "metadata": {},
   "source": [
    "Экономика\n",
    "\n",
    "- https://ma.hse.ru/data/2017/11/08/1158346022/%D0%9E%D0%B1%D1%80%D0%B0%D0%B7%D1%86%D1%8B_2015_%D1%8D%D0%BA%D0%BE%D0%BD%D0%BE%D0%BC%D0%B8%D0%BA%D0%B0.pdf\n",
    "- https://ma.hse.ru/data/2017/09/29/1158955284/%D0%94%D0%95%D0%9C%D0%9E%20%D0%BD%D0%B0%20%D1%81%D0%B0%D0%B9%D1%82%20%D0%BF%D0%BE%20%D0%A4%D0%A0%D0%A4%D0%98.pdf"
   ]
  },
  {
   "cell_type": "markdown",
   "metadata": {},
   "source": [
    "Выш мат\n",
    "\n",
    "- [Julia/Python Math](https://lectures.quantecon.org/py/)\n",
    "- [Evans (Berkley)](https://math.berkeley.edu/~evans/)\n",
    "    - [An Introduction to Mathematical Optimal Control Theory](https://math.berkeley.edu/~evans/control.course.pdf)\n",
    "    - [Entropy and Partial Differential Equations](https://math.berkeley.edu/~evans/entropy.and.PDE.pdf)\n",
    "- [Maths and Metrics](https://www.bauer.uh.edu/rsusmel/)\n",
    "- [Advanced Macroeconomic Techniques (with markov processes)](http://pages.stern.nyu.edu/~cedmond/amt.html)"
   ]
  },
  {
   "cell_type": "markdown",
   "metadata": {},
   "source": [
    "матан\n",
    "\n",
    "- производные \n",
    "- [гиперболические функции](https://ru.wikipedia.org/wiki/%D0%93%D0%B8%D0%BF%D0%B5%D1%80%D0%B1%D0%BE%D0%BB%D0%B8%D1%87%D0%B5%D1%81%D0%BA%D0%B8%D0%B5_%D1%84%D1%83%D0%BD%D0%BA%D1%86%D0%B8%D0%B8)\n",
    "- [условный эстремум](http://mathprofi.ru/uslovnye_extremumy.html)\n",
    "\n",
    "линал \n",
    "\n",
    "- обратные матрицы\n",
    "- [критерий сильвестра](https://www.chem-astu.ru/chair/study/algebra-geometry/?p=185)\n",
    "- [квадратичные формы](http://files.lib.sfu-kras.ru/ebibl/umkd/77/u_course/Math/Glava01/CH4-1/%D0%9A%D0%B2%D0%B0%D0%B4%D1%80%D0%B0%D1%82%D0%B8%D1%87%D0%BD%D1%8B%D0%B5%20%D1%84%D0%BE%D1%80%D0%BC%D1%8B.htm)\n",
    "- [собственные значения](http://mathprofi.ru/sobstvennye_znachenija_i_sobstvennye_vektory.html)\n",
    "- [матричные уравнения](http://mathprofi.ru/matrichnye_uravneniya_primery_reshenij.html)\n",
    "- [жорданова матрица](https://ru.wikipedia.org/wiki/%D0%96%D0%BE%D1%80%D0%B4%D0%B0%D0%BD%D0%BE%D0%B2%D0%B0_%D0%BC%D0%B0%D1%82%D1%80%D0%B8%D1%86%D0%B0)\n",
    "- [Извлечение корня m-й степени из неособенной матрицы](http://sernam.ru/book_matrix.php?id=55)\n",
    "- решение систем уравнений\n",
    "\n",
    "дифуры\n",
    "\n",
    "- [табличка с частными решениями](http://mathprofi.ru/kak_podobrat_chastnoe_reshenie_dy.pdf)\n",
    "- [неоднородные ду второго порядка](http://mathprofi.ru/kak_reshit_neodnorodnoe_uravnenie_vtorogo_poryadka.html)\n",
    "- [Метод вариации произвольных постоянных](http://mathprofi.ru/metod_variacii_proizvolnyh_postoyannyh.html)\n",
    "\n",
    "стат \n",
    "\n",
    "- задачки на байеса"
   ]
  }
 ],
 "metadata": {
  "hide_input": false,
  "kernelspec": {
   "display_name": "Python 3",
   "language": "python",
   "name": "python3"
  },
  "language_info": {
   "codemirror_mode": {
    "name": "ipython",
    "version": 3
   },
   "file_extension": ".py",
   "mimetype": "text/x-python",
   "name": "python",
   "nbconvert_exporter": "python",
   "pygments_lexer": "ipython3",
   "version": "3.6.5"
  },
  "latex_envs": {
   "LaTeX_envs_menu_present": true,
   "autoclose": true,
   "autocomplete": true,
   "bibliofile": "biblio.bib",
   "cite_by": "apalike",
   "current_citInitial": 1,
   "eqLabelWithNumbers": true,
   "eqNumInitial": 1,
   "hotkeys": {
    "equation": "Ctrl-E",
    "itemize": "Ctrl-I"
   },
   "labels_anchors": false,
   "latex_user_defs": false,
   "report_style_numbering": false,
   "user_envs_cfg": false
  },
  "toc": {
   "base_numbering": 1,
   "nav_menu": {},
   "number_sections": true,
   "sideBar": true,
   "skip_h1_title": false,
   "title_cell": "Table of Contents",
   "title_sidebar": "Contents",
   "toc_cell": false,
   "toc_position": {},
   "toc_section_display": true,
   "toc_window_display": false
  },
  "varInspector": {
   "cols": {
    "lenName": 16,
    "lenType": 16,
    "lenVar": 40
   },
   "kernels_config": {
    "python": {
     "delete_cmd_postfix": "",
     "delete_cmd_prefix": "del ",
     "library": "var_list.py",
     "varRefreshCmd": "print(var_dic_list())"
    },
    "r": {
     "delete_cmd_postfix": ") ",
     "delete_cmd_prefix": "rm(",
     "library": "var_list.r",
     "varRefreshCmd": "cat(var_dic_list()) "
    }
   },
   "types_to_exclude": [
    "module",
    "function",
    "builtin_function_or_method",
    "instance",
    "_Feature"
   ],
   "window_display": false
  }
 },
 "nbformat": 4,
 "nbformat_minor": 2
}
