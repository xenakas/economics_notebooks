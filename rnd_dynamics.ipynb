{
 "cells": [
  {
   "cell_type": "markdown",
   "metadata": {},
   "source": [
    "### [R&D INVESTMENT, EXPORTINGAND PRODUCTIVITY DYNAMICS](https://www.nber.org/papers/w14670.pdf)"
   ]
  },
  {
   "cell_type": "markdown",
   "metadata": {},
   "source": [
    "#### Bee Yan Aw, Mark J. Roberts, Daniel Yi Xu"
   ]
  },
  {
   "cell_type": "markdown",
   "metadata": {},
   "source": [
    "####  [Computation of the Firm's Dynamic Problem](https://assets.aeaweb.org/assets/production/articles-attachments/aer/data/june2011/20090046_app.pdf)"
   ]
  },
  {
   "cell_type": "markdown",
   "metadata": {},
   "source": [
    "For a state vector $s_{it} = (\\omega_{it}, z_{it}, \\Phi_{it}, e_{it-1}, d_{it-1})$ we evaluate each plant's conditional\n",
    "choice probabilities for exporting and R&D $P(e_{it}|s_{it})$ and $P(d_{it}|s_{it})$ by solving each plant's dynamic optimization problem utilizing equations 10, 11, 12, and 13 to calculate the value functions\n",
    "using the following algorithm:\n",
    "1. Begin with an initial guess of the value function $V^0(s)$.\n",
    "2. Calculate $EV^0 = \\int_{z'}\\int_{\\omega'} V^0 (z',\\omega',e,d,k,\\Phi)dF(\\omega'|\\omega, e, d)dF(z'|z)$, where $F(\\omega'|\\omega, e, d)$\n",
    "is calculated using equation 8 and $F(z'|z)$ follows 9. Notice that $EV^0$ depends on $e$ and $d$ for two reasons: (1) both $e$ and $d$ affect future productivity, (2) entry into either activity involves a\n",
    "sunk cost.\n",
    "3. Calculate $V_t^{E0}$ and $V^{D0}_t$ using equations 11 and 12. We can express them in analytical form depending on $EV^0(e, d)$\n",
    "4. Finally, we can get the value function $V^1(s)$ using equation 10 \n",
    "5. Iterate across steps 2-4 until $|V^{j+1} - V^j|  < \\epsilon$.\n",
    "\n",
    "Since the state space for our problem is very large, we adopt John Rust's (1997) method to\n",
    "discretize the state space. We choose $N = 100$ low-discrepancy points for $(\\omega, z)$. Denote the\n",
    "random grid points as $(\\omega_1, z_1), ... (\\omega_n, z_n), ... (\\omega_N, z_N)$. The grid values for k are fixed with 8\n",
    "categories. The firm's dynamic problem and value function $\\hat{V}$ can be solved exactly on each\n",
    "grid point by the value function iteration method described in the previous section. For the data\n",
    "points that are not on the grid points, we can calculate $EV$ using the discrete Markov operator given by:\n",
    "\n",
    "$$EV = \\int_{z'}\\int_{\\omega'} V^0 (z',\\omega',e,d,k,\\Phi)dF(\\omega'|\\omega, e, d)dF(z'|z) = \\\\\\frac{1}{N}\\sum^N_{n=1} \\hat{V} (z_n,\\omega_n,e,d,k,\\Phi) p^N (z_n, \\omega_n|z,\\omega, e, d) $$\n",
    "\n",
    "where $p^N (z_n, \\omega_n|z,\\omega, e, d) = \\dfrac{p(z_n|z)p(\\omega_n|\\omega,e,d)}{\\sum^N_{n=1}p(z_n|z)p(\\omega_n|\\omega, e,d)}$. Then the calculations of $V^E$ and $V^D$ follow from steps 2-4 of the previous section.\n",
    "\n",
    "##### Details of Bayesian MCMC Estimation\n",
    "\n",
    "Define the set of dynamic parameters as: $\\Theta = (\\gamma^I, \\gamma^D, \\gamma^F,\\gamma^S, \\Phi^X, \\rho_z, \\sigma_\\mu, \\theta^e_0, \\theta^d_0)$, where $\\theta^e_0$ and $\\theta^d_0$ \n",
    "are, respectively, the parameters for probit equations for the initial conditions of exporting and R&D. Using the model, the likelihood function defining the data set $(D)$ as a function of\n",
    "the parameters $L(D|\\Theta)$, and a set of prior distributions of $\\Theta$, the posterior distribution $P(\\Theta|D)$ is well defined. We use MCMC techniques to calculate the moments of the posterior distribution.\n",
    "\n",
    "We adopt very diffuse priors for the parameters. The means of all fixed\n",
    "and sunk cost distributions are assumed to have priors that are $N(0,1000)$. The prior for the\n",
    "export revenue intercept is $N(0, 1000)$, for the autoregressive coefficient in the export demand\n",
    "shocks is $U[-1,1]$, and log $\\sigma_mu$ is $N(0,10)$ The means and standard deviations of the posterior\n",
    "distribution are reported in Table 5"
   ]
  },
  {
   "cell_type": "code",
   "execution_count": null,
   "metadata": {},
   "outputs": [],
   "source": []
  }
 ],
 "metadata": {
  "kernelspec": {
   "display_name": "Python 3",
   "language": "python",
   "name": "python3"
  },
  "language_info": {
   "codemirror_mode": {
    "name": "ipython",
    "version": 3
   },
   "file_extension": ".py",
   "mimetype": "text/x-python",
   "name": "python",
   "nbconvert_exporter": "python",
   "pygments_lexer": "ipython3",
   "version": "3.6.5"
  }
 },
 "nbformat": 4,
 "nbformat_minor": 2
}
