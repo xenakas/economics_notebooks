{
 "cells": [
  {
   "cell_type": "markdown",
   "metadata": {},
   "source": [
    "## Shell for Data Science"
   ]
  },
  {
   "cell_type": "markdown",
   "metadata": {},
   "source": [
    "- `history`, `!head`, `!5`\n",
    "- `>` saves file \n",
    "- `|` c'est ne pas une pipe\n",
    "\n",
    "- `$@` (dollar sign immediately followed by at-sign) to mean \"all of the command-line parameters given to the script\".\n",
    "As well as `$@`, the shell lets you use `$1`, `$2`, and so on to refer to specific command-line parameters."
   ]
  },
  {
   "cell_type": "markdown",
   "metadata": {},
   "source": [
    "- `*` wildcard\n",
    "- `?` matches a single character, so `201?.txt` will match `2017.txt`, but not `2017-01.txt`.\n",
    "- `[...]` matches any one of the characters inside the square brackets, so `201[78].txt` matches `2017.txt` or `2018.txt`, but not `2016.txt`.\n",
    "- `{...}` matches any of the comma-separated patterns inside the curly brackets, so `{*.txt, *.csv}` matches any file whose name ends with `.txt` or `.csv`, but not files whose names end with `.pdf`.\n"
   ]
  },
  {
   "cell_type": "markdown",
   "metadata": {},
   "source": [
    "- ``..`` - the directory above the one I'm currently in. If you are in ``/home/repl/seasonal``, then ``cd ..`` moves you up to ``/home/repl``. \n",
    "- ``.`` - the current directory, so ``ls`` and ``ls .`` do the same thing, while ``cd .`` moves you into the directory you're currently in.\n",
    "- ``~`` - your home directory. ``ls ~`` will always list the contents of your home directory, and ``cd ~`` will always take you home."
   ]
  },
  {
   "cell_type": "markdown",
   "metadata": {},
   "source": [
    "- `Ctrl + C` to end it\n",
    "- `Ctrl + K:` delete a line.\n",
    "- `Ctrl + U:` un-delete a line.\n",
    "- `Ctrl + O:` save the file ('O' stands for 'output').\n",
    "- `Ctrl + X:` exit the editor."
   ]
  },
  {
   "cell_type": "markdown",
   "metadata": {},
   "source": [
    "### Manipulating files and directories"
   ]
  },
  {
   "cell_type": "markdown",
   "metadata": {},
   "source": [
    "- ``pwd`` (print working directory) - prints the absolute path of your current working directory, which is where the shell runs commands and looks for files by default.\n",
    "- ``ls`` (listing) - add the names of some files, ls will list them, and if you add the names of directories, it will list their contents.  If path begins with /, it is absolute, and if it doesn't, it is relative. `ls` has another flag `-F`  that prints a / after the name of every directory and a * after the name of every runnable program. Run ls with the two flags, `-R` and `-F`, and the absolute path to your home directory to see everything it contains. \n",
    "- ``cd`` (change directory) \n",
    "- ``cp`` (copy) - ``cp original.txt duplicate.txt`` creates a copy of original.txt called duplicate.txt (if already exists it is --__overwritten__); ``cp seasonal/autumn.csv seasonal/winter.csv backup`` copies all of the files into that directory.\n",
    "- ``mv`` moves it from one directory to another; can also be used to rename files ``mv course.txt old-course.txt`` then the file course.txt in the current working directory is \"moved\" to the file old-course.txt; ``mv seasonal by-season``, for example, changes the name of the seasonal directory to by-season. \n",
    "- ``rm`` to delete files \n",
    "- ``rmdir`` to delete directory; it only works when the directory is empty, so you must delete the files in a directory before you delete the directory. (``rm -r`` to get the same effect)\n",
    "- ``mkdir`` to create a new (empty) directory.\n",
    "\n",
    "Store intermediate files in ``/tmp``. `/tmp` is immediately below the root directory /, not below your home directory.)"
   ]
  },
  {
   "cell_type": "markdown",
   "metadata": {},
   "source": [
    "### Manipulating data"
   ]
  },
  {
   "cell_type": "markdown",
   "metadata": {},
   "source": [
    "- ``cat`` (concatenate) - look at file contents\n",
    "- ``less`` - view part of file (or several files), ``:n`` - to move to next file, ``:q`` to quit. \n",
    "- `man` - manual\n",
    "- `head` and `tail` select rows, `cut` selects columns, and `grep` selects lines according to what they contain; can search for patterns as well\n",
    "    - `-c:` print a count of matching lines rather than the lines themselves\n",
    "    - `-h:` do not print the names of files when searching multiple files\n",
    "    - `-i:` ignore case (e.g., treat \"Regression\" and \"regression\" as matches)\n",
    "    - `-l:` print the names of files that contain matches, not the matches\n",
    "    - `-n:` print line numbers for matching lines\n",
    "    - `-v:` invert the match, i.e., only show lines that don't match\n",
    "    \n",
    "- `paste` combine files\n",
    "\n",
    "- `wc` (short for \"word count\") prints the number of characters, words, and lines in a file. You can make it print only one of these using `-c`, `-w`, or `-l` respectively.\n",
    "- `sort` puts data in order. By default it does this in ascending alphabetical order, but the flags `-n` and `-r` can be used to sort numerically and reverse the order of its output, `-b` tells it to ignore leading blanks and `-f` tells it to fold case (i.e., be case-insensitive)"
   ]
  },
  {
   "cell_type": "markdown",
   "metadata": {},
   "source": [
    "### Batch processing"
   ]
  },
  {
   "cell_type": "markdown",
   "metadata": {},
   "source": [
    "`set | grep HISTFILESIZE `\n",
    "\n",
    "`echo $USER`\n",
    "\n",
    "`for filetype in gif jpg png; do echo $filetype; done`\n",
    "\n",
    "`for filename in seasonal/*.csv; do echo $filename; done`\n"
   ]
  },
  {
   "cell_type": "markdown",
   "metadata": {},
   "source": [
    "### Batch processing"
   ]
  },
  {
   "cell_type": "markdown",
   "metadata": {},
   "source": [
    "`set | grep HISTFILESIZE `\n",
    "\n",
    "`echo $USER`\n",
    "\n",
    "`for filetype in gif jpg png; do echo $filetype; done`\n",
    "\n",
    "`for filename in seasonal/*.csv; do echo $filename; done`\n"
   ]
  }
 ],
 "metadata": {
  "kernelspec": {
   "display_name": "Python 3",
   "language": "python",
   "name": "python3"
  },
  "language_info": {
   "codemirror_mode": {
    "name": "ipython",
    "version": 3
   },
   "file_extension": ".py",
   "mimetype": "text/x-python",
   "name": "python",
   "nbconvert_exporter": "python",
   "pygments_lexer": "ipython3",
   "version": "3.6.5"
  }
 },
 "nbformat": 4,
 "nbformat_minor": 2
}
