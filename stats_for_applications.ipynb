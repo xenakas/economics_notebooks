{
 "cells": [
  {
   "cell_type": "markdown",
   "metadata": {},
   "source": [
    "### [Statistics for applications](https://ocw.mit.edu/courses/mathematics/18-650-statistics-for-applications-fall-2016/lecture-slides/)\n",
    "\n"
   ]
  },
  {
   "cell_type": "markdown",
   "metadata": {},
   "source": [
    "#### Hoeffding’s inequality (i.i.d. case)\n",
    "\n",
    "In probability theory, Hoeffding's inequality provides an upper bound on the probability that the sum of bounded independent random variables deviates from its expected value by more than a certain amount. \n",
    "\n",
    "\n",
    "\n",
    "Let $n$ be a positive integer and $X, X_1, . . . , X_n$ be i.i.d. r.v. such\n",
    "that $X → [a, b]$ a.s. Let $µ = E[X]$.\n",
    "\n",
    "Then, for all $\\epsilon > 0$,\n",
    "\n",
    "$$P[|\\bar{X}_n − µ| \\geq \\epsilon] \\leq 2 \\exp(-\\frac{2n\\epsilon^2}{(b-a)^2})$$.\n",
    "\n",
    "This holds even for small sample sizes $n$."
   ]
  },
  {
   "cell_type": "markdown",
   "metadata": {},
   "source": [
    "#### $L^p$ space"
   ]
  },
  {
   "cell_type": "markdown",
   "metadata": {},
   "source": [
    "In mathematics, the Lp spaces are function spaces defined using a natural generalization of the p-norm for finite-dimensional vector spaces. They are sometimes called Lebesgue spaces. Lp spaces form an important class of Banach spaces in functional analysis, and of topological vector spaces. Because of their key role in the mathematical analysis of measure and probability spaces, Lebesgue spaces are used also in the theoretical discussion of problems in physics, statistics, finance, engineering, and other disciplines.\n",
    "\n",
    "- $ℓ^1$, the space of sequences whose series is absolutely convergent,\n",
    "- $ℓ^2$, the space of square-summable sequences, which is a Hilbert space, and\n",
    "- $ℓ^∞$, the space of bounded sequences.\n",
    "\n",
    "Similar to the $ℓ^p$ spaces, $L^2$ is the only Hilbert space among $L^p$ spaces. In the complex case, the inner product on $L^2$ is defined by\n",
    "\n",
    "$$ \\langle f,g\\rangle =\\int _{S}f(x){\\overline {g(x)}}\\,\\mathrm {d} \\mu (x)$$\n",
    "\n",
    "Functions in $L^2$ are sometimes called quadratically integrable functions, square-integrable functions or square-summable functions, but sometimes these terms are reserved for functions that are square-integrable in some other sense, such as in the sense of a Riemann integral.\n",
    "\n",
    "В случае $p=2$ норма порождается скалярным произведением. Таким образом, вместе с понятием «длины» здесь имеет смысл и понятие «угла», а следовательно и смежные понятия, такие как ортогональность, проекция.\n",
    "\n",
    "\n",
    "For $1 ≤ p ≤ ∞, L^p(S, μ)$ is a Banach space"
   ]
  },
  {
   "cell_type": "markdown",
   "metadata": {},
   "source": [
    "#### Review of different types of convergence"
   ]
  },
  {
   "cell_type": "markdown",
   "metadata": {},
   "source": [
    "Let $(T_n)_{n\\geq1}$ a sequence of r.v. and $T$ a r.v. (T may be\n",
    "deterministic).\n",
    "\n",
    "- Almost surely (a.s.) convergence\n",
    "$$  T_n \\xrightarrow[a.s.]{n\\to \\infty} T  \\ \\  iff \\  \\  P[\\{\\omega: T_n(θ) \\xrightarrow{n\\to \\infty}  T(\\omega) \\}] = 1$$\n",
    "- Convergence in probability:\n",
    "$$  T_n \\xrightarrow[P]{n\\to \\infty} T  \\ \\  iff \\  \\  P[|T_n - T| \\geq  \\epsilon ] \\xrightarrow{n\\to \\infty}  0 $$\n",
    "- Convergence in $L_p (p \\geq 1)$:\n",
    "$$  T_n \\xrightarrow[L_p]{n\\to \\infty} T  \\ \\  iff \\  \\  E[|T_n - T|^p ] \\xrightarrow{n\\to \\infty}  0 $$\n",
    "- Convergence in distribution:\n",
    "$$  T_n \\xrightarrow[(d)]{n\\to \\infty} T  \\ \\  iff \\  \\  P[T_n \\leq x]  \\xrightarrow{n\\to \\infty} P[T \\leq x] $$\n",
    "for all $x \\in \\mathbb{R}$ at which the cdf of $T$ is continuous."
   ]
  },
  {
   "cell_type": "code",
   "execution_count": null,
   "metadata": {},
   "outputs": [],
   "source": []
  }
 ],
 "metadata": {
  "hide_input": false,
  "kernelspec": {
   "display_name": "Python 3",
   "language": "python",
   "name": "python3"
  },
  "language_info": {
   "codemirror_mode": {
    "name": "ipython",
    "version": 3
   },
   "file_extension": ".py",
   "mimetype": "text/x-python",
   "name": "python",
   "nbconvert_exporter": "python",
   "pygments_lexer": "ipython3",
   "version": "3.7.3"
  },
  "latex_envs": {
   "LaTeX_envs_menu_present": true,
   "autoclose": true,
   "autocomplete": true,
   "bibliofile": "biblio.bib",
   "cite_by": "apalike",
   "current_citInitial": 1,
   "eqLabelWithNumbers": true,
   "eqNumInitial": 1,
   "hotkeys": {
    "equation": "Ctrl-E",
    "itemize": "Ctrl-I"
   },
   "labels_anchors": false,
   "latex_user_defs": false,
   "report_style_numbering": false,
   "user_envs_cfg": false
  },
  "toc": {
   "base_numbering": 1,
   "nav_menu": {},
   "number_sections": true,
   "sideBar": true,
   "skip_h1_title": false,
   "title_cell": "Table of Contents",
   "title_sidebar": "Contents",
   "toc_cell": false,
   "toc_position": {},
   "toc_section_display": true,
   "toc_window_display": false
  },
  "varInspector": {
   "cols": {
    "lenName": 16,
    "lenType": 16,
    "lenVar": 40
   },
   "kernels_config": {
    "python": {
     "delete_cmd_postfix": "",
     "delete_cmd_prefix": "del ",
     "library": "var_list.py",
     "varRefreshCmd": "print(var_dic_list())"
    },
    "r": {
     "delete_cmd_postfix": ") ",
     "delete_cmd_prefix": "rm(",
     "library": "var_list.r",
     "varRefreshCmd": "cat(var_dic_list()) "
    }
   },
   "types_to_exclude": [
    "module",
    "function",
    "builtin_function_or_method",
    "instance",
    "_Feature"
   ],
   "window_display": false
  }
 },
 "nbformat": 4,
 "nbformat_minor": 2
}
