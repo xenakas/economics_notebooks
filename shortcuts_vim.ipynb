{
 "cells": [
  {
   "cell_type": "markdown",
   "metadata": {},
   "source": [
    "## VIM"
   ]
  },
  {
   "cell_type": "markdown",
   "metadata": {},
   "source": [
    "gvim --servername GVIM GOST_diploma.tex\n",
    "\n",
    "- [How I'm able to take notes in mathematics lectures using LaTeX and Vim](https://castel.dev/post/lecture-notes-1/)\n",
    "- [Vimtex tool for working Vim, tex and Zathura](https://wikimatze.de/vimtex-the-perfect-tool-for-working-with-tex-and-vim/)\n",
    "\n",
    "https://github.com/SirVer/ultisnips"
   ]
  },
  {
   "cell_type": "markdown",
   "metadata": {},
   "source": [
    "Cursor movement\n",
    "- hjkl \n",
    "- H - move to top of screen\n",
    "- M - move to middle of screen\n",
    "- L - move to bottom of screen\n",
    "\n",
    "- 0 - jump to start of a line\n",
    "- w - jump forwards to the start of a word\n",
    "- W - jump forwards to the start of a word (words can contain punctuation)\n",
    "- e - jump forwards to the end of a word\n",
    "- E - jump forwards to the end of a word (words can contain punctuation)\n",
    "- b - jump backwards to the start of a word\n",
    "- B - jump backwards to the start of a word (words can contain punctuation)\n",
    "- 0 - jump to beginning of a line\n",
    "\n",
    "- % - move to matching character (default supported pairs: '()', '{}', '[]' - use <code>:h matchpairs</code> in vim for more info)\n",
    "- 0 - jump to the start of the line\n",
    "- ^ - jump to the first non-blank character of the line\n",
    "- \\$ - jump to the end of the line\n",
    "- g_ - jump to the last non-blank character of the line\n",
    "- gg - go to the first line of the document\n",
    "- G - go to the last line of the document\n",
    "- 5G - go to line 5\n",
    "- fx - jump to next occurrence of character x\n",
    "- tx - jump to before next occurrence of character x\n",
    "- Fx - jump to previous occurence of character x\n",
    "- Tx - jump to after previous occurence of character x\n",
    "- ; - repeat previous f, t, F or T movement\n",
    "- , - repeat previous f, t, F or T movement, backwards\n",
    "- } - jump to next paragraph (or function/block, when editing code)\n",
    "- { - jump to previous paragraph (or function/block, when editing code)\n",
    "- zz - center cursor on screen\n",
    "- Ctrl + e - move screen down one line (without moving cursor)\n",
    "- Ctrl + y - move screen up one line (without moving cursor)\n",
    "- Ctrl + b - move back one full screen\n",
    "- Ctrl + f - move forward one full screen\n",
    "- Ctrl + d - move forward 1/2 a screen\n",
    "- Ctrl + u - move back 1/2 a screen"
   ]
  },
  {
   "cell_type": "markdown",
   "metadata": {},
   "source": [
    "Insert mode - inserting/appending text\n",
    "\n",
    "- i - insert before the cursor\n",
    "- I - insert at the beginning of the line\n",
    "- a - insert (append) after the cursor\n",
    "- A - insert (append) at the end of the line\n",
    "- o - append (open) a new line below the current line\n",
    "- O - append (open) a new line above the current line\n",
    "- ea - insert (append) at the end of the word\n",
    "- Esc - exit insert mode\n"
   ]
  },
  {
   "cell_type": "markdown",
   "metadata": {},
   "source": [
    "Exiting\n",
    "\n",
    "- :w - write (save) the file, but don't exit\n",
    "- :w !sudo tee % - write out the current file using sudo\n",
    "- :wq or :x or ZZ - write (save) and quit\n",
    "- :q - quit (fails if there are unsaved changes)\n",
    "- :q! or ZQ - quit and throw away unsaved changes\n",
    "- :wqa - write (save) and quit on all tabs"
   ]
  },
  {
   "cell_type": "markdown",
   "metadata": {},
   "source": [
    "Cut and paste\n",
    "\n",
    "- yy - yank (copy) a line\n",
    "- 2yy - yank (copy) 2 lines\n",
    "- yw - yank (copy) the characters of the word from the cursor position to the start of the next word\n",
    "- y\\$ - yank (copy) to end of line\n",
    "- p - put (paste) the clipboard after cursor\n",
    "- P - put (paste) before cursor\n",
    "\n",
    "- d - delete\n",
    "    - dd - delete (cut) a line\n",
    "    - 2dd - delete (cut) 2 lines\n",
    "    - dw - delete  everything to the start of new word\n",
    "    - de - delete this word\n",
    "    - D - delete (cut) to the end of the line\n",
    "    - d\\$ - delete (cut) to the end of the line\n",
    "    \n",
    "- x - delete (cut) character\n",
    "\n",
    "- u - undo \n",
    "- U - line to original state \n",
    "- ctrl + r - redo"
   ]
  },
  {
   "cell_type": "markdown",
   "metadata": {},
   "source": [
    "- r - replace the character under the cursor to character you write next\n",
    "- ce - deletes the word and places you in Insert mode"
   ]
  },
  {
   "cell_type": "markdown",
   "metadata": {},
   "source": [
    "If you are using Linux, you should + register. For example, if you wanna copy three lines into system's clipboard, use commands like v3j\"+y, and then you can paste them into another application more another VIM. Using * register under Linux can only copy and paste between different VIM applications. "
   ]
  },
  {
   "cell_type": "markdown",
   "metadata": {},
   "source": [
    "https://vim.rtorr.com/\n"
   ]
  },
  {
   "cell_type": "markdown",
   "metadata": {},
   "source": [
    "set synctex-editor-command 'subl %{input}:%{line}'\n",
    "\n",
    "set synctex-editor-command \"gvim +%{line} %{input}\"\n",
    "\n",
    "set synctex-editor-command \"nvr --remote-silent %f -c %l\"\n",
    "\n",
    "\n",
    "cmd: zathura -x \"nvr --servername GVIM --remote-expr \\\"vimtex#view#reverse_goto(%{line}, '%{input}')\\\"\" --synctex-forward 1:1:'/home/xenakas/Desktop/Git/disaggregated_ts/text/GOST_diploma.tex'  '/home/xenakas/Desktop/Git/disaggregated_ts/text/GOST_diploma.pdf' >/dev/null 2>&1 &\n",
    "\n",
    "\n",
    "  viewer: Zathura\n",
    "    xwin id: 0\n",
    "    process: \n",
    "      pid: -\n",
    "      cmd: zathura -x \"nvr --servername GVIM --remote-expr \\\"vimtex#view#reverse_goto(%{line}, '%{input}')\\\"\" --synctex-forward 1:1:'/home/xenakas/Desktop/Git/disaggregated_ts/text/GOST_diploma.tex'  '/home/xenakas/Desktop/Git/disaggregated_ts/text/GOST_diploma.pdf' >/dev/null 2>&1 &\n",
    " "
   ]
  },
  {
   "cell_type": "code",
   "execution_count": null,
   "metadata": {},
   "outputs": [],
   "source": []
  },
  {
   "cell_type": "code",
   "execution_count": null,
   "metadata": {},
   "outputs": [],
   "source": [
    "\n"
   ]
  }
 ],
 "metadata": {
  "hide_input": false,
  "kernelspec": {
   "display_name": "Python 3",
   "language": "python",
   "name": "python3"
  },
  "language_info": {
   "codemirror_mode": {
    "name": "ipython",
    "version": 3
   },
   "file_extension": ".py",
   "mimetype": "text/x-python",
   "name": "python",
   "nbconvert_exporter": "python",
   "pygments_lexer": "ipython3",
   "version": "3.6.5"
  },
  "latex_envs": {
   "LaTeX_envs_menu_present": true,
   "autoclose": true,
   "autocomplete": true,
   "bibliofile": "biblio.bib",
   "cite_by": "apalike",
   "current_citInitial": 1,
   "eqLabelWithNumbers": true,
   "eqNumInitial": 1,
   "hotkeys": {
    "equation": "Ctrl-E",
    "itemize": "Ctrl-I"
   },
   "labels_anchors": false,
   "latex_user_defs": false,
   "report_style_numbering": false,
   "user_envs_cfg": false
  },
  "toc": {
   "base_numbering": 1,
   "nav_menu": {},
   "number_sections": true,
   "sideBar": true,
   "skip_h1_title": false,
   "title_cell": "Table of Contents",
   "title_sidebar": "Contents",
   "toc_cell": false,
   "toc_position": {},
   "toc_section_display": true,
   "toc_window_display": false
  },
  "varInspector": {
   "cols": {
    "lenName": 16,
    "lenType": 16,
    "lenVar": 40
   },
   "kernels_config": {
    "python": {
     "delete_cmd_postfix": "",
     "delete_cmd_prefix": "del ",
     "library": "var_list.py",
     "varRefreshCmd": "print(var_dic_list())"
    },
    "r": {
     "delete_cmd_postfix": ") ",
     "delete_cmd_prefix": "rm(",
     "library": "var_list.r",
     "varRefreshCmd": "cat(var_dic_list()) "
    }
   },
   "types_to_exclude": [
    "module",
    "function",
    "builtin_function_or_method",
    "instance",
    "_Feature"
   ],
   "window_display": false
  }
 },
 "nbformat": 4,
 "nbformat_minor": 2
}
