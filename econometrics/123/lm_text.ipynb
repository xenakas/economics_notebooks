{
 "cells": [
  {
   "cell_type": "code",
   "execution_count": 1,
   "metadata": {
    "ExecuteTime": {
     "end_time": "2020-04-07T08:20:46.024903Z",
     "start_time": "2020-04-07T08:20:45.884Z"
    }
   },
   "outputs": [],
   "source": [
    "df1 = read.csv('123.csv')"
   ]
  },
  {
   "cell_type": "code",
   "execution_count": 2,
   "metadata": {
    "ExecuteTime": {
     "end_time": "2020-04-07T08:20:47.325281Z",
     "start_time": "2020-04-07T08:20:47.300Z"
    }
   },
   "outputs": [],
   "source": [
    "df2 = df1[1:12, 3:5]\n",
    "df1 = df1[1:10, 1:2]"
   ]
  },
  {
   "cell_type": "markdown",
   "metadata": {},
   "source": [
    "### Парная регрессия"
   ]
  },
  {
   "cell_type": "markdown",
   "metadata": {},
   "source": [
    "#### Линейный коэффициент корреляции"
   ]
  },
  {
   "cell_type": "code",
   "execution_count": 14,
   "metadata": {
    "ExecuteTime": {
     "end_time": "2020-03-05T18:31:32.228101Z",
     "start_time": "2020-03-05T18:31:32.214Z"
    }
   },
   "outputs": [
    {
     "name": "stdout",
     "output_type": "stream",
     "text": [
      "0.52 + 0.57 + 0.69 + 0.77 + 0.9 + 0.97 + 1.04 + 1.08 + 1.49 + 1.63 +"
     ]
    }
   ],
   "source": [
    "cat(paste(df1[,1], '+'))"
   ]
  },
  {
   "cell_type": "code",
   "execution_count": 19,
   "metadata": {
    "ExecuteTime": {
     "end_time": "2020-03-05T18:34:12.861457Z",
     "start_time": "2020-03-05T18:34:12.852Z"
    }
   },
   "outputs": [
    {
     "name": "stdout",
     "output_type": "stream",
     "text": [
      "0.28 + 0.33 + 0.34 + 0.34 + 0.33 + 0.38 + 0.46 + 0.49 + 0.52 + 0.49 +"
     ]
    }
   ],
   "source": [
    "cat(paste(df1[,2], '+'))"
   ]
  },
  {
   "cell_type": "code",
   "execution_count": 15,
   "metadata": {
    "ExecuteTime": {
     "end_time": "2020-03-05T18:32:42.508535Z",
     "start_time": "2020-03-05T18:32:42.488Z"
    }
   },
   "outputs": [
    {
     "data": {
      "text/html": [
       "0.966"
      ],
      "text/latex": [
       "0.966"
      ],
      "text/markdown": [
       "0.966"
      ],
      "text/plain": [
       "[1] 0.966"
      ]
     },
     "metadata": {},
     "output_type": "display_data"
    }
   ],
   "source": [
    "mean(df1[,1])"
   ]
  },
  {
   "cell_type": "code",
   "execution_count": 20,
   "metadata": {
    "ExecuteTime": {
     "end_time": "2020-03-05T18:34:28.705566Z",
     "start_time": "2020-03-05T18:34:28.687Z"
    }
   },
   "outputs": [
    {
     "data": {
      "text/html": [
       "0.396"
      ],
      "text/latex": [
       "0.396"
      ],
      "text/markdown": [
       "0.396"
      ],
      "text/plain": [
       "[1] 0.396"
      ]
     },
     "metadata": {},
     "output_type": "display_data"
    }
   ],
   "source": [
    "mean(df1[,2])"
   ]
  },
  {
   "cell_type": "code",
   "execution_count": 36,
   "metadata": {
    "ExecuteTime": {
     "end_time": "2020-03-05T18:48:43.333182Z",
     "start_time": "2020-03-05T18:48:43.293Z"
    }
   },
   "outputs": [
    {
     "name": "stdout",
     "output_type": "stream",
     "text": [
      "0.52 -0.966)(  0.28 -0.396)+(  0.57 -0.966)(  0.33 -0.396)+(  0.69 -0.966)(  0.34 -0.396)+(  0.77 -0.966)(  0.34 -0.396)+(  0.9 -0.966)(  0.33 -0.396)+(  0.97 -0.966)(  0.38 -0.396)+(  1.04 -0.966)(  0.46 -0.396)+(  1.08 -0.966)(  0.49 -0.396)+(  1.49 -0.966)(  0.52 -0.396)+(  1.63 -0.966)(  0.49 -0.396)+( "
     ]
    }
   ],
   "source": [
    "a = paste(df1[,1], '-0.966)(')\n",
    "b = paste(df1[,2], '-0.396)+(')\n",
    "cc = c()\n",
    "for (i in 1:10){\n",
    "    cc = c(cc, a[i], b[i]) \n",
    "}\n",
    "cat(paste(cc, \"\"))"
   ]
  },
  {
   "cell_type": "code",
   "execution_count": 40,
   "metadata": {
    "ExecuteTime": {
     "end_time": "2020-03-05T18:50:18.293262Z",
     "start_time": "2020-03-05T18:50:18.283Z"
    }
   },
   "outputs": [
    {
     "data": {
      "text/html": [
       "0.25144"
      ],
      "text/latex": [
       "0.25144"
      ],
      "text/markdown": [
       "0.25144"
      ],
      "text/plain": [
       "[1] 0.25144"
      ]
     },
     "metadata": {},
     "output_type": "display_data"
    }
   ],
   "source": [
    "sum((df1[,1] - mean(df1[,1]))*(df1[,2] - mean(df1[,2])))"
   ]
  },
  {
   "cell_type": "code",
   "execution_count": 22,
   "metadata": {
    "ExecuteTime": {
     "end_time": "2020-03-05T18:36:17.958002Z",
     "start_time": "2020-03-05T18:36:17.946Z"
    }
   },
   "outputs": [
    {
     "name": "stdout",
     "output_type": "stream",
     "text": [
      "0.52 -0.966)^2+( 0.57 -0.966)^2+( 0.69 -0.966)^2+( 0.77 -0.966)^2+( 0.9 -0.966)^2+( 0.97 -0.966)^2+( 1.04 -0.966)^2+( 1.08 -0.966)^2+( 1.49 -0.966)^2+( 1.63 -0.966)^2+("
     ]
    }
   ],
   "source": [
    "cat(paste(df1[,1], '-0.966)^2+('))"
   ]
  },
  {
   "cell_type": "code",
   "execution_count": 44,
   "metadata": {
    "ExecuteTime": {
     "end_time": "2020-03-05T18:54:13.537899Z",
     "start_time": "2020-03-05T18:54:13.526Z"
    }
   },
   "outputs": [
    {
     "data": {
      "text/html": [
       "1.20864"
      ],
      "text/latex": [
       "1.20864"
      ],
      "text/markdown": [
       "1.20864"
      ],
      "text/plain": [
       "[1] 1.20864"
      ]
     },
     "metadata": {},
     "output_type": "display_data"
    }
   ],
   "source": [
    "sum((df1[,1] - mean(df1[,1]))^2)"
   ]
  },
  {
   "cell_type": "code",
   "execution_count": 27,
   "metadata": {
    "ExecuteTime": {
     "end_time": "2020-03-05T18:40:54.134925Z",
     "start_time": "2020-03-05T18:40:54.125Z"
    }
   },
   "outputs": [
    {
     "name": "stdout",
     "output_type": "stream",
     "text": [
      "0.28 -0.396)^2+( 0.33 -0.396)^2+( 0.34 -0.396)^2+( 0.34 -0.396)^2+( 0.33 -0.396)^2+( 0.38 -0.396)^2+( 0.46 -0.396)^2+( 0.49 -0.396)^2+( 0.52 -0.396)^2+( 0.49 -0.396)^2+("
     ]
    }
   ],
   "source": [
    "cat(paste(df1[,2], '-0.396)^2+('))"
   ]
  },
  {
   "cell_type": "code",
   "execution_count": 46,
   "metadata": {
    "ExecuteTime": {
     "end_time": "2020-03-05T18:55:08.632273Z",
     "start_time": "2020-03-05T18:55:08.606Z"
    }
   },
   "outputs": [
    {
     "data": {
      "text/html": [
       "0.06584"
      ],
      "text/latex": [
       "0.06584"
      ],
      "text/markdown": [
       "0.06584"
      ],
      "text/plain": [
       "[1] 0.06584"
      ]
     },
     "metadata": {},
     "output_type": "display_data"
    }
   ],
   "source": [
    "sum((df1[,2] - mean(df1[,2]))^2)"
   ]
  },
  {
   "cell_type": "code",
   "execution_count": 45,
   "metadata": {
    "ExecuteTime": {
     "end_time": "2020-03-05T18:54:46.523561Z",
     "start_time": "2020-03-05T18:54:46.496Z"
    }
   },
   "outputs": [
    {
     "data": {
      "text/html": [
       "0.891335030907108"
      ],
      "text/latex": [
       "0.891335030907108"
      ],
      "text/markdown": [
       "0.891335030907108"
      ],
      "text/plain": [
       "[1] 0.891335"
      ]
     },
     "metadata": {},
     "output_type": "display_data"
    }
   ],
   "source": [
    "sum((df1[,1] - mean(df1[,1]))*(df1[,2] - mean(df1[,2]))) / sqrt(sum((df1[,1] - mean(df1[,1]))^2) * sum((df1[,2] - mean(df1[,2]))^2))"
   ]
  },
  {
   "cell_type": "code",
   "execution_count": 43,
   "metadata": {
    "ExecuteTime": {
     "end_time": "2020-03-05T18:53:16.887030Z",
     "start_time": "2020-03-05T18:53:16.872Z"
    }
   },
   "outputs": [
    {
     "data": {
      "text/html": [
       "0.891335030907108"
      ],
      "text/latex": [
       "0.891335030907108"
      ],
      "text/markdown": [
       "0.891335030907108"
      ],
      "text/plain": [
       "[1] 0.891335"
      ]
     },
     "metadata": {},
     "output_type": "display_data"
    }
   ],
   "source": [
    "cor(df1[,1], df1[,2])"
   ]
  },
  {
   "cell_type": "markdown",
   "metadata": {},
   "source": [
    "####  $R^2$\n"
   ]
  },
  {
   "cell_type": "code",
   "execution_count": 78,
   "metadata": {
    "ExecuteTime": {
     "end_time": "2020-03-05T19:47:04.794573Z",
     "start_time": "2020-03-05T19:47:04.734Z"
    }
   },
   "outputs": [
    {
     "data": {
      "text/html": [
       "0.891335030907108"
      ],
      "text/latex": [
       "0.891335030907108"
      ],
      "text/markdown": [
       "0.891335030907108"
      ],
      "text/plain": [
       "[1] 0.891335"
      ]
     },
     "metadata": {},
     "output_type": "display_data"
    },
    {
     "data": {
      "text/html": [
       "0.794478137322176"
      ],
      "text/latex": [
       "0.794478137322176"
      ],
      "text/markdown": [
       "0.794478137322176"
      ],
      "text/plain": [
       "[1] 0.7944781"
      ]
     },
     "metadata": {},
     "output_type": "display_data"
    }
   ],
   "source": [
    "cor(df1[,1], df1[,2])\n",
    "cor(df1[,1], df1[,2])^2"
   ]
  },
  {
   "cell_type": "code",
   "execution_count": 77,
   "metadata": {
    "ExecuteTime": {
     "end_time": "2020-03-05T19:44:34.100417Z",
     "start_time": "2020-03-05T19:44:34.049Z"
    }
   },
   "outputs": [
    {
     "data": {
      "text/html": [
       "<strong>$r.squared</strong> = 0.794478137322175"
      ],
      "text/latex": [
       "\\textbf{\\$r.squared} = 0.794478137322175"
      ],
      "text/markdown": [
       "**$r.squared** = 0.794478137322175"
      ],
      "text/plain": [
       "$r.squared\n",
       "[1] 0.7944781\n"
      ]
     },
     "metadata": {},
     "output_type": "display_data"
    }
   ],
   "source": [
    "# df1\n",
    "summary(lm(Y~X, data = df1))[8]"
   ]
  },
  {
   "cell_type": "markdown",
   "metadata": {},
   "source": [
    "#### lm"
   ]
  },
  {
   "cell_type": "code",
   "execution_count": 80,
   "metadata": {
    "ExecuteTime": {
     "end_time": "2020-03-05T20:52:14.090215Z",
     "start_time": "2020-03-05T20:52:14.048Z"
    }
   },
   "outputs": [
    {
     "data": {
      "text/html": [
       "0.208035477892507"
      ],
      "text/latex": [
       "0.208035477892507"
      ],
      "text/markdown": [
       "0.208035477892507"
      ],
      "text/plain": [
       "[1] 0.2080355"
      ]
     },
     "metadata": {},
     "output_type": "display_data"
    }
   ],
   "source": [
    "sum((df1[,1] - mean(df1[,1]))*(df1[,2] - mean(df1[,2]))) / sum((df1[,1] - mean(df1[,1]))^2)"
   ]
  },
  {
   "cell_type": "code",
   "execution_count": 81,
   "metadata": {
    "ExecuteTime": {
     "end_time": "2020-03-05T20:54:39.267959Z",
     "start_time": "2020-03-05T20:54:39.211Z"
    }
   },
   "outputs": [
    {
     "data": {
      "text/html": [
       "0.208035477892507"
      ],
      "text/latex": [
       "0.208035477892507"
      ],
      "text/markdown": [
       "0.208035477892507"
      ],
      "text/plain": [
       "[1] 0.2080355"
      ]
     },
     "metadata": {},
     "output_type": "display_data"
    }
   ],
   "source": [
    "0.25144/1.20864"
   ]
  },
  {
   "cell_type": "code",
   "execution_count": 82,
   "metadata": {
    "ExecuteTime": {
     "end_time": "2020-03-05T20:57:10.233564Z",
     "start_time": "2020-03-05T20:57:10.191Z"
    }
   },
   "outputs": [
    {
     "data": {
      "text/html": [
       "0.195037728355838"
      ],
      "text/latex": [
       "0.195037728355838"
      ],
      "text/markdown": [
       "0.195037728355838"
      ],
      "text/plain": [
       "[1] 0.1950377"
      ]
     },
     "metadata": {},
     "output_type": "display_data"
    }
   ],
   "source": [
    "0.396 -  0.208035477892507 * 0.966 "
   ]
  },
  {
   "cell_type": "code",
   "execution_count": 79,
   "metadata": {
    "ExecuteTime": {
     "end_time": "2020-03-05T20:48:29.097022Z",
     "start_time": "2020-03-05T20:48:29.022Z"
    }
   },
   "outputs": [
    {
     "data": {
      "text/plain": [
       "\n",
       "Call:\n",
       "lm(formula = Y ~ X, data = df1)\n",
       "\n",
       "Residuals:\n",
       "      Min        1Q    Median        3Q       Max \n",
       "-0.052270 -0.021620 -0.006904  0.016034  0.070284 \n",
       "\n",
       "Coefficients:\n",
       "            Estimate Std. Error t value Pr(>|t|)    \n",
       "(Intercept)  0.19504    0.03841   5.078 0.000955 ***\n",
       "X            0.20804    0.03741   5.561 0.000534 ***\n",
       "---\n",
       "Signif. codes:  0 ‘***’ 0.001 ‘**’ 0.01 ‘*’ 0.05 ‘.’ 0.1 ‘ ’ 1\n",
       "\n",
       "Residual standard error: 0.04113 on 8 degrees of freedom\n",
       "Multiple R-squared:  0.7945,\tAdjusted R-squared:  0.7688 \n",
       "F-statistic: 30.93 on 1 and 8 DF,  p-value: 0.000534\n"
      ]
     },
     "metadata": {},
     "output_type": "display_data"
    }
   ],
   "source": [
    "summary(lm(Y~X, data = df1))"
   ]
  },
  {
   "cell_type": "markdown",
   "metadata": {},
   "source": [
    "#### F"
   ]
  },
  {
   "cell_type": "code",
   "execution_count": 84,
   "metadata": {
    "ExecuteTime": {
     "end_time": "2020-03-05T21:15:11.759338Z",
     "start_time": "2020-03-05T21:15:11.719Z"
    }
   },
   "outputs": [
    {
     "data": {
      "text/html": [
       "30.9252992152021"
      ],
      "text/latex": [
       "30.9252992152021"
      ],
      "text/markdown": [
       "30.9252992152021"
      ],
      "text/plain": [
       "[1] 30.9253"
      ]
     },
     "metadata": {},
     "output_type": "display_data"
    }
   ],
   "source": [
    "cor(df1[,1], df1[,2])^2/(1-cor(df1[,1], df1[,2])^2) * (10-2)/1"
   ]
  },
  {
   "cell_type": "code",
   "execution_count": 105,
   "metadata": {
    "ExecuteTime": {
     "end_time": "2020-03-05T22:21:34.466826Z",
     "start_time": "2020-03-05T22:21:34.447Z"
    }
   },
   "outputs": [
    {
     "data": {
      "text/html": [
       "0.000534010748183698"
      ],
      "text/latex": [
       "0.000534010748183698"
      ],
      "text/markdown": [
       "0.000534010748183698"
      ],
      "text/plain": [
       "[1] 0.0005340107"
      ]
     },
     "metadata": {},
     "output_type": "display_data"
    }
   ],
   "source": [
    "pf(30.9252992152021, df1=1, df2=8, lower.tail = F)"
   ]
  },
  {
   "cell_type": "code",
   "execution_count": 103,
   "metadata": {
    "ExecuteTime": {
     "end_time": "2020-03-05T22:17:58.752113Z",
     "start_time": "2020-03-05T22:17:58.742Z"
    }
   },
   "outputs": [
    {
     "data": {
      "text/html": [
       "5.31765507157871"
      ],
      "text/latex": [
       "5.31765507157871"
      ],
      "text/markdown": [
       "5.31765507157871"
      ],
      "text/plain": [
       "[1] 5.317655"
      ]
     },
     "metadata": {},
     "output_type": "display_data"
    }
   ],
   "source": [
    "qf(0.05, df1=1, df2=8, lower.tail = F)"
   ]
  },
  {
   "cell_type": "markdown",
   "metadata": {},
   "source": [
    "#### t"
   ]
  },
  {
   "cell_type": "code",
   "execution_count": 128,
   "metadata": {
    "ExecuteTime": {
     "end_time": "2020-03-06T10:06:02.368136Z",
     "start_time": "2020-03-06T10:06:02.308Z"
    }
   },
   "outputs": [
    {
     "name": "stdout",
     "output_type": "stream",
     "text": [
      "-0.0232161768599419 }^2+{ 0.016382049245433 }^2+{ 0.00141779189833205 }^2+{ -0.0152250463330685 }^2+{ -0.0522696584590945 }^2+{ -0.01683214191157 }^2+{ 0.0486053746359545 }^2+{ 0.0702839555202541 }^2+{ 0.0149894095843262 }^2+{ -0.0441355573206249 }^2+{"
     ]
    }
   ],
   "source": [
    "cat(paste(lm(Y~X, data = df1)[[2]], \"}^2+{\"))"
   ]
  },
  {
   "cell_type": "code",
   "execution_count": 129,
   "metadata": {
    "ExecuteTime": {
     "end_time": "2020-03-06T10:08:04.804827Z",
     "start_time": "2020-03-06T10:08:04.746Z"
    }
   },
   "outputs": [
    {
     "data": {
      "text/html": [
       "0.0016914449298385"
      ],
      "text/latex": [
       "0.0016914449298385"
      ],
      "text/markdown": [
       "0.0016914449298385"
      ],
      "text/plain": [
       "[1] 0.001691445"
      ]
     },
     "metadata": {},
     "output_type": "display_data"
    },
    {
     "data": {
      "text/html": [
       "0.0411271799402597"
      ],
      "text/latex": [
       "0.0411271799402597"
      ],
      "text/markdown": [
       "0.0411271799402597"
      ],
      "text/plain": [
       "[1] 0.04112718"
      ]
     },
     "metadata": {},
     "output_type": "display_data"
    }
   ],
   "source": [
    "sum(lm(Y~X, data = df1)$residuals^2)/8\n",
    "sqrt(sum(lm(Y~X, data = df1)$residuals^2)/8)"
   ]
  },
  {
   "cell_type": "code",
   "execution_count": 141,
   "metadata": {
    "ExecuteTime": {
     "end_time": "2020-03-06T10:35:16.647637Z",
     "start_time": "2020-03-06T10:35:16.611Z"
    }
   },
   "outputs": [
    {
     "data": {
      "text/html": [
       "0.0374093747612531"
      ],
      "text/latex": [
       "0.0374093747612531"
      ],
      "text/markdown": [
       "0.0374093747612531"
      ],
      "text/plain": [
       "[1] 0.03740937"
      ]
     },
     "metadata": {},
     "output_type": "display_data"
    }
   ],
   "source": [
    "sqrt((0.0016914449298385)/(1.20864))"
   ]
  },
  {
   "cell_type": "code",
   "execution_count": 146,
   "metadata": {
    "ExecuteTime": {
     "end_time": "2020-03-06T10:48:07.417495Z",
     "start_time": "2020-03-06T10:48:07.378Z"
    }
   },
   "outputs": [
    {
     "data": {
      "text/html": [
       "5.56105198817652"
      ],
      "text/latex": [
       "5.56105198817652"
      ],
      "text/markdown": [
       "5.56105198817652"
      ],
      "text/plain": [
       "[1] 5.561052"
      ]
     },
     "metadata": {},
     "output_type": "display_data"
    }
   ],
   "source": [
    "0.208035477892507 / 0.0374093747612531"
   ]
  },
  {
   "cell_type": "code",
   "execution_count": 162,
   "metadata": {
    "ExecuteTime": {
     "end_time": "2020-03-06T11:00:57.632446Z",
     "start_time": "2020-03-06T11:00:57.588Z"
    }
   },
   "outputs": [
    {
     "data": {
      "text/html": [
       "0.000534010748183702"
      ],
      "text/latex": [
       "0.000534010748183702"
      ],
      "text/markdown": [
       "0.000534010748183702"
      ],
      "text/plain": [
       "[1] 0.0005340107"
      ]
     },
     "metadata": {},
     "output_type": "display_data"
    }
   ],
   "source": [
    "pt(5.56105198817652, df = 8, lower.tail = F)*2"
   ]
  },
  {
   "cell_type": "code",
   "execution_count": 144,
   "metadata": {
    "ExecuteTime": {
     "end_time": "2020-03-06T10:41:19.098797Z",
     "start_time": "2020-03-06T10:41:19.036Z"
    }
   },
   "outputs": [
    {
     "data": {
      "text/html": [
       "10.5402"
      ],
      "text/latex": [
       "10.5402"
      ],
      "text/markdown": [
       "10.5402"
      ],
      "text/plain": [
       "[1] 10.5402"
      ]
     },
     "metadata": {},
     "output_type": "display_data"
    },
    {
     "data": {
      "text/html": [
       "0.0384065127359383"
      ],
      "text/latex": [
       "0.0384065127359383"
      ],
      "text/markdown": [
       "0.0384065127359383"
      ],
      "text/plain": [
       "[1] 0.03840651"
      ]
     },
     "metadata": {},
     "output_type": "display_data"
    }
   ],
   "source": [
    "sum(df1[,1]^2)\n",
    "\n",
    "sqrt((0.0016914449298385 * sum(df1[,1]^2))/(1.20864 * 10))\n"
   ]
  },
  {
   "cell_type": "code",
   "execution_count": 147,
   "metadata": {
    "ExecuteTime": {
     "end_time": "2020-03-06T10:51:29.533349Z",
     "start_time": "2020-03-06T10:51:29.495Z"
    }
   },
   "outputs": [
    {
     "data": {
      "text/html": [
       "5.07824622601923"
      ],
      "text/latex": [
       "5.07824622601923"
      ],
      "text/markdown": [
       "5.07824622601923"
      ],
      "text/plain": [
       "[1] 5.078246"
      ]
     },
     "metadata": {},
     "output_type": "display_data"
    }
   ],
   "source": [
    "0.195037728355838/0.0384065127359383"
   ]
  },
  {
   "cell_type": "code",
   "execution_count": 163,
   "metadata": {
    "ExecuteTime": {
     "end_time": "2020-03-06T11:47:47.491557Z",
     "start_time": "2020-03-06T11:47:47.478Z"
    }
   },
   "outputs": [
    {
     "data": {
      "text/html": [
       "0.000955201976987425"
      ],
      "text/latex": [
       "0.000955201976987425"
      ],
      "text/markdown": [
       "0.000955201976987425"
      ],
      "text/plain": [
       "[1] 0.000955202"
      ]
     },
     "metadata": {},
     "output_type": "display_data"
    }
   ],
   "source": [
    "pt(5.07824622601923, df = 8, lower.tail = F)*2"
   ]
  },
  {
   "cell_type": "code",
   "execution_count": 168,
   "metadata": {
    "ExecuteTime": {
     "end_time": "2020-03-06T11:55:26.251366Z",
     "start_time": "2020-03-06T11:55:26.212Z"
    }
   },
   "outputs": [
    {
     "data": {
      "text/html": [
       "-2.30600413520417"
      ],
      "text/latex": [
       "-2.30600413520417"
      ],
      "text/markdown": [
       "-2.30600413520417"
      ],
      "text/plain": [
       "[1] -2.306004"
      ]
     },
     "metadata": {},
     "output_type": "display_data"
    },
    {
     "data": {
      "text/html": [
       "-1.8595480375309"
      ],
      "text/latex": [
       "-1.8595480375309"
      ],
      "text/markdown": [
       "-1.8595480375309"
      ],
      "text/plain": [
       "[1] -1.859548"
      ]
     },
     "metadata": {},
     "output_type": "display_data"
    }
   ],
   "source": [
    "qt(0.025, df = 8)\n",
    "qt(0.05, df = 8)"
   ]
  },
  {
   "cell_type": "code",
   "execution_count": 134,
   "metadata": {
    "ExecuteTime": {
     "end_time": "2020-03-06T10:24:50.788048Z",
     "start_time": "2020-03-06T10:24:50.738Z"
    }
   },
   "outputs": [
    {
     "data": {
      "text/plain": [
       "\n",
       "Call:\n",
       "lm(formula = Y ~ X, data = df1)\n",
       "\n",
       "Residuals:\n",
       "      Min        1Q    Median        3Q       Max \n",
       "-0.052270 -0.021620 -0.006904  0.016034  0.070284 \n",
       "\n",
       "Coefficients:\n",
       "            Estimate Std. Error t value Pr(>|t|)    \n",
       "(Intercept)  0.19504    0.03841   5.078 0.000955 ***\n",
       "X            0.20804    0.03741   5.561 0.000534 ***\n",
       "---\n",
       "Signif. codes:  0 ‘***’ 0.001 ‘**’ 0.01 ‘*’ 0.05 ‘.’ 0.1 ‘ ’ 1\n",
       "\n",
       "Residual standard error: 0.04113 on 8 degrees of freedom\n",
       "Multiple R-squared:  0.7945,\tAdjusted R-squared:  0.7688 \n",
       "F-statistic: 30.93 on 1 and 8 DF,  p-value: 0.000534\n"
      ]
     },
     "metadata": {},
     "output_type": "display_data"
    }
   ],
   "source": [
    "summary(lm(Y~X, data = df1))"
   ]
  },
  {
   "cell_type": "code",
   "execution_count": 21,
   "metadata": {
    "ExecuteTime": {
     "end_time": "2020-03-07T09:04:12.406413Z",
     "start_time": "2020-03-07T09:04:12.390Z"
    }
   },
   "outputs": [],
   "source": [
    "m1 = lm(Y~X, data = df1)"
   ]
  },
  {
   "cell_type": "code",
   "execution_count": 181,
   "metadata": {
    "ExecuteTime": {
     "end_time": "2020-03-06T21:11:19.540898Z",
     "start_time": "2020-03-06T21:11:19.501Z"
    }
   },
   "outputs": [
    {
     "data": {
      "text/html": [
       "<strong>1:</strong> 0.411394625364045"
      ],
      "text/latex": [
       "\\textbf{1:} 0.411394625364045"
      ],
      "text/markdown": [
       "**1:** 0.411394625364045"
      ],
      "text/plain": [
       "        1 \n",
       "0.4113946 "
      ]
     },
     "metadata": {},
     "output_type": "display_data"
    }
   ],
   "source": [
    "predict(m1, newdata=data.frame(X = 1.04))"
   ]
  },
  {
   "cell_type": "code",
   "execution_count": 214,
   "metadata": {
    "ExecuteTime": {
     "end_time": "2020-03-07T06:26:21.103984Z",
     "start_time": "2020-03-07T06:26:21.096Z"
    }
   },
   "outputs": [],
   "source": [
    "# predict.lm(m1, newdata=data.frame(X = 1.04), interval='confidence', level = 0.95)"
   ]
  },
  {
   "cell_type": "code",
   "execution_count": 213,
   "metadata": {
    "ExecuteTime": {
     "end_time": "2020-03-07T06:26:12.762759Z",
     "start_time": "2020-03-07T06:26:12.751Z"
    }
   },
   "outputs": [
    {
     "data": {
      "text/html": [
       "<table>\n",
       "<caption>A matrix: 1 × 3 of type dbl</caption>\n",
       "<thead>\n",
       "\t<tr><th scope=col>fit</th><th scope=col>lwr</th><th scope=col>upr</th></tr>\n",
       "</thead>\n",
       "<tbody>\n",
       "\t<tr><td>0.4113946</td><td>0.3117215</td><td>0.5110677</td></tr>\n",
       "</tbody>\n",
       "</table>\n"
      ],
      "text/latex": [
       "A matrix: 1 × 3 of type dbl\n",
       "\\begin{tabular}{r|lll}\n",
       " fit & lwr & upr\\\\\n",
       "\\hline\n",
       "\t 0.4113946 & 0.3117215 & 0.5110677\\\\\n",
       "\\end{tabular}\n"
      ],
      "text/markdown": [
       "\n",
       "A matrix: 1 × 3 of type dbl\n",
       "\n",
       "| fit | lwr | upr |\n",
       "|---|---|---|\n",
       "| 0.4113946 | 0.3117215 | 0.5110677 |\n",
       "\n"
      ],
      "text/plain": [
       "  fit       lwr       upr      \n",
       "1 0.4113946 0.3117215 0.5110677"
      ]
     },
     "metadata": {},
     "output_type": "display_data"
    }
   ],
   "source": [
    "predict.lm(m1, newdata=data.frame(X = 1.04), interval='prediction', level = 0.95)"
   ]
  },
  {
   "cell_type": "code",
   "execution_count": 22,
   "metadata": {
    "ExecuteTime": {
     "end_time": "2020-03-07T09:04:15.411647Z",
     "start_time": "2020-03-07T09:04:15.317Z"
    }
   },
   "outputs": [
    {
     "data": {
      "text/html": [
       "<table>\n",
       "<caption>A matrix: 1 × 3 of type dbl</caption>\n",
       "<thead>\n",
       "\t<tr><th scope=col>fit</th><th scope=col>lwr</th><th scope=col>upr</th></tr>\n",
       "</thead>\n",
       "<tbody>\n",
       "\t<tr><td>0.4113946</td><td>0.3807319</td><td>0.4420574</td></tr>\n",
       "</tbody>\n",
       "</table>\n"
      ],
      "text/latex": [
       "A matrix: 1 × 3 of type dbl\n",
       "\\begin{tabular}{r|lll}\n",
       " fit & lwr & upr\\\\\n",
       "\\hline\n",
       "\t 0.4113946 & 0.3807319 & 0.4420574\\\\\n",
       "\\end{tabular}\n"
      ],
      "text/markdown": [
       "\n",
       "A matrix: 1 × 3 of type dbl\n",
       "\n",
       "| fit | lwr | upr |\n",
       "|---|---|---|\n",
       "| 0.4113946 | 0.3807319 | 0.4420574 |\n",
       "\n"
      ],
      "text/plain": [
       "  fit       lwr       upr      \n",
       "1 0.4113946 0.3807319 0.4420574"
      ]
     },
     "metadata": {},
     "output_type": "display_data"
    }
   ],
   "source": [
    "predict.lm(m1, newdata=data.frame(X = 1.04), interval='confidence', level = 0.95)"
   ]
  },
  {
   "cell_type": "code",
   "execution_count": 26,
   "metadata": {
    "ExecuteTime": {
     "end_time": "2020-03-07T09:06:07.096448Z",
     "start_time": "2020-03-07T09:06:07.084Z"
    }
   },
   "outputs": [
    {
     "data": {
      "text/html": [
       "0.442057340511991"
      ],
      "text/latex": [
       "0.442057340511991"
      ],
      "text/markdown": [
       "0.442057340511991"
      ],
      "text/plain": [
       "[1] 0.4420573"
      ]
     },
     "metadata": {},
     "output_type": "display_data"
    }
   ],
   "source": [
    "0.4113946 - qt(0.025, df = 8)*0.0411271799402597*sqrt(1/10+(1.04-mean(df1[,1]))^2/(sum((df1[,1]-mean(df1[,1]))^2)))\n",
    "0.4113946 - qt(0.025, df = 8)*0.0411271799402597*sqrt(1+1/10+(1.04-mean(df1[,1]))^2/(sum((df1[,1]-mean(df1[,1]))^2)))"
   ]
  },
  {
   "cell_type": "code",
   "execution_count": 30,
   "metadata": {
    "ExecuteTime": {
     "end_time": "2020-03-07T10:03:54.016326Z",
     "start_time": "2020-03-07T10:03:53.977Z"
    }
   },
   "outputs": [
    {
     "data": {
      "text/html": [
       "0.0904975937101495"
      ],
      "text/latex": [
       "0.0904975937101495"
      ],
      "text/markdown": [
       "0.0904975937101495"
      ],
      "text/plain": [
       "[1] 0.09049759"
      ]
     },
     "metadata": {},
     "output_type": "display_data"
    },
    {
     "data": {
      "text/html": [
       "0.092189038639988"
      ],
      "text/latex": [
       "0.092189038639988"
      ],
      "text/markdown": [
       "0.092189038639988"
      ],
      "text/plain": [
       "[1] 0.09218904"
      ]
     },
     "metadata": {},
     "output_type": "display_data"
    },
    {
     "data": {
      "text/html": [
       "2.76106805579685"
      ],
      "text/latex": [
       "2.76106805579685"
      ],
      "text/markdown": [
       "2.76106805579685"
      ],
      "text/plain": [
       "[1] 2.761068"
      ]
     },
     "metadata": {},
     "output_type": "display_data"
    },
    {
     "data": {
      "text/html": [
       "2.76752094510395"
      ],
      "text/latex": [
       "2.76752094510395"
      ],
      "text/markdown": [
       "2.76752094510395"
      ],
      "text/plain": [
       "[1] 2.767521"
      ]
     },
     "metadata": {},
     "output_type": "display_data"
    }
   ],
   "source": [
    "(0.0411271799402597*sqrt(1/10+(9-mean(df1[,1]))^2/(sum((df1[,1]-mean(df1[,1]))^2))))^2\n",
    "(0.0411271799402597*sqrt(1+1/10+(9-mean(df1[,1]))^2/(sum((df1[,1]-mean(df1[,1]))^2))))^2\n",
    "\n",
    "2.06735702939 - qt(0.025, df = 8)*0.0411271799402597*sqrt(1/10+(9-mean(df1[,1]))^2/(sum((df1[,1]-mean(df1[,1]))^2)))\n",
    "2.06735702939 - qt(0.025, df = 8)*0.0411271799402597*sqrt(1+1/10+(9-mean(df1[,1]))^2/(sum((df1[,1]-mean(df1[,1]))^2)))"
   ]
  },
  {
   "cell_type": "code",
   "execution_count": 28,
   "metadata": {
    "ExecuteTime": {
     "end_time": "2020-03-07T09:54:33.511807Z",
     "start_time": "2020-03-07T09:54:33.494Z"
    }
   },
   "outputs": [
    {
     "data": {
      "text/html": [
       "<table>\n",
       "<caption>A matrix: 1 × 3 of type dbl</caption>\n",
       "<thead>\n",
       "\t<tr><th scope=col>fit</th><th scope=col>lwr</th><th scope=col>upr</th></tr>\n",
       "</thead>\n",
       "<tbody>\n",
       "\t<tr><td>2.067357</td><td>1.367193</td><td>2.767521</td></tr>\n",
       "</tbody>\n",
       "</table>\n"
      ],
      "text/latex": [
       "A matrix: 1 × 3 of type dbl\n",
       "\\begin{tabular}{r|lll}\n",
       " fit & lwr & upr\\\\\n",
       "\\hline\n",
       "\t 2.067357 & 1.367193 & 2.767521\\\\\n",
       "\\end{tabular}\n"
      ],
      "text/markdown": [
       "\n",
       "A matrix: 1 × 3 of type dbl\n",
       "\n",
       "| fit | lwr | upr |\n",
       "|---|---|---|\n",
       "| 2.067357 | 1.367193 | 2.767521 |\n",
       "\n"
      ],
      "text/plain": [
       "  fit      lwr      upr     \n",
       "1 2.067357 1.367193 2.767521"
      ]
     },
     "metadata": {},
     "output_type": "display_data"
    },
    {
     "data": {
      "text/html": [
       "<table>\n",
       "<caption>A matrix: 1 × 3 of type dbl</caption>\n",
       "<thead>\n",
       "\t<tr><th scope=col>fit</th><th scope=col>lwr</th><th scope=col>upr</th></tr>\n",
       "</thead>\n",
       "<tbody>\n",
       "\t<tr><td>2.067357</td><td>1.373646</td><td>2.761068</td></tr>\n",
       "</tbody>\n",
       "</table>\n"
      ],
      "text/latex": [
       "A matrix: 1 × 3 of type dbl\n",
       "\\begin{tabular}{r|lll}\n",
       " fit & lwr & upr\\\\\n",
       "\\hline\n",
       "\t 2.067357 & 1.373646 & 2.761068\\\\\n",
       "\\end{tabular}\n"
      ],
      "text/markdown": [
       "\n",
       "A matrix: 1 × 3 of type dbl\n",
       "\n",
       "| fit | lwr | upr |\n",
       "|---|---|---|\n",
       "| 2.067357 | 1.373646 | 2.761068 |\n",
       "\n"
      ],
      "text/plain": [
       "  fit      lwr      upr     \n",
       "1 2.067357 1.373646 2.761068"
      ]
     },
     "metadata": {},
     "output_type": "display_data"
    }
   ],
   "source": [
    "predict.lm(m1, newdata=data.frame(X = 9), interval='prediction', level = 0.95)\n",
    "predict.lm(m1, newdata=data.frame(X = 9), interval='confidence', level = 0.95)"
   ]
  },
  {
   "cell_type": "code",
   "execution_count": 212,
   "metadata": {
    "ExecuteTime": {
     "end_time": "2020-03-06T21:40:16.890870Z",
     "start_time": "2020-03-06T21:40:16.854Z"
    }
   },
   "outputs": [
    {
     "data": {
      "text/html": [
       "18.3070380532751"
      ],
      "text/latex": [
       "18.3070380532751"
      ],
      "text/markdown": [
       "18.3070380532751"
      ],
      "text/plain": [
       "[1] 18.30704"
      ]
     },
     "metadata": {},
     "output_type": "display_data"
    }
   ],
   "source": [
    "qchisq(0.95, df = 10)"
   ]
  },
  {
   "cell_type": "code",
   "execution_count": 217,
   "metadata": {
    "ExecuteTime": {
     "end_time": "2020-03-07T06:28:44.672448Z",
     "start_time": "2020-03-07T06:28:44.662Z"
    }
   },
   "outputs": [
    {
     "data": {
      "text/html": [
       "-2.42353354022286"
      ],
      "text/latex": [
       "-2.42353354022286"
      ],
      "text/markdown": [
       "-2.42353354022286"
      ],
      "text/plain": [
       "[1] -2.423534"
      ]
     },
     "metadata": {},
     "output_type": "display_data"
    }
   ],
   "source": [
    "(0.3117215-0.4113946)/0.0411271799402597\n"
   ]
  },
  {
   "cell_type": "code",
   "execution_count": 178,
   "metadata": {
    "ExecuteTime": {
     "end_time": "2020-03-06T14:46:21.412575Z",
     "start_time": "2020-03-06T14:46:21.402Z"
    }
   },
   "outputs": [
    {
     "data": {
      "text/html": [
       "0.411394625364045"
      ],
      "text/latex": [
       "0.411394625364045"
      ],
      "text/markdown": [
       "0.411394625364045"
      ],
      "text/plain": [
       "[1] 0.4113946"
      ]
     },
     "metadata": {},
     "output_type": "display_data"
    }
   ],
   "source": [
    "0.195037728355838 + 0.208035477892507 * 1.04 "
   ]
  },
  {
   "cell_type": "code",
   "execution_count": 116,
   "metadata": {
    "ExecuteTime": {
     "end_time": "2020-03-06T00:18:07.672394Z",
     "start_time": "2020-03-06T00:18:07.632Z"
    }
   },
   "outputs": [
    {
     "data": {
      "text/html": [
       "0.0016914449298385"
      ],
      "text/latex": [
       "0.0016914449298385"
      ],
      "text/markdown": [
       "0.0016914449298385"
      ],
      "text/plain": [
       "[1] 0.001691445"
      ]
     },
     "metadata": {},
     "output_type": "display_data"
    }
   ],
   "source": [
    "sum(lm(Y~X, data = df1)[[2]]^2)/8"
   ]
  },
  {
   "cell_type": "code",
   "execution_count": 114,
   "metadata": {
    "ExecuteTime": {
     "end_time": "2020-03-06T00:17:13.262455Z",
     "start_time": "2020-03-06T00:17:13.220Z"
    }
   },
   "outputs": [
    {
     "data": {
      "text/html": [
       "7.90872599233235e-35"
      ],
      "text/latex": [
       "7.90872599233235e-35"
      ],
      "text/markdown": [
       "7.90872599233235e-35"
      ],
      "text/plain": [
       "[1] 7.908726e-35"
      ]
     },
     "metadata": {},
     "output_type": "display_data"
    }
   ],
   "source": [
    "sum(lm(Y~X, data = df1)[[2]])^2"
   ]
  },
  {
   "cell_type": "code",
   "execution_count": null,
   "metadata": {},
   "outputs": [],
   "source": [
    "a = paste(df1[,1], '-0.966)(')\n",
    "b = paste(df1[,2], '-0.396)+(')\n",
    "cc = c()\n",
    "for (i in 1:10){\n",
    "    cc = c(cc, a[i], b[i]) \n",
    "}\n",
    "cat(paste(cc, \"\"))"
   ]
  },
  {
   "cell_type": "markdown",
   "metadata": {},
   "source": [
    "### 2"
   ]
  },
  {
   "cell_type": "code",
   "execution_count": 17,
   "metadata": {
    "ExecuteTime": {
     "end_time": "2020-04-07T08:23:15.475949Z",
     "start_time": "2020-04-07T08:23:15.402Z"
    }
   },
   "outputs": [
    {
     "data": {
      "text/html": [
       "<table>\n",
       "<caption>A data.frame: 12 × 4</caption>\n",
       "<thead>\n",
       "\t<tr><th scope=col>Х1</th><th scope=col>X2</th><th scope=col>Y.1</th><th scope=col>c</th></tr>\n",
       "\t<tr><th scope=col>&lt;dbl&gt;</th><th scope=col>&lt;int&gt;</th><th scope=col>&lt;int&gt;</th><th scope=col>&lt;dbl&gt;</th></tr>\n",
       "</thead>\n",
       "<tbody>\n",
       "\t<tr><td>49.0</td><td>16</td><td>71</td><td>1</td></tr>\n",
       "\t<tr><td>20.0</td><td>44</td><td>67</td><td>1</td></tr>\n",
       "\t<tr><td>31.9</td><td>13</td><td>72</td><td>1</td></tr>\n",
       "\t<tr><td>33.4</td><td>12</td><td>71</td><td>1</td></tr>\n",
       "\t<tr><td>35.3</td><td>12</td><td>72</td><td>1</td></tr>\n",
       "\t<tr><td>24.6</td><td>18</td><td>73</td><td>1</td></tr>\n",
       "\t<tr><td>30.8</td><td>22</td><td>73</td><td>1</td></tr>\n",
       "\t<tr><td>43.4</td><td> 8</td><td>78</td><td>1</td></tr>\n",
       "\t<tr><td>42.4</td><td>10</td><td>72</td><td>1</td></tr>\n",
       "\t<tr><td>53.8</td><td> 7</td><td>77</td><td>1</td></tr>\n",
       "\t<tr><td>60.6</td><td> 7</td><td>76</td><td>1</td></tr>\n",
       "\t<tr><td>58.1</td><td> 6</td><td>77</td><td>1</td></tr>\n",
       "</tbody>\n",
       "</table>\n"
      ],
      "text/latex": [
       "A data.frame: 12 × 4\n",
       "\\begin{tabular}{r|llll}\n",
       " Х1 & X2 & Y.1 & c\\\\\n",
       " <dbl> & <int> & <int> & <dbl>\\\\\n",
       "\\hline\n",
       "\t 49.0 & 16 & 71 & 1\\\\\n",
       "\t 20.0 & 44 & 67 & 1\\\\\n",
       "\t 31.9 & 13 & 72 & 1\\\\\n",
       "\t 33.4 & 12 & 71 & 1\\\\\n",
       "\t 35.3 & 12 & 72 & 1\\\\\n",
       "\t 24.6 & 18 & 73 & 1\\\\\n",
       "\t 30.8 & 22 & 73 & 1\\\\\n",
       "\t 43.4 &  8 & 78 & 1\\\\\n",
       "\t 42.4 & 10 & 72 & 1\\\\\n",
       "\t 53.8 &  7 & 77 & 1\\\\\n",
       "\t 60.6 &  7 & 76 & 1\\\\\n",
       "\t 58.1 &  6 & 77 & 1\\\\\n",
       "\\end{tabular}\n"
      ],
      "text/markdown": [
       "\n",
       "A data.frame: 12 × 4\n",
       "\n",
       "| Х1 &lt;dbl&gt; | X2 &lt;int&gt; | Y.1 &lt;int&gt; | c &lt;dbl&gt; |\n",
       "|---|---|---|---|\n",
       "| 49.0 | 16 | 71 | 1 |\n",
       "| 20.0 | 44 | 67 | 1 |\n",
       "| 31.9 | 13 | 72 | 1 |\n",
       "| 33.4 | 12 | 71 | 1 |\n",
       "| 35.3 | 12 | 72 | 1 |\n",
       "| 24.6 | 18 | 73 | 1 |\n",
       "| 30.8 | 22 | 73 | 1 |\n",
       "| 43.4 |  8 | 78 | 1 |\n",
       "| 42.4 | 10 | 72 | 1 |\n",
       "| 53.8 |  7 | 77 | 1 |\n",
       "| 60.6 |  7 | 76 | 1 |\n",
       "| 58.1 |  6 | 77 | 1 |\n",
       "\n"
      ],
      "text/plain": [
       "   Х1   X2 Y.1 c\n",
       "1  49.0 16 71  1\n",
       "2  20.0 44 67  1\n",
       "3  31.9 13 72  1\n",
       "4  33.4 12 71  1\n",
       "5  35.3 12 72  1\n",
       "6  24.6 18 73  1\n",
       "7  30.8 22 73  1\n",
       "8  43.4  8 78  1\n",
       "9  42.4 10 72  1\n",
       "10 53.8  7 77  1\n",
       "11 60.6  7 76  1\n",
       "12 58.1  6 77  1"
      ]
     },
     "metadata": {},
     "output_type": "display_data"
    }
   ],
   "source": [
    "df2['c']=1\n",
    "df2"
   ]
  },
  {
   "cell_type": "code",
   "execution_count": 8,
   "metadata": {
    "ExecuteTime": {
     "end_time": "2020-04-07T08:21:38.646592Z",
     "start_time": "2020-04-07T08:21:38.590Z"
    }
   },
   "outputs": [],
   "source": [
    "printmrow <- function(x) {\n",
    "    \n",
    "    cat(cat(x, sep = \" & \"), \"\\\\\\\\ \\n\")\n",
    "}\n",
    "\n",
    "matrix2latex <- function(matr) {\n",
    "    cat(\"\\\\begin{bmatrix}\", \"\\n\")\n",
    "    body <- apply(matr, 1, printmrow)\n",
    "    cat(\"\\\\end{bmatrix}\")\n",
    "}\n",
    "\n",
    "vex2latex <- function(matr) {\n",
    "    cat(\"\\\\begin{bmatrix}\", \"\\n\")\n",
    "    cat(matr, sep = \" \\\\\\\\ \")\n",
    "#     body <- apply(matr, 1, printmrow)\n",
    "    cat(\"\\\\end{bmatrix}\")\n",
    "}"
   ]
  },
  {
   "cell_type": "code",
   "execution_count": 18,
   "metadata": {
    "ExecuteTime": {
     "end_time": "2020-04-07T08:23:26.761933Z",
     "start_time": "2020-04-07T08:23:26.721Z"
    }
   },
   "outputs": [],
   "source": [
    "x = data.matrix(df2[,c(4,1,2)])\n",
    "y = data.matrix(df2[,3])"
   ]
  },
  {
   "cell_type": "code",
   "execution_count": 19,
   "metadata": {
    "ExecuteTime": {
     "end_time": "2020-04-07T08:23:27.172902Z",
     "start_time": "2020-04-07T08:23:27.121Z"
    }
   },
   "outputs": [
    {
     "name": "stdout",
     "output_type": "stream",
     "text": [
      "\\begin{bmatrix} \n",
      "71 \\\\ 67 \\\\ 72 \\\\ 71 \\\\ 72 \\\\ 73 \\\\ 73 \\\\ 78 \\\\ 72 \\\\ 77 \\\\ 76 \\\\ 77\\end{bmatrix}"
     ]
    }
   ],
   "source": [
    "vex2latex(y)"
   ]
  },
  {
   "cell_type": "code",
   "execution_count": 20,
   "metadata": {
    "ExecuteTime": {
     "end_time": "2020-04-07T08:23:28.878361Z",
     "start_time": "2020-04-07T08:23:28.844Z"
    }
   },
   "outputs": [],
   "source": [
    "library(MASS)"
   ]
  },
  {
   "cell_type": "code",
   "execution_count": 21,
   "metadata": {
    "ExecuteTime": {
     "end_time": "2020-04-07T08:23:29.199026Z",
     "start_time": "2020-04-07T08:23:29.151Z"
    }
   },
   "outputs": [
    {
     "name": "stdout",
     "output_type": "stream",
     "text": [
      "\\begin{bmatrix} \n",
      "72.51012 \\\\ \n",
      "0.07834808 \\\\ \n",
      "-0.1656405 \\\\ \n",
      "\\end{bmatrix}"
     ]
    }
   ],
   "source": [
    "# matrix2latex(x)\n",
    "# matrix2latex(t(x)%*%x)\n",
    "# matrix2latex((ginv(t(x)%*%x)))\n",
    "# matrix2latex((t(x)%*%y))\n",
    "matrix2latex((ginv(t(x)%*%x))%*%(t(x)%*%y))\n",
    "\n",
    "# matrix2latex((ginv(t(x)%*%x))%*%(t(x)%*%y))\n",
    "\n",
    "# matrix2latex()\n"
   ]
  },
  {
   "cell_type": "code",
   "execution_count": 22,
   "metadata": {
    "ExecuteTime": {
     "end_time": "2020-04-07T08:23:31.634510Z",
     "start_time": "2020-04-07T08:23:31.591Z"
    }
   },
   "outputs": [],
   "source": [
    "colnames(df2)  <-  c('x1','x2','y','x0')"
   ]
  },
  {
   "cell_type": "code",
   "execution_count": 23,
   "metadata": {
    "ExecuteTime": {
     "end_time": "2020-04-07T08:23:32.360410Z",
     "start_time": "2020-04-07T08:23:32.317Z"
    }
   },
   "outputs": [
    {
     "data": {
      "text/html": [
       "<ol class=list-inline>\n",
       "\t<li>12</li>\n",
       "\t<li>4</li>\n",
       "</ol>\n"
      ],
      "text/latex": [
       "\\begin{enumerate*}\n",
       "\\item 12\n",
       "\\item 4\n",
       "\\end{enumerate*}\n"
      ],
      "text/markdown": [
       "1. 12\n",
       "2. 4\n",
       "\n",
       "\n"
      ],
      "text/plain": [
       "[1] 12  4"
      ]
     },
     "metadata": {},
     "output_type": "display_data"
    }
   ],
   "source": [
    "dim(df2)"
   ]
  },
  {
   "cell_type": "code",
   "execution_count": 24,
   "metadata": {
    "ExecuteTime": {
     "end_time": "2020-04-07T08:23:33.500165Z",
     "start_time": "2020-04-07T08:23:33.418Z"
    }
   },
   "outputs": [
    {
     "data": {
      "text/plain": [
       "\n",
       "Call:\n",
       "lm(formula = y ~ x1 + x2, data = df2)\n",
       "\n",
       "Residuals:\n",
       "    Min      1Q  Median      3Q     Max \n",
       "-2.6989 -1.5009  0.0563  1.4617  3.4147 \n",
       "\n",
       "Coefficients:\n",
       "            Estimate Std. Error t value Pr(>|t|)    \n",
       "(Intercept) 72.51012    3.91160  18.537 1.77e-08 ***\n",
       "x1           0.07835    0.07016   1.117   0.2931    \n",
       "x2          -0.16564    0.08801  -1.882   0.0925 .  \n",
       "---\n",
       "Signif. codes:  0 ‘***’ 0.001 ‘**’ 0.01 ‘*’ 0.05 ‘.’ 0.1 ‘ ’ 1\n",
       "\n",
       "Residual standard error: 2.081 on 9 degrees of freedom\n",
       "Multiple R-squared:  0.6528,\tAdjusted R-squared:  0.5757 \n",
       "F-statistic: 8.461 on 2 and 9 DF,  p-value: 0.008561\n"
      ]
     },
     "metadata": {},
     "output_type": "display_data"
    },
    {
     "ename": "ERROR",
     "evalue": "Error in eval(expr, envir, enclos): object 'sq' not found\n",
     "output_type": "error",
     "traceback": [
      "Error in eval(expr, envir, enclos): object 'sq' not found\nTraceback:\n"
     ]
    }
   ],
   "source": [
    "m2  <-  lm(y~x1+x2, data = df2)\n",
    "summary(m2)\n",
    "sq# df2"
   ]
  },
  {
   "cell_type": "code",
   "execution_count": 25,
   "metadata": {
    "ExecuteTime": {
     "end_time": "2020-04-07T08:23:43.728867Z",
     "start_time": "2020-04-07T08:23:43.685Z"
    }
   },
   "outputs": [
    {
     "data": {
      "text/html": [
       "2.2621571627982"
      ],
      "text/latex": [
       "2.2621571627982"
      ],
      "text/markdown": [
       "2.2621571627982"
      ],
      "text/plain": [
       "[1] 2.262157"
      ]
     },
     "metadata": {},
     "output_type": "display_data"
    }
   ],
   "source": [
    "qt(0.975, 9, lower.tail = TRUE)"
   ]
  },
  {
   "cell_type": "code",
   "execution_count": 26,
   "metadata": {
    "ExecuteTime": {
     "end_time": "2020-04-07T08:23:44.303085Z",
     "start_time": "2020-04-07T08:23:44.214Z"
    }
   },
   "outputs": [
    {
     "data": {
      "text/html": [
       "0.092510525603109"
      ],
      "text/latex": [
       "0.092510525603109"
      ],
      "text/markdown": [
       "0.092510525603109"
      ],
      "text/plain": [
       "[1] 0.09251053"
      ]
     },
     "metadata": {},
     "output_type": "display_data"
    }
   ],
   "source": [
    "pt(-1.882, 9, lower.tail = T)*2"
   ]
  },
  {
   "cell_type": "code",
   "execution_count": 27,
   "metadata": {
    "ExecuteTime": {
     "end_time": "2020-04-07T08:23:44.807222Z",
     "start_time": "2020-04-07T08:23:44.766Z"
    }
   },
   "outputs": [
    {
     "name": "stdout",
     "output_type": "stream",
     "text": [
      "\\begin{bmatrix} \n",
      "-2.69893 \\\\ 0.2110998 \\\\ -0.856099 \\\\ -2.139262 \\\\ -1.288123 \\\\ 1.544045 \\\\ 1.720849 \\\\ 3.414695 \\\\ -2.175675 \\\\ 1.434235 \\\\ -0.09853209 \\\\ 0.9316976\\end{bmatrix}"
     ]
    }
   ],
   "source": [
    "vex2latex(m2$residuals)"
   ]
  },
  {
   "cell_type": "code",
   "execution_count": 28,
   "metadata": {
    "ExecuteTime": {
     "end_time": "2020-04-07T08:23:46.210648Z",
     "start_time": "2020-04-07T08:23:46.175Z"
    }
   },
   "outputs": [
    {
     "name": "stdout",
     "output_type": "stream",
     "text": [
      "\\begin{bmatrix} \n",
      "-2.69893 \\\\ 0.2110998 \\\\ -0.856099 \\\\ -2.139262 \\\\ -1.288123 \\\\ 1.544045 \\\\ 1.720849 \\\\ 3.414695 \\\\ -2.175675 \\\\ 1.434235 \\\\ -0.09853209 \\\\ 0.9316976\\end{bmatrix}"
     ]
    }
   ],
   "source": [
    "vex2latex(m2$residuals)"
   ]
  },
  {
   "cell_type": "code",
   "execution_count": 102,
   "metadata": {
    "ExecuteTime": {
     "end_time": "2020-03-10T14:18:15.539642Z",
     "start_time": "2020-03-10T14:18:15.523Z"
    }
   },
   "outputs": [
    {
     "name": "stdout",
     "output_type": "stream",
     "text": [
      "\\begin{bmatrix} \n",
      "15.30065 & -0.2641519 & -0.2949316 \\\\ \n",
      "-0.2641519 & 0.004922747 & 0.004518049 \\\\ \n",
      "-0.2949316 & 0.004518049 & 0.007746324 \\\\ \n",
      "\\end{bmatrix}"
     ]
    }
   ],
   "source": [
    "matrix2latex((t(m2$residuals)%*%m2$residuals/(9))[1,1]*(ginv(t(x)%*%x)))"
   ]
  },
  {
   "cell_type": "code",
   "execution_count": 105,
   "metadata": {
    "ExecuteTime": {
     "end_time": "2020-03-10T14:23:50.445182Z",
     "start_time": "2020-03-10T14:23:50.430Z"
    }
   },
   "outputs": [
    {
     "name": "stderr",
     "output_type": "stream",
     "text": [
      "Warning message in sqrt((t(m2$residuals) %*% m2$residuals/(9))[1, 1] * (ginv(t(x) %*% :\n",
      "“NaNs produced”"
     ]
    },
    {
     "data": {
      "text/html": [
       "<table>\n",
       "<caption>A matrix: 3 × 3 of type dbl</caption>\n",
       "<tbody>\n",
       "\t<tr><td>3.911604</td><td>       NaN</td><td>       NaN</td></tr>\n",
       "\t<tr><td>     NaN</td><td>0.07016229</td><td>0.06721643</td></tr>\n",
       "\t<tr><td>     NaN</td><td>0.06721643</td><td>0.08801320</td></tr>\n",
       "</tbody>\n",
       "</table>\n"
      ],
      "text/latex": [
       "A matrix: 3 × 3 of type dbl\n",
       "\\begin{tabular}{lll}\n",
       "\t 3.911604 &        NaN &        NaN\\\\\n",
       "\t      NaN & 0.07016229 & 0.06721643\\\\\n",
       "\t      NaN & 0.06721643 & 0.08801320\\\\\n",
       "\\end{tabular}\n"
      ],
      "text/markdown": [
       "\n",
       "A matrix: 3 × 3 of type dbl\n",
       "\n",
       "| 3.911604 |        NaN |        NaN |\n",
       "|      NaN | 0.07016229 | 0.06721643 |\n",
       "|      NaN | 0.06721643 | 0.08801320 |\n",
       "\n"
      ],
      "text/plain": [
       "     [,1]     [,2]       [,3]      \n",
       "[1,] 3.911604        NaN        NaN\n",
       "[2,]      NaN 0.07016229 0.06721643\n",
       "[3,]      NaN 0.06721643 0.08801320"
      ]
     },
     "metadata": {},
     "output_type": "display_data"
    }
   ],
   "source": [
    "sqrt((t(m2$residuals)%*%m2$residuals/(9))[1,1]*(ginv(t(x)%*%x)))"
   ]
  },
  {
   "cell_type": "code",
   "execution_count": 130,
   "metadata": {
    "ExecuteTime": {
     "end_time": "2020-03-10T14:47:22.408905Z",
     "start_time": "2020-03-10T14:47:22.362Z"
    }
   },
   "outputs": [
    {
     "data": {
      "text/html": [
       "2.2621571627982"
      ],
      "text/latex": [
       "2.2621571627982"
      ],
      "text/markdown": [
       "2.2621571627982"
      ],
      "text/plain": [
       "[1] 2.262157"
      ]
     },
     "metadata": {},
     "output_type": "display_data"
    },
    {
     "data": {
      "text/plain": [
       "\n",
       "Call:\n",
       "lm(formula = y ~ x1 + x2, data = df2)\n",
       "\n",
       "Residuals:\n",
       "    Min      1Q  Median      3Q     Max \n",
       "-2.6989 -1.5009  0.0563  1.4617  3.4147 \n",
       "\n",
       "Coefficients:\n",
       "            Estimate Std. Error t value Pr(>|t|)    \n",
       "(Intercept) 72.51012    3.91160  18.537 1.77e-08 ***\n",
       "x1           0.07835    0.07016   1.117   0.2931    \n",
       "x2          -0.16564    0.08801  -1.882   0.0925 .  \n",
       "---\n",
       "Signif. codes:  0 ‘***’ 0.001 ‘**’ 0.01 ‘*’ 0.05 ‘.’ 0.1 ‘ ’ 1\n",
       "\n",
       "Residual standard error: 2.081 on 9 degrees of freedom\n",
       "Multiple R-squared:  0.6528,\tAdjusted R-squared:  0.5757 \n",
       "F-statistic: 8.461 on 2 and 9 DF,  p-value: 0.008561\n"
      ]
     },
     "metadata": {},
     "output_type": "display_data"
    },
    {
     "data": {
      "text/html": [
       "<table>\n",
       "<caption>A matrix: 3 × 2 of type dbl</caption>\n",
       "<thead>\n",
       "\t<tr><th></th><th scope=col>2.5 %</th><th scope=col>97.5 %</th></tr>\n",
       "</thead>\n",
       "<tbody>\n",
       "\t<tr><th scope=row>(Intercept)</th><td>63.66145876</td><td>81.35878591</td></tr>\n",
       "\t<tr><th scope=row>x1</th><td>-0.08037006</td><td> 0.23706621</td></tr>\n",
       "\t<tr><th scope=row>x2</th><td>-0.36474024</td><td> 0.03345916</td></tr>\n",
       "</tbody>\n",
       "</table>\n"
      ],
      "text/latex": [
       "A matrix: 3 × 2 of type dbl\n",
       "\\begin{tabular}{r|ll}\n",
       "  & 2.5 \\% & 97.5 \\%\\\\\n",
       "\\hline\n",
       "\t(Intercept) & 63.66145876 & 81.35878591\\\\\n",
       "\tx1 & -0.08037006 &  0.23706621\\\\\n",
       "\tx2 & -0.36474024 &  0.03345916\\\\\n",
       "\\end{tabular}\n"
      ],
      "text/markdown": [
       "\n",
       "A matrix: 3 × 2 of type dbl\n",
       "\n",
       "| <!--/--> | 2.5 % | 97.5 % |\n",
       "|---|---|---|\n",
       "| (Intercept) | 63.66145876 | 81.35878591 |\n",
       "| x1 | -0.08037006 |  0.23706621 |\n",
       "| x2 | -0.36474024 |  0.03345916 |\n",
       "\n"
      ],
      "text/plain": [
       "            2.5 %       97.5 %     \n",
       "(Intercept) 63.66145876 81.35878591\n",
       "x1          -0.08037006  0.23706621\n",
       "x2          -0.36474024  0.03345916"
      ]
     },
     "metadata": {},
     "output_type": "display_data"
    }
   ],
   "source": [
    "qt(0.975, 9, lower.tail = TRUE)\n",
    "summary(m2)\n",
    "confint(m2)"
   ]
  },
  {
   "cell_type": "code",
   "execution_count": 143,
   "metadata": {
    "ExecuteTime": {
     "end_time": "2020-03-10T15:14:05.147891Z",
     "start_time": "2020-03-10T15:14:05.121Z"
    }
   },
   "outputs": [
    {
     "data": {
      "text/html": [
       "8.46146414397881"
      ],
      "text/latex": [
       "8.46146414397881"
      ],
      "text/markdown": [
       "8.46146414397881"
      ],
      "text/plain": [
       "[1] 8.461464"
      ]
     },
     "metadata": {},
     "output_type": "display_data"
    }
   ],
   "source": [
    "0.652817000455118/(1-0.652817000455118) * 9/2"
   ]
  },
  {
   "cell_type": "code",
   "execution_count": 144,
   "metadata": {
    "ExecuteTime": {
     "end_time": "2020-03-10T15:15:13.861906Z",
     "start_time": "2020-03-10T15:15:13.837Z"
    }
   },
   "outputs": [
    {
     "data": {
      "text/html": [
       "4.25649472909375"
      ],
      "text/latex": [
       "4.25649472909375"
      ],
      "text/markdown": [
       "4.25649472909375"
      ],
      "text/plain": [
       "[1] 4.256495"
      ]
     },
     "metadata": {},
     "output_type": "display_data"
    }
   ],
   "source": [
    "qf(0.05, df1=2, df2=9, lower.tail = F)"
   ]
  },
  {
   "cell_type": "code",
   "execution_count": 187,
   "metadata": {
    "ExecuteTime": {
     "end_time": "2020-03-10T15:53:01.381814Z",
     "start_time": "2020-03-10T15:53:01.347Z"
    }
   },
   "outputs": [
    {
     "data": {
      "text/html": [
       "-0.132867132867133"
      ],
      "text/latex": [
       "-0.132867132867133"
      ],
      "text/markdown": [
       "-0.132867132867133"
      ],
      "text/plain": [
       "[1] -0.1328671"
      ]
     },
     "metadata": {},
     "output_type": "display_data"
    },
    {
     "data": {
      "text/html": [
       "-0.0280703482329002"
      ],
      "text/latex": [
       "-0.0280703482329002"
      ],
      "text/markdown": [
       "-0.0280703482329002"
      ],
      "text/plain": [
       "[1] -0.02807035"
      ]
     },
     "metadata": {},
     "output_type": "display_data"
    },
    {
     "data": {
      "text/plain": [
       "\n",
       "\tSpearman's rank correlation rho\n",
       "\n",
       "data:  m2$residuals and x[, 2]\n",
       "S = 324, p-value = 0.6806\n",
       "alternative hypothesis: true rho is not equal to 0\n",
       "sample estimates:\n",
       "       rho \n",
       "-0.1328671 \n"
      ]
     },
     "metadata": {},
     "output_type": "display_data"
    },
    {
     "data": {
      "text/plain": [
       "\n",
       "\tSpearman's rank correlation rho\n",
       "\n",
       "data:  m2$residuals and x[, 3]\n",
       "S = 294.03, p-value = 0.931\n",
       "alternative hypothesis: true rho is not equal to 0\n",
       "sample estimates:\n",
       "        rho \n",
       "-0.02807035 \n"
      ]
     },
     "metadata": {},
     "output_type": "display_data"
    }
   ],
   "source": [
    "cor(m2$residuals, x[,2], method = \"spearman\")\n",
    "cor(m2$residuals, x[,3], method = \"spearman\")\n",
    "\n",
    "cor.test(m2$residuals, x[,2], method = \"spearman\", exact = FALSE)\n",
    "cor.test(m2$residuals, x[,3], method = \"spearman\", exact = FALSE)"
   ]
  },
  {
   "cell_type": "code",
   "execution_count": 167,
   "metadata": {
    "ExecuteTime": {
     "end_time": "2020-03-10T15:35:26.129994Z",
     "start_time": "2020-03-10T15:35:26.114Z"
    },
    "scrolled": true
   },
   "outputs": [
    {
     "data": {
      "text/html": [
       "-0.132867132867133"
      ],
      "text/latex": [
       "-0.132867132867133"
      ],
      "text/markdown": [
       "-0.132867132867133"
      ],
      "text/plain": [
       "[1] -0.1328671"
      ]
     },
     "metadata": {},
     "output_type": "display_data"
    },
    {
     "data": {
      "text/html": [
       "-0.0244755244755244"
      ],
      "text/latex": [
       "-0.0244755244755244"
      ],
      "text/markdown": [
       "-0.0244755244755244"
      ],
      "text/plain": [
       "[1] -0.02447552"
      ]
     },
     "metadata": {},
     "output_type": "display_data"
    }
   ],
   "source": [
    "# m2$residuals\n",
    "1 - 6*sum((rank(m2$residuals)-rank(x[,2]))^2)/(12^3-12)\n",
    "\n",
    "1 - 6*sum((rank(m2$residuals)-rank(x[,3]))^2)/(12^3-12)"
   ]
  },
  {
   "cell_type": "code",
   "execution_count": 199,
   "metadata": {
    "ExecuteTime": {
     "end_time": "2020-03-10T16:06:19.494461Z",
     "start_time": "2020-03-10T16:06:19.464Z"
    }
   },
   "outputs": [
    {
     "data": {
      "text/html": [
       "-0.423921312476319"
      ],
      "text/latex": [
       "-0.423921312476319"
      ],
      "text/markdown": [
       "-0.423921312476319"
      ],
      "text/plain": [
       "[1] -0.4239213"
      ]
     },
     "metadata": {},
     "output_type": "display_data"
    },
    {
     "data": {
      "text/html": [
       "-0.0774215974981098"
      ],
      "text/latex": [
       "-0.0774215974981098"
      ],
      "text/markdown": [
       "-0.0774215974981098"
      ],
      "text/plain": [
       "[1] -0.0774216"
      ]
     },
     "metadata": {},
     "output_type": "display_data"
    }
   ],
   "source": [
    "-0.132867132867133*sqrt(10)/(sqrt(1-0.132867132867133^2))\n",
    "\n",
    "-0.0244755244755244*sqrt(10)/(sqrt(1-0.0244755244755244^2))\n"
   ]
  },
  {
   "cell_type": "code",
   "execution_count": 203,
   "metadata": {
    "ExecuteTime": {
     "end_time": "2020-03-10T16:06:54.012172Z",
     "start_time": "2020-03-10T16:06:53.997Z"
    }
   },
   "outputs": [
    {
     "data": {
      "text/html": [
       "0.680597508286082"
      ],
      "text/latex": [
       "0.680597508286082"
      ],
      "text/markdown": [
       "0.680597508286082"
      ],
      "text/plain": [
       "[1] 0.6805975"
      ]
     },
     "metadata": {},
     "output_type": "display_data"
    },
    {
     "data": {
      "text/html": [
       "0.939832100301367"
      ],
      "text/latex": [
       "0.939832100301367"
      ],
      "text/markdown": [
       "0.939832100301367"
      ],
      "text/plain": [
       "[1] 0.9398321"
      ]
     },
     "metadata": {},
     "output_type": "display_data"
    }
   ],
   "source": [
    "pt(-0.423921312476319, 10, lower.tail = T)*2\n",
    "pt(-0.077421597498109, 10, lower.tail = T)*2"
   ]
  },
  {
   "cell_type": "code",
   "execution_count": 194,
   "metadata": {
    "ExecuteTime": {
     "end_time": "2020-03-10T16:00:15.845918Z",
     "start_time": "2020-03-10T16:00:15.832Z"
    }
   },
   "outputs": [
    {
     "data": {
      "text/html": [
       "2.22813885198627"
      ],
      "text/latex": [
       "2.22813885198627"
      ],
      "text/markdown": [
       "2.22813885198627"
      ],
      "text/plain": [
       "[1] 2.228139"
      ]
     },
     "metadata": {},
     "output_type": "display_data"
    }
   ],
   "source": [
    "qt(0.975, 10, lower.tail = T)"
   ]
  },
  {
   "cell_type": "code",
   "execution_count": 181,
   "metadata": {
    "ExecuteTime": {
     "end_time": "2020-03-10T15:46:30.189483Z",
     "start_time": "2020-03-10T15:46:30.162Z"
    }
   },
   "outputs": [
    {
     "data": {
      "text/html": [
       "324"
      ],
      "text/latex": [
       "324"
      ],
      "text/markdown": [
       "324"
      ],
      "text/plain": [
       "[1] 324"
      ]
     },
     "metadata": {},
     "output_type": "display_data"
    },
    {
     "data": {
      "text/html": [
       "293"
      ],
      "text/latex": [
       "293"
      ],
      "text/markdown": [
       "293"
      ],
      "text/plain": [
       "[1] 293"
      ]
     },
     "metadata": {},
     "output_type": "display_data"
    },
    {
     "data": {
      "text/html": [
       "<table>\n",
       "<caption>A matrix: 1 × 1 of type dbl</caption>\n",
       "<tbody>\n",
       "\t<tr><td>324</td></tr>\n",
       "</tbody>\n",
       "</table>\n"
      ],
      "text/latex": [
       "A matrix: 1 × 1 of type dbl\n",
       "\\begin{tabular}{l}\n",
       "\t 324\\\\\n",
       "\\end{tabular}\n"
      ],
      "text/markdown": [
       "\n",
       "A matrix: 1 × 1 of type dbl\n",
       "\n",
       "| 324 |\n",
       "\n"
      ],
      "text/plain": [
       "     [,1]\n",
       "[1,] 324 "
      ]
     },
     "metadata": {},
     "output_type": "display_data"
    }
   ],
   "source": [
    "sum((rank(m2$residuals)-rank(x[,2]))^2)\n",
    "sum((rank(m2$residuals)-rank(x[,3]))^2)\n",
    "t(rank(m2$residuals)-rank(x[,2]))%*%(rank(m2$residuals)-rank(x[,2]))"
   ]
  },
  {
   "cell_type": "code",
   "execution_count": 170,
   "metadata": {
    "ExecuteTime": {
     "end_time": "2020-03-10T15:36:40.570059Z",
     "start_time": "2020-03-10T15:36:40.550Z"
    }
   },
   "outputs": [
    {
     "data": {
      "text/html": [
       "-0.132867132867133"
      ],
      "text/latex": [
       "-0.132867132867133"
      ],
      "text/markdown": [
       "-0.132867132867133"
      ],
      "text/plain": [
       "[1] -0.1328671"
      ]
     },
     "metadata": {},
     "output_type": "display_data"
    },
    {
     "data": {
      "text/html": [
       "-0.0280703482329002"
      ],
      "text/latex": [
       "-0.0280703482329002"
      ],
      "text/markdown": [
       "-0.0280703482329002"
      ],
      "text/plain": [
       "[1] -0.02807035"
      ]
     },
     "metadata": {},
     "output_type": "display_data"
    }
   ],
   "source": [
    "cor(rank(m2$residuals),rank(x[,2]))\n",
    "cor(rank(m2$residuals),rank(x[,3]))"
   ]
  },
  {
   "cell_type": "code",
   "execution_count": 154,
   "metadata": {
    "ExecuteTime": {
     "end_time": "2020-03-10T15:25:58.911432Z",
     "start_time": "2020-03-10T15:25:58.879Z"
    }
   },
   "outputs": [
    {
     "data": {
      "text/plain": [
       "\n",
       "\tSpearman's rank correlation rho\n",
       "\n",
       "data:  m2$residuals and x[, 2]\n",
       "S = 324, p-value = 0.6834\n",
       "alternative hypothesis: true rho is not equal to 0\n",
       "sample estimates:\n",
       "       rho \n",
       "-0.1328671 \n"
      ]
     },
     "metadata": {},
     "output_type": "display_data"
    },
    {
     "name": "stderr",
     "output_type": "stream",
     "text": [
      "Warning message in cor.test.default(m2$residuals, x[, 3], method = \"spearman\"):\n",
      "“Cannot compute exact p-value with ties”"
     ]
    },
    {
     "data": {
      "text/plain": [
       "\n",
       "\tSpearman's rank correlation rho\n",
       "\n",
       "data:  m2$residuals and x[, 3]\n",
       "S = 294.03, p-value = 0.931\n",
       "alternative hypothesis: true rho is not equal to 0\n",
       "sample estimates:\n",
       "        rho \n",
       "-0.02807035 \n"
      ]
     },
     "metadata": {},
     "output_type": "display_data"
    }
   ],
   "source": [
    "cor.test(m2$residuals, x[,2], method = \"spearman\")\n",
    "cor.test(m2$residuals, x[,3], method = \"spearman\")"
   ]
  },
  {
   "cell_type": "code",
   "execution_count": 30,
   "metadata": {
    "ExecuteTime": {
     "end_time": "2020-04-07T08:24:00.616489Z",
     "start_time": "2020-04-07T08:24:00.192Z"
    }
   },
   "outputs": [
    {
     "name": "stderr",
     "output_type": "stream",
     "text": [
      "Loading required package: carData\n"
     ]
    }
   ],
   "source": [
    "library(car)\n",
    "\n"
   ]
  },
  {
   "cell_type": "code",
   "execution_count": 31,
   "metadata": {
    "ExecuteTime": {
     "end_time": "2020-04-07T08:24:01.290860Z",
     "start_time": "2020-04-07T08:24:00.469Z"
    }
   },
   "outputs": [
    {
     "data": {
      "text/plain": [
       " lag Autocorrelation D-W Statistic p-value\n",
       "   1     -0.01031299      1.811439   0.492\n",
       " Alternative hypothesis: rho != 0"
      ]
     },
     "metadata": {},
     "output_type": "display_data"
    },
    {
     "data": {
      "text/plain": [
       " lag Autocorrelation D-W Statistic p-value\n",
       "   1     -0.01031299      1.811439   0.466\n",
       " Alternative hypothesis: rho != 0"
      ]
     },
     "metadata": {},
     "output_type": "display_data"
    },
    {
     "data": {
      "text/plain": [
       " lag Autocorrelation D-W Statistic p-value\n",
       "   1     -0.01031299      1.811439   0.232\n",
       " Alternative hypothesis: rho > 0"
      ]
     },
     "metadata": {},
     "output_type": "display_data"
    },
    {
     "data": {
      "text/plain": [
       " lag Autocorrelation D-W Statistic p-value\n",
       "   1     -0.01031299      1.811439   0.765\n",
       " Alternative hypothesis: rho < 0"
      ]
     },
     "metadata": {},
     "output_type": "display_data"
    }
   ],
   "source": [
    "durbinWatsonTest(m2)\n",
    "durbinWatsonTest(m2, alternative=\"two.sided\")\n",
    "durbinWatsonTest(m2, alternative=\"positive\")\n",
    "durbinWatsonTest(m2, alternative =\"negative\")"
   ]
  },
  {
   "cell_type": "code",
   "execution_count": 33,
   "metadata": {
    "ExecuteTime": {
     "end_time": "2020-04-07T08:24:40.407917Z",
     "start_time": "2020-04-07T08:24:40.088Z"
    }
   },
   "outputs": [
    {
     "data": {
      "text/html": [
       "<dl class=dl-horizontal>\n",
       "\t<dt>2</dt>\n",
       "\t\t<dd>8.46827058744472</dd>\n",
       "\t<dt>3</dt>\n",
       "\t\t<dd>1.13891326119031</dd>\n",
       "\t<dt>4</dt>\n",
       "\t\t<dd>1.6465063975899</dd>\n",
       "\t<dt>5</dt>\n",
       "\t\t<dd>0.724437005043571</dd>\n",
       "\t<dt>6</dt>\n",
       "\t\t<dd>8.02117364657467</dd>\n",
       "\t<dt>7</dt>\n",
       "\t\t<dd>0.0312596783304938</dd>\n",
       "\t<dt>8</dt>\n",
       "\t\t<dd>2.86911661846334</dd>\n",
       "\t<dt>9</dt>\n",
       "\t\t<dd>31.2522462065697</dd>\n",
       "\t<dt>10</dt>\n",
       "\t\t<dd>13.0314523714372</dd>\n",
       "\t<dt>11</dt>\n",
       "\t\t<dd>2.34937445999113</dd>\n",
       "\t<dt>12</dt>\n",
       "\t\t<dd>1.06137314628324</dd>\n",
       "</dl>\n"
      ],
      "text/latex": [
       "\\begin{description*}\n",
       "\\item[2] 8.46827058744472\n",
       "\\item[3] 1.13891326119031\n",
       "\\item[4] 1.6465063975899\n",
       "\\item[5] 0.724437005043571\n",
       "\\item[6] 8.02117364657467\n",
       "\\item[7] 0.0312596783304938\n",
       "\\item[8] 2.86911661846334\n",
       "\\item[9] 31.2522462065697\n",
       "\\item[10] 13.0314523714372\n",
       "\\item[11] 2.34937445999113\n",
       "\\item[12] 1.06137314628324\n",
       "\\end{description*}\n"
      ],
      "text/markdown": [
       "2\n",
       ":   8.468270587444723\n",
       ":   1.138913261190314\n",
       ":   1.64650639758995\n",
       ":   0.7244370050435716\n",
       ":   8.021173646574677\n",
       ":   0.03125967833049388\n",
       ":   2.869116618463349\n",
       ":   31.252246206569710\n",
       ":   13.031452371437211\n",
       ":   2.3493744599911312\n",
       ":   1.06137314628324\n",
       "\n"
      ],
      "text/plain": [
       "          2           3           4           5           6           7 \n",
       " 8.46827059  1.13891326  1.64650640  0.72443701  8.02117365  0.03125968 \n",
       "          8           9          10          11          12 \n",
       " 2.86911662 31.25224621 13.03145237  2.34937446  1.06137315 "
      ]
     },
     "metadata": {},
     "output_type": "display_data"
    }
   ],
   "source": [
    "(m2$residuals[2:12]-m2$residuals[1:11])^2"
   ]
  },
  {
   "cell_type": "code",
   "execution_count": null,
   "metadata": {},
   "outputs": [],
   "source": [
    "a = paste(df1[,1], '-0.966)(')\n",
    "b = paste(df1[,2], '-0.396)+(')\n",
    "cc = c()\n",
    "for (i in 1:10){\n",
    "    cc = c(cc, a[i], b[i]) \n",
    "}\n",
    "cat(paste(cc, \"\"))"
   ]
  },
  {
   "cell_type": "code",
   "execution_count": 38,
   "metadata": {
    "ExecuteTime": {
     "end_time": "2020-04-07T08:27:29.085357Z",
     "start_time": "2020-04-07T08:27:29.039Z"
    }
   },
   "outputs": [
    {
     "name": "stdout",
     "output_type": "stream",
     "text": [
      "( 0.211099759340403 - -2.6989295510695 )^2+ ( -0.856099032445978 - 0.211099759340403 )^2+ ( -2.13926168682379 - -0.856099032445978 )^2+ ( -1.28812303475612 - -2.13926168682379 )^2+ ( 1.54404462387122 - -1.28812303475612 )^2+ ( 1.72084869150117 - 1.54404462387122 )^2+ ( 3.41469538422851 - 1.72084869150117 )^2+ ( -2.17567546273412 - 3.41469538422851 )^2+ ( 1.43423483690452 - -2.17567546273412 )^2+ ( -0.0985320925375037 - 1.43423483690452 )^2+ ( 0.931697564521175 - -0.0985320925375037 )^2+"
     ]
    }
   ],
   "source": [
    "cat(paste('(',m2$residuals[2:12],'-',m2$residuals[1:11],')^2+'))"
   ]
  },
  {
   "cell_type": "code",
   "execution_count": 40,
   "metadata": {
    "ExecuteTime": {
     "end_time": "2020-04-07T08:32:54.241561Z",
     "start_time": "2020-04-07T08:32:54.213Z"
    }
   },
   "outputs": [
    {
     "name": "stdout",
     "output_type": "stream",
     "text": [
      "( -2.6989295510695 )^2+ ( 0.211099759340403 )^2+ ( -0.856099032445978 )^2+ ( -2.13926168682379 )^2+ ( -1.28812303475612 )^2+ ( 1.54404462387122 )^2+ ( 1.72084869150117 )^2+ ( 3.41469538422851 )^2+ ( -2.17567546273412 )^2+ ( 1.43423483690452 )^2+ ( -0.0985320925375037 )^2+ ( 0.931697564521175 )^2+"
     ]
    }
   ],
   "source": [
    "cat(paste('(',m2$residuals,')^2+'))"
   ]
  },
  {
   "cell_type": "code",
   "execution_count": 39,
   "metadata": {
    "ExecuteTime": {
     "end_time": "2020-04-07T08:30:43.645260Z",
     "start_time": "2020-04-07T08:30:43.600Z"
    }
   },
   "outputs": [
    {
     "data": {
      "text/html": [
       "70.5941233789183"
      ],
      "text/latex": [
       "70.5941233789183"
      ],
      "text/markdown": [
       "70.5941233789183"
      ],
      "text/plain": [
       "[1] 70.59412"
      ]
     },
     "metadata": {},
     "output_type": "display_data"
    }
   ],
   "source": [
    "sum((m2$residuals[2:12]-m2$residuals[1:11])^2)"
   ]
  },
  {
   "cell_type": "code",
   "execution_count": 32,
   "metadata": {
    "ExecuteTime": {
     "end_time": "2020-04-07T08:24:18.148719Z",
     "start_time": "2020-04-07T08:24:18.105Z"
    }
   },
   "outputs": [
    {
     "data": {
      "text/html": [
       "1.81143914664977"
      ],
      "text/latex": [
       "1.81143914664977"
      ],
      "text/markdown": [
       "1.81143914664977"
      ],
      "text/plain": [
       "[1] 1.811439"
      ]
     },
     "metadata": {},
     "output_type": "display_data"
    }
   ],
   "source": [
    "sum((m2$residuals[2:12]-m2$residuals[1:11])^2)/sum(m2$residuals^2)"
   ]
  },
  {
   "cell_type": "code",
   "execution_count": 151,
   "metadata": {
    "ExecuteTime": {
     "end_time": "2020-03-10T15:24:31.756309Z",
     "start_time": "2020-03-10T15:24:31.738Z"
    }
   },
   "outputs": [
    {
     "data": {
      "text/plain": [
       "\n",
       "\tPearson's product-moment correlation\n",
       "\n",
       "data:  m2$residuals and x[, 3]\n",
       "t = 9.971e-16, df = 10, p-value = 1\n",
       "alternative hypothesis: true correlation is not equal to 0\n",
       "95 percent confidence interval:\n",
       " -0.5739016  0.5739016\n",
       "sample estimates:\n",
       "         cor \n",
       "3.153096e-16 \n"
      ]
     },
     "metadata": {},
     "output_type": "display_data"
    }
   ],
   "source": [
    "cor.test(m2$residuals, x[,3])"
   ]
  },
  {
   "cell_type": "code",
   "execution_count": 142,
   "metadata": {
    "ExecuteTime": {
     "end_time": "2020-03-10T15:13:43.160311Z",
     "start_time": "2020-03-10T15:13:43.133Z"
    }
   },
   "outputs": [
    {
     "data": {
      "text/html": [
       "0.652817000455118"
      ],
      "text/latex": [
       "0.652817000455118"
      ],
      "text/markdown": [
       "0.652817000455118"
      ],
      "text/plain": [
       "[1] 0.652817"
      ]
     },
     "metadata": {},
     "output_type": "display_data"
    }
   ],
   "source": [
    " 1-(t(m2$residuals)%*%m2$residuals)[1,1] /(t(y-mean(y))%*%(y-mean(y)))[1,1]"
   ]
  },
  {
   "cell_type": "code",
   "execution_count": 101,
   "metadata": {
    "ExecuteTime": {
     "end_time": "2020-03-10T14:15:52.968383Z",
     "start_time": "2020-03-10T14:15:52.938Z"
    }
   },
   "outputs": [
    {
     "data": {
      "text/html": [
       "<table>\n",
       "<caption>A matrix: 1 × 1 of type dbl</caption>\n",
       "<tbody>\n",
       "\t<tr><td>4.330144</td></tr>\n",
       "</tbody>\n",
       "</table>\n"
      ],
      "text/latex": [
       "A matrix: 1 × 1 of type dbl\n",
       "\\begin{tabular}{l}\n",
       "\t 4.330144\\\\\n",
       "\\end{tabular}\n"
      ],
      "text/markdown": [
       "\n",
       "A matrix: 1 × 1 of type dbl\n",
       "\n",
       "| 4.330144 |\n",
       "\n"
      ],
      "text/plain": [
       "     [,1]    \n",
       "[1,] 4.330144"
      ]
     },
     "metadata": {},
     "output_type": "display_data"
    }
   ],
   "source": [
    "(t(m2$residuals)%*%m2$residuals/(9))"
   ]
  },
  {
   "cell_type": "code",
   "execution_count": null,
   "metadata": {},
   "outputs": [],
   "source": []
  }
 ],
 "metadata": {
  "hide_input": false,
  "kernelspec": {
   "display_name": "R 4.2",
   "language": "R",
   "name": "ir42"
  },
  "language_info": {
   "codemirror_mode": "r",
   "file_extension": ".r",
   "mimetype": "text/x-r-source",
   "name": "R",
   "pygments_lexer": "r",
   "version": "4.2.1"
  },
  "latex_envs": {
   "LaTeX_envs_menu_present": true,
   "autoclose": true,
   "autocomplete": true,
   "bibliofile": "biblio.bib",
   "cite_by": "apalike",
   "current_citInitial": 1,
   "eqLabelWithNumbers": true,
   "eqNumInitial": 1,
   "hotkeys": {
    "equation": "Ctrl-E",
    "itemize": "Ctrl-I"
   },
   "labels_anchors": false,
   "latex_user_defs": false,
   "report_style_numbering": false,
   "user_envs_cfg": false
  },
  "toc": {
   "base_numbering": 1,
   "nav_menu": {},
   "number_sections": true,
   "sideBar": true,
   "skip_h1_title": false,
   "title_cell": "Table of Contents",
   "title_sidebar": "Contents",
   "toc_cell": false,
   "toc_position": {},
   "toc_section_display": true,
   "toc_window_display": false
  },
  "varInspector": {
   "cols": {
    "lenName": 16,
    "lenType": 16,
    "lenVar": 40
   },
   "kernels_config": {
    "python": {
     "delete_cmd_postfix": "",
     "delete_cmd_prefix": "del ",
     "library": "var_list.py",
     "varRefreshCmd": "print(var_dic_list())"
    },
    "r": {
     "delete_cmd_postfix": ") ",
     "delete_cmd_prefix": "rm(",
     "library": "var_list.r",
     "varRefreshCmd": "cat(var_dic_list()) "
    }
   },
   "types_to_exclude": [
    "module",
    "function",
    "builtin_function_or_method",
    "instance",
    "_Feature"
   ],
   "window_display": false
  }
 },
 "nbformat": 4,
 "nbformat_minor": 2
}
