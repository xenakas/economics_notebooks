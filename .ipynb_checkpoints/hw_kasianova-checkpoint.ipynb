{
 "cells": [
  {
   "cell_type": "markdown",
   "metadata": {},
   "source": [
    "## Теоретическое домашнее задание I"
   ]
  },
  {
   "cell_type": "markdown",
   "metadata": {},
   "source": [
    "### Линейные модели"
   ]
  },
  {
   "cell_type": "markdown",
   "metadata": {},
   "source": [
    "#### Задача 1 (10 баллов). \n",
    "\n",
    "Вася измерил вес трёх покемонов, $y_1 = 6, y_2 = 6, y_3 = 10$. Вася хочет\n",
    "спрогнозировать вес следующего покемона. Модель для веса покемонов у Васи очень простая,\n",
    "$y_i = β + ε_i$, поэтому прогнозирует Вася по формуле $\\hat{y}_i =\\hat{\\beta}$.\n",
    "Для оценки параметра β Вася использует следующую целевую функцию:\n",
    "$\\sum(y_i − \\hat{\\beta})^2 + λ \\hat{\\beta}^2$"
   ]
  },
  {
   "cell_type": "markdown",
   "metadata": {},
   "source": [
    "a) Найдите оптимальное $\\hat{\\beta }$ при $λ = 0$: \n",
    "\n",
    "\n",
    "$$\\sum(y_i − \\hat{\\beta})^2  \\to \\min_{\\beta}$$\n",
    "\n",
    "$\\dfrac{\\partial F}{\\partial \\beta} =  - 2 \\sum(y_i - \\beta )  = 0 \\\\\n",
    "\\sum(y_i - \\beta ) = 0 \\\\\n",
    "\\hat{ \\beta}   = \\sum y_i / n   =  \\bar{y_i} $"
   ]
  },
  {
   "cell_type": "markdown",
   "metadata": {},
   "source": [
    "б) Найдите оптимальное  $\\hat{\\beta }$  при произвольном $λ$. \n",
    "\n",
    "$$\\sum(y_i − \\hat{\\beta})^2 + λ \\hat{\\beta}^2 \\to \\min_{\\beta}$$"
   ]
  },
  {
   "cell_type": "markdown",
   "metadata": {},
   "source": [
    "$\\dfrac{\\partial F}{\\partial \\beta} =  - 2 \\sum(y_i - \\beta ) + 2\\lambda\\beta = 0 \\\\\n",
    "\\lambda\\beta - \\sum(y_i - \\beta ) = 0 \\\\\n",
    "\\hat{ \\beta} =  \\frac{\\sum y_i}{n + \\lambda} $"
   ]
  },
  {
   "cell_type": "markdown",
   "metadata": {},
   "source": [
    "Правда ли, что чем больше $λ$, тем меньше $β$?\n",
    "\n",
    "$\\frac{\\partial \\hat{ \\beta}}{\\partial \\lambda}  = -  \\frac{\\sum y_i}{(n + \\lambda)^2} $\n",
    "\n",
    "Функция меньше нуля на всей области определения $\\Rightarrow$ чем больше $λ$, тем меньше $β$"
   ]
  },
  {
   "cell_type": "markdown",
   "metadata": {},
   "source": [
    "в) Подберите оптимальное $λ$ с помощью кросс-валидации leave one out («выкинь одного»):\n"
   ]
  },
  {
   "cell_type": "markdown",
   "metadata": {},
   "source": [
    "\n",
    "$$\\sum(y_i − \\hat{\\beta})^2 + λ \\hat{\\beta}^2 \\to \\min_{\\beta}$$\n"
   ]
  },
  {
   "cell_type": "code",
   "execution_count": 37,
   "metadata": {},
   "outputs": [],
   "source": [
    "import numpy as np"
   ]
  },
  {
   "cell_type": "code",
   "execution_count": 38,
   "metadata": {},
   "outputs": [],
   "source": [
    "y = np.array([6, 6, 10])"
   ]
  },
  {
   "cell_type": "code",
   "execution_count": 39,
   "metadata": {},
   "outputs": [],
   "source": [
    "lamb = np.linspace(0, 10, num=101)"
   ]
  },
  {
   "cell_type": "code",
   "execution_count": 40,
   "metadata": {},
   "outputs": [],
   "source": [
    "train_loss = []\n",
    "test_loss = []\n",
    "betas = []\n",
    "y_train = [y[1] + y[2], y[0] + y[2], y[0] + y[1]]\n",
    "y_test = y\n",
    "for i in lamb:\n",
    "    beta = y_train/(2+i)\n",
    "    mse_train =  [1/2 * ((y_test[1]-beta[0])**2 + (y_test[2]-beta[0])**2 ), 1/2 * ((y_test[0]-beta[1])**2 + (y_test[2]-beta[1])**2 ), 1/2 * ((y_test[0]-beta[2])**2 + (y_test[2]-beta[2])**2 ) ]\n",
    "    mse_test =  (y_test - beta)**2\n",
    "    betas.append(np.sum(y_test)/(3+i))\n",
    "    train_loss.append(np.mean(mse_train))\n",
    "    test_loss.append(np.mean(mse_test))              "
   ]
  },
  {
   "cell_type": "code",
   "execution_count": 48,
   "metadata": {},
   "outputs": [
    {
     "data": {
      "image/png": "[encoded data removed]",
      "text/plain": [
       "<Figure size 432x288 with 1 Axes>"
      ]
     },
     "metadata": {},
     "output_type": "display_data"
    }
   ],
   "source": [
    "import matplotlib.pyplot as plt\n",
    "# plt.plot(train_loss)\n",
    "plt.plot(test_loss);"
   ]
  },
  {
   "cell_type": "code",
   "execution_count": 42,
   "metadata": {},
   "outputs": [
    {
     "data": {
      "text/plain": [
       "0.1"
      ]
     },
     "execution_count": 42,
     "metadata": {},
     "output_type": "execute_result"
    }
   ],
   "source": [
    "lamb[np.where(test_loss == np.min(test_loss))[0][0]]"
   ]
  },
  {
   "cell_type": "markdown",
   "metadata": {},
   "source": [
    "г) Найдите оптимальное $\\hat{\\beta}$  при $λ_{CV}$."
   ]
  },
  {
   "cell_type": "markdown",
   "metadata": {},
   "source": [
    "На всей выборке:"
   ]
  },
  {
   "cell_type": "code",
   "execution_count": 43,
   "metadata": {},
   "outputs": [
    {
     "data": {
      "text/plain": [
       "7.096774193548387"
      ]
     },
     "execution_count": 43,
     "metadata": {},
     "output_type": "execute_result"
    }
   ],
   "source": [
    "betas[np.where(test_loss == np.min(test_loss))[0][0]]"
   ]
  },
  {
   "cell_type": "markdown",
   "metadata": {},
   "source": [
    "#### Задача 2 (5 баллов).\n",
    "\n",
    "1. Пусть у нас есть модель $y = β$. В первой задачке мы нашли $\\hat{\\beta}^{Ridge}$. Выпишите её. Постройте график $\\hat{y}(β)$  при нескольких разных $λ$. Что меняется на картинке при росте $λ$?\n",
    "\n"
   ]
  },
  {
   "cell_type": "code",
   "execution_count": 47,
   "metadata": {},
   "outputs": [
    {
     "data": {
      "image/png": "[encoded data removed]",
      "text/plain": [
       "<Figure size 432x288 with 1 Axes>"
      ]
     },
     "metadata": {},
     "output_type": "display_data"
    }
   ],
   "source": [
    "plt.plot(betas);"
   ]
  },
  {
   "cell_type": "markdown",
   "metadata": {},
   "source": [
    "С ростом $λ$  $\\hat{\\beta}^{Ridge}$ уменьшается, поскольку \n",
    "$\\frac{\\partial \\hat{ \\beta}}{\\partial \\lambda}  = -  \\frac{\\sum y_i}{(n + \\lambda)^2} $\n",
    "функция меньше нуля на всей области определения $\\Rightarrow$ чем больше $λ$, тем меньше $β$"
   ]
  },
  {
   "cell_type": "markdown",
   "metadata": {},
   "source": [
    "2. Теперь найдите $\\hat{\\beta}^{Lasso}$. Также постройте график $y(\\hat{\\beta})$ при нескольких разных $λ$\n",
    "\n",
    "\n",
    "\n",
    "\n",
    "\n",
    "\n",
    ". Что меняется на картинке при росте λ? Проинтерпретируйте это."
   ]
  },
  {
   "cell_type": "markdown",
   "metadata": {},
   "source": [
    "$$\\sum(y_i − \\hat{\\beta})^2 + λ | \\hat{\\beta}| \\to \\min_{\\beta}$$"
   ]
  },
  {
   "cell_type": "markdown",
   "metadata": {},
   "source": [
    "$\\dfrac{\\partial F}{\\partial \\beta} =  - 2 \\sum(y_i - \\beta ) + \\lambda \\beta/|\\beta|  = 0 \\\\\n",
    "\\beta>0:\\\\\n",
    "\\dfrac{\\partial F}{\\partial \\beta} =  - 2 \\sum(y_i - \\beta ) + \\lambda = 0 \\\\\n",
    "\\lambda - 2\\sum y_i + 2n \\beta  = 0 \\\\\n",
    "\\hat{ \\beta} =  \\frac{2\\sum y_i - \\lambda}{2n } $\n",
    "\n",
    "$\\beta<0:\\\\\n",
    "\\hat{ \\beta} =  \\frac{2\\sum y_i + \\lambda}{2n } $"
   ]
  },
  {
   "cell_type": "code",
   "execution_count": 49,
   "metadata": {},
   "outputs": [
    {
     "data": {
      "text/plain": [
       "[<matplotlib.lines.Line2D at 0x7f77af0bc240>]"
      ]
     },
     "execution_count": 49,
     "metadata": {},
     "output_type": "execute_result"
    },
    {
     "data": {
      "image/png": "[encoded data removed]",
      "text/plain": [
       "<Figure size 432x288 with 1 Axes>"
      ]
     },
     "metadata": {},
     "output_type": "display_data"
    }
   ],
   "source": [
    "y = np.array([6, 6, 10])\n",
    "lamb = np.linspace(-10, 40, num=100)\n",
    "betas_las = [(2*(np.sum(y)-i))/(2*3) for i in lamb]\n",
    "plt.plot(betas_las)"
   ]
  },
  {
   "cell_type": "markdown",
   "metadata": {},
   "source": [
    "$\\frac{\\partial \\hat{ \\beta}}{\\partial \\lambda}  = -  1/2n$\n",
    "функция меньше нуля (при  $\\beta > 0 $), $\\frac{\\partial \\hat{ \\beta}}{\\partial \\lambda}  =  1/2n$ функция больше  нуля (при  $\\beta < 0 $). \n",
    "То есть при положительных  $\\beta $ она линейно уменьшается до нуля и при отрицательных - линейно увеличивается до нуля. "
   ]
  },
  {
   "cell_type": "markdown",
   "metadata": {},
   "source": [
    "3. Сравните результаты работы моделей между собой. Видно ли, что LASSO зануляет веса, а\n",
    "Ridge нет?\n",
    "\n",
    "Ridge зануляет веса в пределе, а LASSO сводит их точно к нулю"
   ]
  },
  {
   "cell_type": "markdown",
   "metadata": {},
   "source": [
    "#### Задача 3 (20 баллов). \n",
    "\n",
    "Снова у нас есть наша любимая модель\n",
    "$$y_i = βx_i + ε_i, ε_i ∼ N(0, σ^2)$$"
   ]
  },
  {
   "cell_type": "markdown",
   "metadata": {},
   "source": [
    "1. Прогноз по МНК-модели строится как\n",
    "$$\\hat{y}_{n+1} = \\hat{\\beta}^{OLS} x_{n+1} = \\frac{ \\sum^n_{i=1} x_iy_i}{\\sum^n_{i=1} x^2_i}  x_{n+1}$$\n",
    "Разложите ожидаемую квадратичную ошибку прогноза на неустранимую ошибку, смещение и разброс. Покажите, что смещение нулевое. Почему оно оказалось нулевым?"
   ]
  },
  {
   "cell_type": "markdown",
   "metadata": {},
   "source": [
    "$$MSE = E((y- \\hat{y})^2) = E(y^2) + E(\\hat{y}^2) - 2 E(y\\hat{y}) \n",
    "= (Var(y) + E^2(y)) + (Var(\\hat{y}) + E^2(\\hat{y})) - 2E((x 𝛽 + 𝜀) \\hat{y}) = (\\sigma^2 + (x 𝛽)^2) + (Var(\\hat{y}) + E^2(\\hat{y})) - 2 x𝛽 E(\\hat{y}) =\\sigma^2 + Var(\\hat{y}) + (x𝛽 − E(\\hat{y}))^2 = \\sigma^2 + Var(\\hat{y}) + bias(\\hat{y})^2$$\n",
    "\n",
    "$$Var(\\hat{y}) = \\hat{\\beta}^2 Var( x_{n+1}) = \\left( \\frac{ \\sum^n_{i=1} x_iy_i}{\\sum^n_{i=1} x^2_i} \\right)^2 Var( x_{n+1}) $$\n",
    "\n",
    "$$ bias(\\hat{y}) = (\\beta x_{n+1} −  \\hat{\\beta} x_{n+1} )  = \n",
    "x_{n+1}  (\\beta −  \\hat{\\beta} ) = x_{n+1}  \\left(\\beta −  \\frac{ \\sum^n_{i=1} x_iy_i}{\\sum^n_{i=1} x^2_i} \\right) $$\n",
    "\n",
    "\n",
    "При  $ε_i ∼ N(0, σ^2)$ МНК-оценки состоятельны $\\Rightarrow    bias(\\hat{y}) =0 $"
   ]
  },
  {
   "cell_type": "markdown",
   "metadata": {},
   "source": [
    "2. Пусть теперь мы используем $\\hat{\\beta}^{Ridge}$. В этом случае прогноз строится как:\n",
    "$$\\hat{y}_{n+1} = \\hat{\\beta}^{Ridge}  x_{n+1} = \n",
    "\\frac{ \\sum^n_{i=1} x_iy_i}{\\sum^n_{i=1} x^2_i + \\lambda}  x_{n+1} $$\n",
    "Видим, что как и в предыдущей задаче, λ отвечает за стягивание коэффициента к нулю.\n",
    "Разложите ошибку на неустранимую ошибку, смещение и разброс.\n",
    "\n",
    "\n",
    "$$MSE = E((y- \\hat{y})^2) = E(y^2) + E(\\hat{y}^2) - 2 E(y\\hat{y}) \n",
    "= (Var(y) + E^2(y)) + (Var(\\hat{y}) + E^2(\\hat{y})) - 2E((x 𝛽 + 𝜀) \\hat{y}) = (\\sigma^2 + (x 𝛽)^2) + (Var(\\hat{y}) + E^2(\\hat{y})) - 2 x𝛽 E(\\hat{y}) =\\sigma^2 + Var(\\hat{y}) + (x𝛽 − E(\\hat{y}))^2 = \\sigma^2 + Var(\\hat{y}) + bias(\\hat{y})^2$$\n",
    "\n",
    "$$Var(\\hat{y}) = \\hat{\\beta}^2 Var( x_{n+1}) = \\left( \\frac{ \\sum^n_{i=1} x_iy_i}{\\sum^n_{i=1} x^2_i + \\lambda}  \\right)^2 Var( x_{n+1}) $$\n",
    "\n",
    "$$ bias(\\hat{y}) = (\\beta x_{n+1} −  \\hat{\\beta} x_{n+1} )  = \n",
    "x_{n+1}  (\\beta −  \\hat{\\beta} ) = x_{n+1}  \\left(\\beta −  \\frac{ \\sum^n_{i=1} x_iy_i}{\\sum^n_{i=1} x^2_i + \\lambda}  \\right) $$\n",
    "\n",
    "\n"
   ]
  },
  {
   "cell_type": "markdown",
   "metadata": {},
   "source": [
    "3. Нанесите на график функции: $Error(λ), bias(λ), Var(λ)$. Он должен получится похожим\n",
    "на график с лекции."
   ]
  },
  {
   "cell_type": "code",
   "execution_count": 76,
   "metadata": {},
   "outputs": [
    {
     "data": {
      "image/png": "[encoded data removed]",
      "text/plain": [
       "<Figure size 432x288 with 1 Axes>"
      ]
     },
     "metadata": {},
     "output_type": "display_data"
    }
   ],
   "source": [
    "lamb = np.linspace(0, 10, num=101)\n",
    "betas = np.array(betas)\n",
    "error = [2 for i in lamb]\n",
    "var = betas**2*1.5 \n",
    "bias = 1.5*(7-betas)\n",
    "\n",
    "\n",
    "plt.plot(error)\n",
    "plt.plot(bias**2)\n",
    "plt.plot(var)\n",
    "plt.plot(error + bias**2 + var)\n",
    "plt.legend(('error', 'bias**2', 'var', 'total'));"
   ]
  },
  {
   "cell_type": "markdown",
   "metadata": {},
   "source": [
    "$Error$ не зависит от $λ$, с ростом $λ$ модель упрощается - смешение растет, разброс уменьшается"
   ]
  },
  {
   "cell_type": "markdown",
   "metadata": {},
   "source": [
    "4. Найдите значение $λ$, при котором удастся минимизировать ошибку. Покажите, что при\n",
    "оптимальном $λ$ есть смещение."
   ]
  },
  {
   "cell_type": "markdown",
   "metadata": {},
   "source": [
    "Ошибка минимизируется, когда разброс уменьшается ценой ненулевого смешения"
   ]
  },
  {
   "cell_type": "markdown",
   "metadata": {},
   "source": [
    "#### Задача 4 (10 баллов). \n",
    "\n",
    "Давайте попробуем посмотреть, как именно правдоподобие маскируется под различные функции потерь. \n",
    "\n",
    "Будем\n",
    "рассматривать модель вида\n",
    "$$y_i = β x_i + ε_i$$"
   ]
  },
  {
   "cell_type": "markdown",
   "metadata": {},
   "source": [
    "1. Пусть ошибки $ε_i$ независимы и распределены нормально, $ε_i ∼ N(0, σ^2)$. Выпишите функцию правдоподобия и покажите, что её максимизация эквивалентна минимизации MSE."
   ]
  },
  {
   "cell_type": "markdown",
   "metadata": {},
   "source": [
    "$$log L(\\beta) = log \\prod p(y_i|x_i, \\beta) = \n",
    "-1/2 \\sum log(2\\pi \\sigma^2)  - \\sum\\frac{(y_i-\\beta x_i)^2}{2 \\sigma^2}  \\to \\max_\\beta $$ \n",
    "\n",
    "$$ - \\sum\\frac{(y_i-\\beta x_i)^2}{2 \\sigma^2}  \\to \\max_\\beta $$ \n",
    "\n",
    "$$  \\sum\\frac{(y_i-\\beta x_i)^2}{2 \\sigma^2}  \\to \\min_\\beta $$ \n",
    "\n",
    "$$ \\frac{1}{2 \\sigma^2} \\sum(y_i-\\beta x_i)^2  \\to \\min_\\beta $$ \n",
    "\n",
    "$$ \\sum(y_i-\\beta x_i)^2  \\to \\min_\\beta $$ \n",
    "\n",
    "\n",
    "То есть получаем эквивалентную задачу -  задачу минимизации MSE."
   ]
  },
  {
   "cell_type": "markdown",
   "metadata": {},
   "source": [
    "2. Пусть ошибки $ε_i$ в задаче регрессии имеют распределение Лапласа с плотностью распределения\n",
    "$$f_ε(t) = 1/(2σ) e^{−|t|/σ}$$\n",
    "Минимизации какой функции потерь в таком случае эквивалентен метод максимального\n",
    "правдоподобия?"
   ]
  },
  {
   "cell_type": "markdown",
   "metadata": {},
   "source": [
    "$$log L(\\beta) = log \\prod p(y_i|x_i, \\beta) = \n",
    "-\\sum log(2 \\sigma)  - \\sum\\frac{|y_i-\\beta x_i|}{ \\sigma^2}  \\to \\max_\\beta $$ \n",
    "\n",
    "$$ -  \\sum\\frac{|y_i-\\beta x_i|}{ \\sigma^2}   \\to \\max_\\beta $$ \n",
    "\n",
    "$$   \\sum\\frac{|y_i-\\beta x_i|}{ \\sigma^2}   \\to \\min_\\beta $$ \n",
    "\n",
    "$$ \\frac{1}{ \\sigma^2} \\sum|y_i-\\beta x_i|\\to \\min_\\beta $$ \n",
    "\n",
    "$$ \\sum|y_i-\\beta x_i|\\to \\min_\\beta $$ \n",
    "\n",
    "\n",
    "То есть получаем эквивалентную задачу -  задачу минимизации MAE."
   ]
  },
  {
   "cell_type": "markdown",
   "metadata": {},
   "source": [
    "3. Пусть переменная $y_i$ — это лайки на странице Маши. Лайки имеют распределение Пуассона. Маша получает их с какой-то интенсивностью $λ$, зависящей от числа постов за день $x_i$.\n",
    "То есть, $λ = \\beta x_i$. Какую функцию потерь нужно минимизировать, чтобы получить оценку $β$, исходя из принципа максимизации правдоподобия?\n",
    "\n",
    "$$y_i \\sim P(\\lambda_i) $$\n",
    "\n",
    "$$log L(\\beta) = log \\prod p(y_i  |x_i, \\beta) = log \\prod \\frac{\\lambda^{y_i}}{y_i! } e^{-\\lambda}  \\\\  = log \\prod \\frac{(\\beta x_i)^{y_i}}{y_i! } e^{-(\\beta x_i)} = \n",
    "\\sum {y_i} \\log(\\beta x_i)  -  \\sum \\log(y_i!) -  \\sum (\\beta x_i)  \\to \\max_\\beta $$ \n",
    "\n",
    "$$  \\log (\\beta ) \\sum {y_i}  - \\beta \\sum  x_i  \\to \\max_\\beta $$ \n",
    "\n",
    "$$  \\beta \\sum  x_i - \\log (\\beta ) \\sum {y_i} \\to \\min_\\beta $$ \n",
    "\n"
   ]
  },
  {
   "cell_type": "markdown",
   "metadata": {},
   "source": [
    "#### Задача 5 (10 баллов).\n",
    "\n",
    "Два наблюдения: $x_1 = 1, x_2 = 2, y_1 = 2, y_2 = 3$. По которым обучается линейная регрессия $y = βx$. "
   ]
  },
  {
   "cell_type": "markdown",
   "metadata": {},
   "source": [
    "1. Получить теоретическую оценку методом наименьших квадратов. Формулу для неё вы вывели в одной из задач выше."
   ]
  },
  {
   "cell_type": "code",
   "execution_count": 78,
   "metadata": {},
   "outputs": [],
   "source": [
    "x = np.array([1,2])\n",
    "y = np.array([2,3])"
   ]
  },
  {
   "cell_type": "code",
   "execution_count": 82,
   "metadata": {},
   "outputs": [
    {
     "data": {
      "text/plain": [
       "1.6"
      ]
     },
     "execution_count": 82,
     "metadata": {},
     "output_type": "execute_result"
    }
   ],
   "source": [
    "np.sum(x*y)/np.sum(x**2)"
   ]
  },
  {
   "cell_type": "markdown",
   "metadata": {},
   "source": [
    "$$ \\hat{\\beta}^{OLS}= \\frac{ \\sum^n_{i=1} x_iy_i}{\\sum^n_{i=1} x^2_i}  = 1.6 $$"
   ]
  },
  {
   "cell_type": "markdown",
   "metadata": {},
   "source": [
    "2. Методом градиентного спуска. Она собирается в качестве скорости обучения взять $η = 0.1$.\n",
    "В качестве стартовой точки она хочет использовать $β_0 = 0$. Сделайте три шага градиентного спуска с такими параметрами. Как думаете, когда придётся поменять скорость обучения?"
   ]
  },
  {
   "cell_type": "markdown",
   "metadata": {},
   "source": [
    "Проблема оптимизации:\n"
   ]
  },
  {
   "cell_type": "markdown",
   "metadata": {},
   "source": [
    "$$ L(\\beta) =  \\sum(y_i-\\beta x_i)^2  \\to \\min_\\beta $$ \n",
    "\n"
   ]
  },
  {
   "cell_type": "markdown",
   "metadata": {},
   "source": [
    "$\\beta_0 = 0$\n",
    "\n",
    "1 шаг\n",
    "\n",
    "$g_t = - \\sum x_i(y_i-\\beta x_i)  $"
   ]
  },
  {
   "cell_type": "code",
   "execution_count": 105,
   "metadata": {},
   "outputs": [
    {
     "data": {
      "text/plain": [
       "-8"
      ]
     },
     "execution_count": 105,
     "metadata": {},
     "output_type": "execute_result"
    }
   ],
   "source": [
    "beta = 0\n",
    "nu = 0.1\n",
    "g = - np.sum(x*(y - beta * x))\n",
    "g"
   ]
  },
  {
   "cell_type": "markdown",
   "metadata": {},
   "source": [
    "$𝑤_𝑡 = 𝑤_{𝑡−1} − 𝜂_𝑡 𝑔_𝑡$"
   ]
  },
  {
   "cell_type": "code",
   "execution_count": 106,
   "metadata": {},
   "outputs": [
    {
     "data": {
      "text/plain": [
       "0.8"
      ]
     },
     "execution_count": 106,
     "metadata": {},
     "output_type": "execute_result"
    }
   ],
   "source": [
    "beta = 0 - nu * g\n",
    "beta"
   ]
  },
  {
   "cell_type": "markdown",
   "metadata": {},
   "source": [
    "2 шаг"
   ]
  },
  {
   "cell_type": "code",
   "execution_count": 108,
   "metadata": {},
   "outputs": [
    {
     "data": {
      "text/plain": [
       "-4.0"
      ]
     },
     "execution_count": 108,
     "metadata": {},
     "output_type": "execute_result"
    }
   ],
   "source": [
    "g = - np.sum(x*(y - beta * x))\n",
    "g"
   ]
  },
  {
   "cell_type": "markdown",
   "metadata": {},
   "source": [
    "$𝑤_𝑡 = 𝑤_{𝑡−1} − 𝜂_𝑡 𝑔_𝑡$"
   ]
  },
  {
   "cell_type": "code",
   "execution_count": 109,
   "metadata": {},
   "outputs": [
    {
     "data": {
      "text/plain": [
       "1.2000000000000002"
      ]
     },
     "execution_count": 109,
     "metadata": {},
     "output_type": "execute_result"
    }
   ],
   "source": [
    "beta = beta - nu * g\n",
    "beta"
   ]
  },
  {
   "cell_type": "markdown",
   "metadata": {},
   "source": [
    "3 шаг"
   ]
  },
  {
   "cell_type": "code",
   "execution_count": 110,
   "metadata": {},
   "outputs": [
    {
     "data": {
      "text/plain": [
       "-1.9999999999999991"
      ]
     },
     "execution_count": 110,
     "metadata": {},
     "output_type": "execute_result"
    }
   ],
   "source": [
    "g = - np.sum(x*(y - beta * x))\n",
    "g"
   ]
  },
  {
   "cell_type": "markdown",
   "metadata": {},
   "source": [
    "$𝑤_𝑡 = 𝑤_{𝑡−1} − 𝜂_𝑡 𝑔_𝑡$"
   ]
  },
  {
   "cell_type": "code",
   "execution_count": 111,
   "metadata": {},
   "outputs": [
    {
     "data": {
      "text/plain": [
       "1.4000000000000001"
      ]
     },
     "execution_count": 111,
     "metadata": {},
     "output_type": "execute_result"
    }
   ],
   "source": [
    "beta = beta - nu * g\n",
    "beta"
   ]
  },
  {
   "cell_type": "markdown",
   "metadata": {},
   "source": [
    "$\\beta \\approx 1.4$. Придётся поменять скорость обучения, при приближении к оптимуму, когда $|\\beta_n - \\beta_{n-1}| < \\eta$ "
   ]
  },
  {
   "cell_type": "markdown",
   "metadata": {},
   "source": [
    "3. Методом стохастического градиентного спуска. Все параметры берутся такими же как в предыдущем пункте. Делается четыре шага. Сначала с первым наблюдением, потом со вторым. Потом снова с первым. Потом снова со вторым. Правда ли, что траектория спуска оказалась не такой плавной, как в предыдущем пункте? Почему?"
   ]
  },
  {
   "cell_type": "markdown",
   "metadata": {},
   "source": [
    "Проблема оптимизации:\n"
   ]
  },
  {
   "cell_type": "markdown",
   "metadata": {},
   "source": [
    "$$ L(\\beta) =  \\sum(y_i-\\beta x_i)^2  \\to \\min_\\beta $$ \n",
    "\n"
   ]
  },
  {
   "cell_type": "markdown",
   "metadata": {},
   "source": [
    "$\\beta_0 = 0$\n",
    "\n",
    "1 шаг\n",
    "\n",
    "$g_t = - 2 x_i(y_i-\\beta x_i)  $"
   ]
  },
  {
   "cell_type": "code",
   "execution_count": 126,
   "metadata": {},
   "outputs": [
    {
     "data": {
      "text/plain": [
       "-4"
      ]
     },
     "execution_count": 126,
     "metadata": {},
     "output_type": "execute_result"
    }
   ],
   "source": [
    "beta = 0\n",
    "nu = 0.1\n",
    "g = - 2 *  (x[0]*(y[0] - beta * x[0]))\n",
    "g"
   ]
  },
  {
   "cell_type": "markdown",
   "metadata": {},
   "source": [
    "$𝑤_𝑡 = 𝑤_{𝑡−1} − 𝜂_𝑡 𝑔_𝑡$"
   ]
  },
  {
   "cell_type": "code",
   "execution_count": 127,
   "metadata": {},
   "outputs": [
    {
     "data": {
      "text/plain": [
       "0.4"
      ]
     },
     "execution_count": 127,
     "metadata": {},
     "output_type": "execute_result"
    }
   ],
   "source": [
    "beta = 0 - nu * g\n",
    "beta"
   ]
  },
  {
   "cell_type": "markdown",
   "metadata": {},
   "source": [
    "2 шаг"
   ]
  },
  {
   "cell_type": "code",
   "execution_count": 128,
   "metadata": {},
   "outputs": [
    {
     "data": {
      "text/plain": [
       "-8.8"
      ]
     },
     "execution_count": 128,
     "metadata": {},
     "output_type": "execute_result"
    }
   ],
   "source": [
    "g = - 2 *  (x[1]*(y[1] - beta * x[1]))\n",
    "g"
   ]
  },
  {
   "cell_type": "markdown",
   "metadata": {},
   "source": [
    "$𝑤_𝑡 = 𝑤_{𝑡−1} − 𝜂_𝑡 𝑔_𝑡$"
   ]
  },
  {
   "cell_type": "code",
   "execution_count": 129,
   "metadata": {},
   "outputs": [
    {
     "data": {
      "text/plain": [
       "1.2800000000000002"
      ]
     },
     "execution_count": 129,
     "metadata": {},
     "output_type": "execute_result"
    }
   ],
   "source": [
    "beta = beta - nu * g\n",
    "beta"
   ]
  },
  {
   "cell_type": "markdown",
   "metadata": {},
   "source": [
    "3 шаг"
   ]
  },
  {
   "cell_type": "code",
   "execution_count": 130,
   "metadata": {},
   "outputs": [
    {
     "data": {
      "text/plain": [
       "-1.4399999999999995"
      ]
     },
     "execution_count": 130,
     "metadata": {},
     "output_type": "execute_result"
    }
   ],
   "source": [
    "g = - 2 *  (x[0]*(y[0] - beta * x[0]))\n",
    "g"
   ]
  },
  {
   "cell_type": "markdown",
   "metadata": {},
   "source": [
    "$𝑤_𝑡 = 𝑤_{𝑡−1} − 𝜂_𝑡 𝑔_𝑡$"
   ]
  },
  {
   "cell_type": "code",
   "execution_count": 131,
   "metadata": {
    "scrolled": true
   },
   "outputs": [
    {
     "data": {
      "text/plain": [
       "1.4240000000000002"
      ]
     },
     "execution_count": 131,
     "metadata": {},
     "output_type": "execute_result"
    }
   ],
   "source": [
    "beta = beta - nu * g\n",
    "beta"
   ]
  },
  {
   "cell_type": "markdown",
   "metadata": {},
   "source": [
    "4 шаг"
   ]
  },
  {
   "cell_type": "code",
   "execution_count": 132,
   "metadata": {},
   "outputs": [
    {
     "data": {
      "text/plain": [
       "-0.6079999999999988"
      ]
     },
     "execution_count": 132,
     "metadata": {},
     "output_type": "execute_result"
    }
   ],
   "source": [
    "g = - 2 *  (x[1]*(y[1] - beta * x[1]))\n",
    "g"
   ]
  },
  {
   "cell_type": "markdown",
   "metadata": {},
   "source": [
    "$𝑤_𝑡 = 𝑤_{𝑡−1} − 𝜂_𝑡 𝑔_𝑡$"
   ]
  },
  {
   "cell_type": "code",
   "execution_count": 133,
   "metadata": {
    "scrolled": true
   },
   "outputs": [
    {
     "data": {
      "text/plain": [
       "1.4848000000000001"
      ]
     },
     "execution_count": 133,
     "metadata": {},
     "output_type": "execute_result"
    }
   ],
   "source": [
    "beta = beta - nu * g\n",
    "beta"
   ]
  },
  {
   "cell_type": "markdown",
   "metadata": {},
   "source": [
    "$\\beta \\approx 1.5$"
   ]
  },
  {
   "cell_type": "markdown",
   "metadata": {},
   "source": [
    "Спуск не такой плавный, поскольку на каждой итерации\n",
    "используется только одно наблюдение\n"
   ]
  },
  {
   "cell_type": "markdown",
   "metadata": {},
   "source": [
    "### Решающие Деревья"
   ]
  },
  {
   "cell_type": "markdown",
   "metadata": {},
   "source": [
    "#### Задача 6 (5 баллов). "
   ]
  },
  {
   "cell_type": "markdown",
   "metadata": {},
   "source": [
    "Задачка-подсказка:\n",
    "\n",
    "У Винни-Пуха есть 100 песенок. Каждый день он выбирает и поёт одну из них равновероятно наугад. Одну и ту же песенку он может петь несколько\n",
    "раз. Сколько в среднем песенок оказываются неспетыми за 100 дней?"
   ]
  },
  {
   "cell_type": "markdown",
   "metadata": {},
   "source": [
    "$ P(\\text{песенка не спета}) = 99/100   $\n",
    "\n",
    "$ P(\\text{песенка не спета за 100 дней}) = (99/100)^{100} =  0.366  $\n"
   ]
  },
  {
   "cell_type": "code",
   "execution_count": 134,
   "metadata": {},
   "outputs": [
    {
     "data": {
      "text/plain": [
       "0.3660323412732292"
      ]
     },
     "execution_count": 134,
     "metadata": {},
     "output_type": "execute_result"
    }
   ],
   "source": [
    "(99/100)**100"
   ]
  },
  {
   "cell_type": "markdown",
   "metadata": {},
   "source": [
    "Вероятность того, что наблюдение не попадает в выборку,\n",
    "устремите $n$ к бесконечности и воспользуйтесь вторым замечательным пределом.\n",
    "\n",
    "$ P(\\text{наблюдение не попадает в выборку}) = \\lim_{n\\to\\infty}(n-1/n)^{n} = 1/e = 0.37$\n",
    ".\n"
   ]
  },
  {
   "cell_type": "code",
   "execution_count": 139,
   "metadata": {},
   "outputs": [
    {
     "data": {
      "text/plain": [
       "0.36787944117144233"
      ]
     },
     "execution_count": 139,
     "metadata": {},
     "output_type": "execute_result"
    }
   ],
   "source": [
    "from math import e\n",
    "1/e"
   ]
  },
  {
   "cell_type": "markdown",
   "metadata": {},
   "source": [
    "Каждое дерево в случайном лесе строится с использованием примерно 63% выборки: "
   ]
  },
  {
   "cell_type": "markdown",
   "metadata": {},
   "source": [
    "\n",
    "$ P(\\text{наблюдение попадает в выборку}) = 1 - 0.37 = 0.63$"
   ]
  },
  {
   "cell_type": "markdown",
   "metadata": {},
   "source": [
    "#### Задача 7 (10 баллов). \n",
    "\n",
    "Выращиваем регрессионное дерево в домашних условиях:"
   ]
  },
  {
   "cell_type": "code",
   "execution_count": 141,
   "metadata": {},
   "outputs": [],
   "source": [
    "x = np.array([0,1,2,3])\n",
    "y = np.array([5,6,4,100])"
   ]
  },
  {
   "cell_type": "markdown",
   "metadata": {},
   "source": [
    "Критерий деления вершины — минимизация квадратичной функции потерь. Критерий остановки — три листа. Зачем нужен критерий остановки? Как дерево ведёт себя с выбросами?"
   ]
  },
  {
   "cell_type": "markdown",
   "metadata": {},
   "source": [
    "1 шаг"
   ]
  },
  {
   "cell_type": "markdown",
   "metadata": {},
   "source": [
    "$x \\leq 0$"
   ]
  },
  {
   "cell_type": "code",
   "execution_count": 149,
   "metadata": {},
   "outputs": [
    {
     "data": {
      "text/plain": [
       "[5, 36.666666666666664, 36.666666666666664, 36.666666666666664]"
      ]
     },
     "execution_count": 149,
     "metadata": {},
     "output_type": "execute_result"
    }
   ],
   "source": [
    "y_pred = [y[0], np.mean(y[1:]), np.mean(y[1:]), np.mean(y[1:])]\n",
    "y_pred"
   ]
  },
  {
   "cell_type": "code",
   "execution_count": 150,
   "metadata": {},
   "outputs": [
    {
     "data": {
      "text/plain": [
       "6018.666666666666"
      ]
     },
     "execution_count": 150,
     "metadata": {},
     "output_type": "execute_result"
    }
   ],
   "source": [
    "np.sum((y - y_pred)**2) "
   ]
  },
  {
   "cell_type": "markdown",
   "metadata": {},
   "source": [
    "$x \\leq 1$"
   ]
  },
  {
   "cell_type": "code",
   "execution_count": 153,
   "metadata": {},
   "outputs": [
    {
     "data": {
      "text/plain": [
       "[5.5, 5.5, 52.0, 52.0]"
      ]
     },
     "execution_count": 153,
     "metadata": {},
     "output_type": "execute_result"
    }
   ],
   "source": [
    "y_pred = [np.mean(y[0:2]), np.mean(y[0:2]), np.mean(y[2:]), np.mean(y[2:])]\n",
    "y_pred"
   ]
  },
  {
   "cell_type": "code",
   "execution_count": 154,
   "metadata": {},
   "outputs": [
    {
     "data": {
      "text/plain": [
       "4608.5"
      ]
     },
     "execution_count": 154,
     "metadata": {},
     "output_type": "execute_result"
    }
   ],
   "source": [
    "np.sum((y - y_pred)**2) "
   ]
  },
  {
   "cell_type": "markdown",
   "metadata": {},
   "source": [
    "$x \\leq 2$"
   ]
  },
  {
   "cell_type": "code",
   "execution_count": 157,
   "metadata": {},
   "outputs": [
    {
     "data": {
      "text/plain": [
       "[5.0, 5.0, 5.0, 100.0]"
      ]
     },
     "execution_count": 157,
     "metadata": {},
     "output_type": "execute_result"
    }
   ],
   "source": [
    "y_pred = [np.mean(y[0:3]), np.mean(y[0:3]), np.mean(y[0:3]), np.mean(y[3])]\n",
    "y_pred"
   ]
  },
  {
   "cell_type": "code",
   "execution_count": 158,
   "metadata": {},
   "outputs": [
    {
     "data": {
      "text/plain": [
       "2.0"
      ]
     },
     "execution_count": 158,
     "metadata": {},
     "output_type": "execute_result"
    }
   ],
   "source": [
    "np.sum((y - y_pred)**2) "
   ]
  },
  {
   "cell_type": "markdown",
   "metadata": {},
   "source": [
    "Критерий $x \\leq 2$ минимизирует ошибку на первом шаге\n",
    "\n",
    "Выбросы отбрасываются уже на первом шаге "
   ]
  },
  {
   "cell_type": "markdown",
   "metadata": {},
   "source": [
    "2 шаг\n",
    "\n",
    "$x \\leq 0$"
   ]
  },
  {
   "cell_type": "code",
   "execution_count": 160,
   "metadata": {},
   "outputs": [
    {
     "data": {
      "text/plain": [
       "[5, 5.0, 5.0, 100.0]"
      ]
     },
     "execution_count": 160,
     "metadata": {},
     "output_type": "execute_result"
    }
   ],
   "source": [
    "y_pred = [y[0], np.mean(y[1:3]), np.mean(y[1:3]), np.mean(y[3])]\n",
    "y_pred"
   ]
  },
  {
   "cell_type": "code",
   "execution_count": 161,
   "metadata": {},
   "outputs": [
    {
     "data": {
      "text/plain": [
       "2.0"
      ]
     },
     "execution_count": 161,
     "metadata": {},
     "output_type": "execute_result"
    }
   ],
   "source": [
    "np.sum((y - y_pred)**2) "
   ]
  },
  {
   "cell_type": "markdown",
   "metadata": {},
   "source": [
    "$x \\leq 1$"
   ]
  },
  {
   "cell_type": "code",
   "execution_count": 163,
   "metadata": {},
   "outputs": [
    {
     "data": {
      "text/plain": [
       "[5.5, 5.5, 4.0, 100.0]"
      ]
     },
     "execution_count": 163,
     "metadata": {},
     "output_type": "execute_result"
    }
   ],
   "source": [
    "y_pred = [np.mean(y[0:2]), np.mean(y[0:2]), np.mean(y[2]), np.mean(y[3])]\n",
    "y_pred"
   ]
  },
  {
   "cell_type": "code",
   "execution_count": 164,
   "metadata": {},
   "outputs": [
    {
     "data": {
      "text/plain": [
       "0.5"
      ]
     },
     "execution_count": 164,
     "metadata": {},
     "output_type": "execute_result"
    }
   ],
   "source": [
    "np.sum((y - y_pred)**2) "
   ]
  },
  {
   "cell_type": "markdown",
   "metadata": {},
   "source": [
    "Критерий $x \\leq 1$ минимизирует ошибку на втором шаге. \n",
    "\n",
    "Получаем три листа. \n",
    "\n",
    "Если дальше продолжать разбиение, модель переобучится\n"
   ]
  },
  {
   "cell_type": "markdown",
   "metadata": {},
   "source": [
    "#### Задача 8 (10 баллов). \n",
    "\n",
    "Вспоминаем про энтропию. На лекции мы говорили, что энтропия\n",
    "случайной величины отвечает за то, насколько она непредсказуема и находится по формуле\n",
    "$H(X) = −E(\\ln f_X(x))$  для непрерывных величин и $H(X) = −E(\\ln P(X = k))$ для дискретных\n",
    "величин."
   ]
  },
  {
   "cell_type": "markdown",
   "metadata": {},
   "source": [
    "а) Случайная величина $X$ принимает два значения: 0 с вероятностью $p$ и 1 с вероятностью $1−p$.\n",
    "Постройте график зависимости энтропии от $p$. При каком $p$ энтропия будет максимальной?\n",
    "Проинтерпретируйте это. Является ли функция монотонной? Выпуклой?"
   ]
  },
  {
   "cell_type": "markdown",
   "metadata": {},
   "source": [
    "$$H = - E (\\ln p(x=k) ) = - p \\ln p  - (1-p) \\ln (1-p)   $$"
   ]
  },
  {
   "cell_type": "code",
   "execution_count": 182,
   "metadata": {},
   "outputs": [
    {
     "data": {
      "image/png": "[encoded data removed]",
      "text/plain": [
       "<Figure size 432x288 with 1 Axes>"
      ]
     },
     "metadata": {},
     "output_type": "display_data"
    }
   ],
   "source": [
    "plt.plot([ - p * np.log(p) - (1-p)* np.log(1-p) for p in np.linspace(0, 1, num=101)[1:-1] ])\n",
    "plt.xticks(np.linspace(0, 100, num=5), np.linspace(0, 1, num=5) );"
   ]
  },
  {
   "cell_type": "markdown",
   "metadata": {},
   "source": [
    "$$\\frac{\\partial H}{\\partial p}  = \\ln \\frac{1-p}{p} = 0 $$"
   ]
  },
  {
   "cell_type": "markdown",
   "metadata": {},
   "source": [
    "Энтропия максимльна при $p = 1/2$, т.к. мы не знаем какое событие более вероятно, то есть не имеем дополнительной информации об этом. "
   ]
  },
  {
   "cell_type": "markdown",
   "metadata": {},
   "source": [
    "Функция монотонно возрастает  на $(0;1/2]$,  убывает  на $(1/2;1)$"
   ]
  },
  {
   "cell_type": "markdown",
   "metadata": {},
   "source": [
    "$$\\frac{\\partial^2 H}{\\partial p^2}  =  \\frac{-1}{p(1-p)} $$\n",
    "\n",
    "$\\frac{\\partial^2 H}{\\partial p^2}$ меньше нуля на $(0;1) \\Rightarrow $ функция выпуклая"
   ]
  },
  {
   "cell_type": "markdown",
   "metadata": {},
   "source": [
    "б) Пусть теперь $X ∼ Exp(α)$. Найдите энтропию для случайной величины $X$. Как она зависит\n",
    "от $α$? Нарисуйте для разных $α$ функцию плотности случайной величины $X$ и поясните эту\n",
    "зависимость."
   ]
  },
  {
   "cell_type": "markdown",
   "metadata": {},
   "source": [
    "$$H =  -  E(\\ln f_X(x)) =  -  E(\\ln \\alpha e^{-\\alpha x})  = -  E(\\ln \\alpha -  \\alpha x )  \\\\= - \\ln \\alpha + \\alpha E( x )  = 1  - \\ln \\alpha \n",
    "$$"
   ]
  },
  {
   "cell_type": "code",
   "execution_count": 186,
   "metadata": {},
   "outputs": [
    {
     "data": {
      "image/png": "[encoded data removed]",
      "text/plain": [
       "<Figure size 432x288 with 1 Axes>"
      ]
     },
     "metadata": {},
     "output_type": "display_data"
    }
   ],
   "source": [
    "plt.plot([ 1 - np.log(p) for p in np.linspace(0, 10, num=101)[1:] ])\n",
    "plt.xticks(np.linspace(0, 100, num=5), np.linspace(0, 10, num=5) );"
   ]
  },
  {
   "cell_type": "markdown",
   "metadata": {},
   "source": [
    "Чем выше  $\\alpha$, тем менее полога функция распределения величины $X$ с экспоненциальным законом, тем точнее мы можем предсказать значение $X$, тем ниже энтропия."
   ]
  }
 ],
 "metadata": {
  "kernelspec": {
   "display_name": "Python 3",
   "language": "python",
   "name": "python3"
  },
  "language_info": {
   "codemirror_mode": {
    "name": "ipython",
    "version": 3
   },
   "file_extension": ".py",
   "mimetype": "text/x-python",
   "name": "python",
   "nbconvert_exporter": "python",
   "pygments_lexer": "ipython3",
   "version": "3.6.5"
  }
 },
 "nbformat": 4,
 "nbformat_minor": 2
}
