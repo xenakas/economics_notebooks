{
 "cells": [
  {
   "cell_type": "markdown",
   "metadata": {},
   "source": [
    "### Probability Theory"
   ]
  },
  {
   "cell_type": "markdown",
   "metadata": {},
   "source": [
    "- $P(A+B|C) = P(A|C)  + P(B|C)  -P(AB|C) $\n",
    "- $p(H_i|A)=\\dfrac{P(H_i)*P(A|H_i)}{p(A)}= \\dfrac{P(H_i)*P(A|H_i)}{\\sum_i P(H_i)*P(A|H_i)}$"
   ]
  },
  {
   "cell_type": "markdown",
   "metadata": {},
   "source": [
    "### Standard distributions"
   ]
  },
  {
   "cell_type": "markdown",
   "metadata": {},
   "source": [
    "1. Make table \n",
    "    - colnames = [PDF, E, Var, MGF, CF, PGF, Entropy, Fisher information]\n",
    "    - discrete = [bernoulli, binomial, hypergeometric, Geometric, Poisson]\n",
    "    - cont = [uniform, triangular, exp, gamma, beta, normal, log-normal]\n",
    "2. write down proofs\n",
    "3. additional information\n",
    "\n"
   ]
  },
  {
   "cell_type": "markdown",
   "metadata": {},
   "source": [
    "### Theorems"
   ]
  },
  {
   "cell_type": "markdown",
   "metadata": {},
   "source": [
    "#### De Moivre-Laplace and Poisson Limit Theorems"
   ]
  },
  {
   "cell_type": "markdown",
   "metadata": {},
   "source": [
    "##### Локальная теорема Муавра-Лапласа\n",
    "\n",
    "Если вероятность $p$ появления случайного события $A$ в каждом испытании постоянна, то вероятность $P_n(m)$ того, что в $n$ испытаниях событие $A$ наступит ровно $m$ раз, приближённо равна:\n",
    "\n",
    "$$P_n(m) \\approx \\dfrac{1}{\\sqrt{npq}} * \\phi(x),$$ \n",
    "\n",
    "где $\\phi(x) = \\dfrac{1}{\\sqrt{2\\pi}} * \\exp (-{x^2}/{2})$, $x = \\dfrac{m-np}{\\sqrt{npq}}$.\n",
    "\n",
    "При этом, чем больше , тем рассчитанная вероятность  будет лучше приближать точное значению , полученное по формуле Бернулли: $$P_n^m = C_n^mp^mq^{n-m}$$ \n",
    "\n",
    "Рекомендуемое минимальное количество  испытаний – примерно 50-100, в противном случае результат  может оказаться далёким от истины. Кроме того, локальная теорема Лапласа работает тем лучше, чем вероятность  ближе к 0,5, и наоборот – даёт существенную погрешность при значениях , близких к нулю либо единице. По этой причине ещё одним критерием эффективного использования формулы  является выполнение неравенства $npq>10$.\n",
    "\n",
    "\n",
    "__Proof:__\n",
    "\n",
    "We use Stirling's formula $r! \\sim \\sqrt{2\\pi r} r^r e^{-r}$ as $r\\to \\infty $\n",
    "\n",
    "...\n",
    "\n",
    "\n"
   ]
  },
  {
   "cell_type": "markdown",
   "metadata": {},
   "source": [
    "##### Интегральная теорема Муавра-Лапласа\n",
    "\n",
    "\n",
    "Если вероятность $p$ появления случайного события $A$ в каждом испытании постоянна, то вероятность $P_n(m_1\\leq m \\leq m_2)$ того, что в $n$ испытаниях событие $A$ наступит не менее $m_1$ и не более $m_2$ раз, приближённо равна:\n",
    "$$P_n(m_1\\leq m \\leq m_2) \\approx \\Phi(x_2) - \\Phi(x_1) ,$$\n",
    "где $\\Phi(x) = \\dfrac{1}{\\sqrt{2\\pi}} \\int_0^x \\exp(-z^2/2)dz$\n",
    "\n",
    "При этом количество испытаний, разумеется, тоже должно быть достаточно большим и вероятность  не слишком мала/велика (ориентировочно $npq>10$), иначе приближение будет плохим. "
   ]
  },
  {
   "cell_type": "markdown",
   "metadata": {},
   "source": [
    "- Функция $\\Phi(x)$ называется функцией Лапласа (интеграл верятностей, функция ошибок). \n",
    "\n",
    "$$ \\Phi(x) = \\dfrac{2}{\\sqrt{\\pi}} \\int_0^x \\exp(-z^2)dz$$"
   ]
  },
  {
   "cell_type": "markdown",
   "metadata": {},
   "source": [
    "![](http://matica.org.ua/images/stories/KVM4/image322.png)"
   ]
  },
  {
   "cell_type": "markdown",
   "metadata": {},
   "source": [
    "Нормированная Функция Лапласа, которая связана с функцией Лапласа соотношением:\n",
    "\n",
    "$$\\bar{\\Phi}(x) = 1/2 \\Phi(x/\\sqrt{2}) = \\dfrac{1}{\\sqrt{2\\pi}} \\int_0^x \\exp(-z^2/2)dz$$\n",
    "\n",
    "\n",
    "- $\\Phi(0)=0$\n",
    "- $\\Phi(1)=0.3413$\n",
    "- $\\Phi(2)=0.4772$\n",
    "- $\\Phi(x) \\approx 0.5, x\\geq4$\n",
    "- $\\Phi(-x) = \\Phi(x) $\n",
    "\n",
    "[Таблица значений интегральной функции Лапласа](https://helpstat.ru/tablicza-znachenij-integralnoj-funkczii-laplasa/)"
   ]
  },
  {
   "cell_type": "markdown",
   "metadata": {},
   "source": [
    "\n"
   ]
  }
 ],
 "metadata": {
  "hide_input": false,
  "kernelspec": {
   "display_name": "Python 3.6 (for geoplots)",
   "language": "python",
   "name": "geoplots3.6"
  },
  "language_info": {
   "codemirror_mode": {
    "name": "ipython",
    "version": 3
   },
   "file_extension": ".py",
   "mimetype": "text/x-python",
   "name": "python",
   "nbconvert_exporter": "python",
   "pygments_lexer": "ipython3",
   "version": "3.6.7"
  },
  "latex_envs": {
   "LaTeX_envs_menu_present": true,
   "autoclose": true,
   "autocomplete": true,
   "bibliofile": "biblio.bib",
   "cite_by": "apalike",
   "current_citInitial": 1,
   "eqLabelWithNumbers": true,
   "eqNumInitial": 1,
   "hotkeys": {
    "equation": "Ctrl-E",
    "itemize": "Ctrl-I"
   },
   "labels_anchors": false,
   "latex_user_defs": false,
   "report_style_numbering": false,
   "user_envs_cfg": false
  },
  "toc": {
   "base_numbering": 1,
   "nav_menu": {},
   "number_sections": true,
   "sideBar": true,
   "skip_h1_title": false,
   "title_cell": "Table of Contents",
   "title_sidebar": "Contents",
   "toc_cell": false,
   "toc_position": {},
   "toc_section_display": true,
   "toc_window_display": false
  },
  "varInspector": {
   "cols": {
    "lenName": 16,
    "lenType": 16,
    "lenVar": 40
   },
   "kernels_config": {
    "python": {
     "delete_cmd_postfix": "",
     "delete_cmd_prefix": "del ",
     "library": "var_list.py",
     "varRefreshCmd": "print(var_dic_list())"
    },
    "r": {
     "delete_cmd_postfix": ") ",
     "delete_cmd_prefix": "rm(",
     "library": "var_list.r",
     "varRefreshCmd": "cat(var_dic_list()) "
    }
   },
   "types_to_exclude": [
    "module",
    "function",
    "builtin_function_or_method",
    "instance",
    "_Feature"
   ],
   "window_display": false
  }
 },
 "nbformat": 4,
 "nbformat_minor": 2
}
